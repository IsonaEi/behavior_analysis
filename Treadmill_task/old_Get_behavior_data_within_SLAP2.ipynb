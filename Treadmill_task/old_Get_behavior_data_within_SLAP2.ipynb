{
 "cells": [
  {
   "cell_type": "code",
   "execution_count": 1,
   "metadata": {},
   "outputs": [
    {
     "name": "stdout",
     "output_type": "stream",
     "text": [
      "當前處理檔案:G268_0817_stage3_image_150cm_12ul.csv\n",
      "檔案格式正確\n"
     ]
    }
   ],
   "source": [
    "#load data file\n",
    "import os\n",
    "import pandas as pd\n",
    "from tkinter import Tk, filedialog\n",
    "\n",
    "# 選取多個資料檔案\n",
    "root = Tk()\n",
    "root.attributes('-topmost', True)  # 將主視窗設置為最上層\n",
    "root.withdraw()\n",
    "\n",
    "data_file_paths = filedialog.askopenfilenames(parent = root ,title='選擇資料檔案', filetypes=[('CSV files', '*.csv')])\n",
    "\n",
    "all_raw_df = {}\n",
    "\n",
    "\n",
    "# 循環處理每個選取的檔案\n",
    "for index, data_file_dir in enumerate(data_file_paths):\n",
    "    data_file_name = os.path.basename(data_file_dir)\n",
    "    file_name_parts = data_file_name.split('_')\n",
    "    mouseID = file_name_parts[0]\n",
    "    Date = file_name_parts[1]\n",
    "    schedule = file_name_parts[2]\n",
    "\n",
    "    print(\"當前處理檔案:\" + data_file_name)\n",
    "\n",
    "    df = pd.read_csv(data_file_dir)\n",
    "    if df.columns[0] == \"Trial_number\":\n",
    "        print(\"檔案格式正確\")\n",
    "    else:\n",
    "        print(\"檔案格式錯誤\")\n",
    "\n",
    "    df = df.dropna()\n",
    "    all_raw_df[index] = df\n"
   ]
  },
  {
   "cell_type": "code",
   "execution_count": 6,
   "metadata": {},
   "outputs": [],
   "source": [
    "# 設定目標時長\n",
    "target_duration = 60  # 單位：秒\n",
    "\n",
    "# 重置索引為連續的整數\n",
    "df.reset_index(drop=True, inplace=True)\n",
    "\n",
    "# 將單獨或只出現兩次的 0 改為 1\n",
    "for i in range(1, len(all_raw_df[0])-1):\n",
    "    if all_raw_df[0]['SLAP2_acquiring'][i] == 0 and all_raw_df[0]['SLAP2_acquiring'][i-1] == 1 and all_raw_df[0]['SLAP2_acquiring'][i+1] == 1:\n",
    "        all_raw_df[0].loc[i, 'SLAP2_acquiring'] = 1\n",
    "\n",
    "# 找尋連續的 SLAP2_acquiring 為 1 的部分\n",
    "consecutive_ones = (all_raw_df[0]['SLAP2_acquiring'] != all_raw_df[0]['SLAP2_acquiring'].shift()).cumsum()\n",
    "\n",
    "# 計算每個連續部分的起始和結束時間\n",
    "grouped = all_raw_df[0].groupby(consecutive_ones)\n",
    "start_times = grouped['Time'].first()\n",
    "end_times = grouped['Time'].last()\n",
    "\n",
    "# 找到與目標時長相近的部分\n",
    "selected_segments = []\n",
    "for start, end in zip(start_times, end_times):\n",
    "    duration = (end - start) / 1000\n",
    "    if target_duration-1 <= duration <= target_duration + 1:\n",
    "        selected_segments = selected_segments + [(start, end)]\n",
    "\n",
    "\n",
    "# 創建新的 DataFrame 以存放結果\n",
    "selected_data = pd.DataFrame(columns=all_raw_df[0].columns)\n",
    "\n",
    "# 根據找到的時段將資料加入到新的 DataFrame 中\n",
    "for start, end in selected_segments:\n",
    "    selected_data = pd.concat([selected_data, all_raw_df[0][(all_raw_df[0]['Time'] >= start) & (all_raw_df[0]['Time'] <= end)]], axis=0)\n",
    "\n",
    "# 重置時間為從 0 開始\n",
    "selected_data['Time'] = selected_data['Time'] - selected_data['Time'].iloc[0]\n",
    "\n",
    "# 將結果存成新的 CSV 檔案\n",
    "selected_data.to_csv('selected_data.csv', index=False)\n"
   ]
  }
 ],
 "metadata": {
  "kernelspec": {
   "display_name": "base",
   "language": "python",
   "name": "python3"
  },
  "language_info": {
   "codemirror_mode": {
    "name": "ipython",
    "version": 3
   },
   "file_extension": ".py",
   "mimetype": "text/x-python",
   "name": "python",
   "nbconvert_exporter": "python",
   "pygments_lexer": "ipython3",
   "version": "3.9.13"
  },
  "orig_nbformat": 4
 },
 "nbformat": 4,
 "nbformat_minor": 2
}
