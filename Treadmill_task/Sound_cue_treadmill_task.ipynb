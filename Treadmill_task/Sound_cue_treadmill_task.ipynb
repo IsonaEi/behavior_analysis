{
 "cells": [
  {
   "cell_type": "code",
   "execution_count": null,
   "metadata": {},
   "outputs": [],
   "source": [
    "def plot_scatter(df, file_name, output):\n",
    "    # 創建圖形和軸\n",
    "    fig, ax = plt.subplots(figsize=(10, 6), dpi=1200)\n",
    "\n",
    "    # 設置底色\n",
    "    ax.axhspan(150, 200, facecolor='cyan', label='reward zone')\n",
    "\n",
    "    # 繪製藍色虛線\n",
    "    ax.axhline(y=150, color='blue', linestyle='dashed', linewidth=1)\n",
    "    ax.axhline(y=200, color='blue', linestyle='dashed', linewidth=1)\n",
    "\n",
    "    # 繪製深灰點\n",
    "    ax.scatter(df['Time'] / (1000 * 60), df['Distance'], color='darkgray', s=0.1, label='moving trace', marker=',')\n",
    "\n",
    "    # 繪製licking\n",
    "    licking_points = np.where(df['Licking_count'].diff() != 0)[0]\n",
    "    plt.scatter(df['Time'].iloc[licking_points] / (1000 * 60), df['Distance'].iloc[licking_points], color='red', s=1, label='Licking')\n",
    "\n",
    "    # 設置圖形的原點位置\n",
    "    ax.spines['left'].set_position('zero')\n",
    "    ax.spines['bottom'].set_position('zero')\n",
    "\n",
    "    # 圖例\n",
    "    plt.legend(scatterpoints=5)\n",
    "\n",
    "    # 坐標軸標題\n",
    "    plt.xlabel('Time (minutes)')\n",
    "    plt.ylabel('Distance (cm)')\n",
    "\n",
    "    # 設置軸範圍\n",
    "    ax.set_xlim(left=0)\n",
    "    ax.set_ylim(bottom=0)\n",
    "    ax.set_ylim(0, 200)\n",
    "\n",
    "\n",
    "    # 圖表標題\n",
    "    plt.title('Plot of Distance vs Time\\nFile: {}'.format(file_name))\n",
    "\n",
    "    # 儲存圖片\n",
    "    # 使用os模組的split和splitext函數分割檔案路徑和檔案副檔名\n",
    "    date = file_name.split(\"_\")[1]\n",
    "    output_file = output + r'/' + 'plots' + r'/' + date + r'/' + date + '_Trajectory' + '.jpg'\n",
    "    plt.savefig(output_file, dpi = 1200)\n",
    "\n",
    "    # 關閉圖形\n",
    "    plt.close(fig)\n",
    "\n"
   ]
  },
  {
   "cell_type": "code",
   "execution_count": 37,
   "metadata": {},
   "outputs": [
    {
     "name": "stdout",
     "output_type": "stream",
     "text": [
      "選擇的數據文件路徑： G:/works/Data_archive/Line_maze/2023summer/G270/G270_0706_stage3_150cm_20ul.csv\n"
     ]
    }
   ],
   "source": [
    "#單一檔案\n",
    "import os\n",
    "from tkinter import Tk\n",
    "from tkinter.filedialog import askopenfilename\n",
    "from tkinter.filedialog import askdirectory\n",
    "import pandas as pd\n",
    "import matplotlib.pyplot as plt\n",
    "import matplotlib.pyplot as plt\n",
    "import numpy as np\n",
    "\n",
    "# 創建Tkinter窗口\n",
    "root = Tk()\n",
    "root.withdraw()  # 隱藏主窗口\n",
    "\n",
    "# 顯示檔案對話框並選擇數據文件\n",
    "file_path = askopenfilename(title='選擇來源資料檔案')\n",
    "output_path = askdirectory(title='選擇輸出位置')\n",
    "\n",
    "# 處理選擇的數據文件\n",
    "if file_path:\n",
    "    # 在此處進行數據處理和視覺化\n",
    "    print('選擇的數據文件路徑：', file_path)\n",
    "else:\n",
    "    print('未選擇任何數據文件')\n",
    "\n",
    "df = pd.read_csv(file_path)\n",
    "\n",
    "# 關閉Tkinter窗口\n",
    "root.destroy()\n",
    "\n",
    "plot_scatter(df, file_path, output_path)"
   ]
  },
  {
   "cell_type": "code",
   "execution_count": 70,
   "metadata": {},
   "outputs": [
    {
     "name": "stdout",
     "output_type": "stream",
     "text": [
      "選擇的資料夾路徑： G:/works/Data_archive/Line_maze/2023summer/G270\n"
     ]
    }
   ],
   "source": [
    "#批量檔案\n",
    "import os\n",
    "from tkinter import Tk\n",
    "from tkinter.filedialog import askdirectory\n",
    "import pandas as pd\n",
    "import matplotlib.pyplot as plt\n",
    "import numpy as np\n",
    "\n",
    "# 創建 Tkinter 窗口\n",
    "root = Tk()\n",
    "root.withdraw()  # 隱藏主窗口\n",
    "\n",
    "# 顯示資料夾對話框並選擇資料夾\n",
    "folder_path = askdirectory(title='選擇來源資料夾')\n",
    "output_path = askdirectory(title='選擇輸出位置')\n",
    "\n",
    "# 處理選擇的資料夾\n",
    "if folder_path:\n",
    "    # 在此處進行數據處理\n",
    "    print('選擇的資料夾路徑：', folder_path)\n",
    "\n",
    "    # 儲存所有 CSV 檔案的資料\n",
    "    dataframes = {}\n",
    "\n",
    "    # 列出資料夾中的所有檔案\n",
    "    file_names = os.listdir(folder_path)\n",
    "\n",
    "    # 遍歷每個檔案，篩選出 CSV 檔案並讀取資料\n",
    "    for file_name in file_names:\n",
    "        if file_name.endswith('.csv'):\n",
    "            file_path = os.path.join(folder_path, file_name)\n",
    "            df = pd.read_csv(file_path)\n",
    "            dataframes[file_name] = df\n",
    "\n",
    "else:\n",
    "    print('未選擇任何資料夾')\n",
    "\n",
    "# 關閉 Tkinter 窗口\n",
    "root.destroy()\n",
    "\n",
    "for file_name in file_names:\n",
    "    if file_name.endswith('.csv'):\n",
    "        df = dataframes[file_name]\n",
    "        plot_scatter(df, file_name, output_path)\n"
   ]
  }
 ],
 "metadata": {
  "kernelspec": {
   "display_name": "base",
   "language": "python",
   "name": "python3"
  },
  "language_info": {
   "codemirror_mode": {
    "name": "ipython",
    "version": 3
   },
   "file_extension": ".py",
   "mimetype": "text/x-python",
   "name": "python",
   "nbconvert_exporter": "python",
   "pygments_lexer": "ipython3",
   "version": "3.9.13"
  },
  "orig_nbformat": 4
 },
 "nbformat": 4,
 "nbformat_minor": 2
}
