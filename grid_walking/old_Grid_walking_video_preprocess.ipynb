{
 "cells": [
  {
   "cell_type": "code",
   "execution_count": 3,
   "metadata": {},
   "outputs": [
    {
     "data": {
      "application/vnd.jupyter.widget-view+json": {
       "model_id": "af3db8ab180444c9b18e1896768647db",
       "version_major": 2,
       "version_minor": 0
      },
      "text/plain": [
       "total_file:   0%|          | 0/19 [00:00<?, ?it/s]"
      ]
     },
     "metadata": {},
     "output_type": "display_data"
    },
    {
     "data": {
      "application/vnd.jupyter.widget-view+json": {
       "model_id": "2dd548a5ce094cb3826ed9aa60ff3ba9",
       "version_major": 2,
       "version_minor": 0
      },
      "text/plain": [
       "6L_5.MP4:   0%|          | 0/7200 [00:00<?, ?it/s]"
      ]
     },
     "metadata": {},
     "output_type": "display_data"
    },
    {
     "ename": "KeyboardInterrupt",
     "evalue": "",
     "output_type": "error",
     "traceback": [
      "\u001b[1;31m---------------------------------------------------------------------------\u001b[0m",
      "\u001b[1;31mKeyboardInterrupt\u001b[0m                         Traceback (most recent call last)",
      "Cell \u001b[1;32mIn[3], line 66\u001b[0m\n\u001b[0;32m     63\u001b[0m \u001b[38;5;66;03m# 使用 tqdm 顯示進度條\u001b[39;00m\n\u001b[0;32m     64\u001b[0m \u001b[38;5;28;01mfor\u001b[39;00m now_frames \u001b[38;5;129;01min\u001b[39;00m tqdm(\u001b[38;5;28mrange\u001b[39m(end_frame), desc\u001b[38;5;241m=\u001b[39mfilename):  \u001b[38;5;66;03m# 使用tqdm迭代\u001b[39;00m\n\u001b[1;32m---> 66\u001b[0m     ret, frame \u001b[38;5;241m=\u001b[39m \u001b[43mcap\u001b[49m\u001b[38;5;241;43m.\u001b[39;49m\u001b[43mread\u001b[49m\u001b[43m(\u001b[49m\u001b[43m)\u001b[49m\n\u001b[0;32m     68\u001b[0m     \u001b[38;5;66;03m# 當讀取完所有幀，退出循環\u001b[39;00m\n\u001b[0;32m     69\u001b[0m     \u001b[38;5;28;01mif\u001b[39;00m \u001b[38;5;129;01mnot\u001b[39;00m ret \u001b[38;5;129;01mor\u001b[39;00m now_frames \u001b[38;5;241m>\u001b[39m\u001b[38;5;241m=\u001b[39m end_frame :\n",
      "\u001b[1;31mKeyboardInterrupt\u001b[0m: "
     ]
    }
   ],
   "source": [
    "import os\n",
    "import cv2\n",
    "import psutil\n",
    "from tkinter import Tk\n",
    "from tkinter.filedialog import askdirectory\n",
    "from tqdm.notebook import tqdm\n",
    "\n",
    "p = psutil.Process(os.getpid())\n",
    "p.cpu_affinity([0, 1, 2, 3, 4, 5, 6, 7])\n",
    "\n",
    "start_time = 11 #sec\n",
    "duration = 1 #min\n",
    "video_fps = 120\n",
    "\n",
    "# 開啟資料夾對話框，讓使用者選擇資料夾\n",
    "Tk().withdraw()\n",
    "foldername = askdirectory(title='選擇資料夾')\n",
    "\n",
    "# 取得資料夾內的所有影片檔案\n",
    "video_files = [f for f in os.listdir(foldername) if f.endswith('.MP4')]\n",
    "# 輸出資料夾設定\n",
    "output_dir = askdirectory(title='選擇輸出資料夾')\n",
    "\n",
    "for filename in tqdm(video_files, desc='total_file'):\n",
    "   # 影片檔案的完整路徑\n",
    "    filepath = os.path.join(foldername, filename)\n",
    "\n",
    "    # 讀取影片\n",
    "    cap = cv2.VideoCapture(filepath)\n",
    "\n",
    "    # 獲取原始影片的尺寸\n",
    "    width = int(cap.get(cv2.CAP_PROP_FRAME_WIDTH))\n",
    "    height = int(cap.get(cv2.CAP_PROP_FRAME_HEIGHT))\n",
    "\n",
    "    # 新的裁切後的尺寸\n",
    "    new_width = 1150 \n",
    "    new_height = height // 4  # 裁去上四分之一和下四分之一\n",
    "\n",
    "    # 計算裁切後的上下邊界\n",
    "    top = 30\n",
    "    bottom = top + new_height-80\n",
    "    left = 380\n",
    "    right = new_width+left\n",
    "\n",
    "    new_width = int((right - left)//1.33)\n",
    "    new_height = int((bottom - top)//1.33)\n",
    "\n",
    "    # 輸出影片設定\n",
    "    fourcc = cv2.VideoWriter_fourcc(*'mp4v')\n",
    "    fps = cap.get(cv2.CAP_PROP_FPS)\n",
    "    filename_without_ext = os.path.splitext(filename)[0]\n",
    "    output_filename = os.path.join(output_dir, f\"{filename_without_ext}_cropped.mp4\")\n",
    "    output = cv2.VideoWriter(output_filename, fourcc, fps, (new_width, new_height), isColor=False)\n",
    "\n",
    "    total_frames = int(cap.get(cv2.CAP_PROP_FRAME_COUNT))\n",
    "    end_frame = (60*duration)*video_fps\n",
    "    start_frames = start_time*video_fps\n",
    "    now_frames = start_frames\n",
    "\n",
    "    cap.set(cv2.CAP_PROP_POS_FRAMES, int(start_frames))\n",
    "    gpu_frame = cv2.cuda_GpuMat()\n",
    "\n",
    "    # 使用 tqdm 顯示進度條\n",
    "    for now_frames in tqdm(range(end_frame), desc=filename):  # 使用tqdm迭代\n",
    "        \n",
    "        ret, frame = cap.read()\n",
    "    \n",
    "        # 當讀取完所有幀，退出循環\n",
    "        if not ret or now_frames >= end_frame :\n",
    "            break\n",
    "        \n",
    "        if now_frames >= end_frame :    \n",
    "            print('break')\n",
    "\n",
    "        # 裁切畫面大小\n",
    "        cropped_frame = frame[top:bottom, left:right]\n",
    "\n",
    "        # 進行下採樣\n",
    "        resized_image = cv2.resize(cropped_frame, (new_width, new_height))\n",
    "\n",
    "        # 進行灰階轉換（可選）\n",
    "        gray_image = cv2.cvtColor(resized_image, cv2.COLOR_BGR2GRAY)\n",
    "\n",
    "        # 使用高斯模糊進行影像平滑化\n",
    "        blurred_image = cv2.GaussianBlur(gray_image, (0, 0), 3)\n",
    "        \n",
    "        # 計算Unsharp Mask濾波器\n",
    "        output_image = cv2.addWeighted(gray_image, 2, blurred_image, -1, 0)\n",
    "\n",
    "        # # 輸出裁切後的影片\n",
    "        output.write(output_image)\n",
    "\n",
    "        # # # 顯示裁切後的畫面\n",
    "        # cv2.imshow('unsharp_mask', output_image)\n",
    "\n",
    "        # # 按下'q'鍵退出\n",
    "        # if cv2.waitKey(1) & 0xFF == ord('q'):\n",
    "        #     break\n",
    "\n",
    "    # 釋放資源\n",
    "    cap.release()\n",
    "    output.release() \n",
    "\n",
    "cv2.destroyAllWindows()"
   ]
  },
  {
   "cell_type": "code",
   "execution_count": 1,
   "metadata": {},
   "outputs": [
    {
     "data": {
      "application/vnd.jupyter.widget-view+json": {
       "model_id": "27994e37618e42e48b429c047b6c13f1",
       "version_major": 2,
       "version_minor": 0
      },
      "text/plain": [
       "6L_5.MP4:   0%|          | 0/216000 [00:00<?, ?it/s]"
      ]
     },
     "metadata": {},
     "output_type": "display_data"
    },
    {
     "data": {
      "application/vnd.jupyter.widget-view+json": {
       "model_id": "c5b07d4bd6e74e4ea7b1e724fb1427a9",
       "version_major": 2,
       "version_minor": 0
      },
      "text/plain": [
       "6F_6.MP4:   0%|          | 0/216000 [00:00<?, ?it/s]"
      ]
     },
     "metadata": {},
     "output_type": "display_data"
    },
    {
     "data": {
      "application/vnd.jupyter.widget-view+json": {
       "model_id": "a0736df32ce8402794543c9efe2edc62",
       "version_major": 2,
       "version_minor": 0
      },
      "text/plain": [
       "6K_10.MP4:   0%|          | 0/216000 [00:00<?, ?it/s]"
      ]
     },
     "metadata": {},
     "output_type": "display_data"
    },
    {
     "data": {
      "application/vnd.jupyter.widget-view+json": {
       "model_id": "af0d9eab91b34dd49534965d72f17308",
       "version_major": 2,
       "version_minor": 0
      },
      "text/plain": [
       "6B_10.MP4:   0%|          | 0/216000 [00:00<?, ?it/s]"
      ]
     },
     "metadata": {},
     "output_type": "display_data"
    },
    {
     "data": {
      "application/vnd.jupyter.widget-view+json": {
       "model_id": "c3e8e0ca9721450086a84497c20da52e",
       "version_major": 2,
       "version_minor": 0
      },
      "text/plain": [
       "3H_7.MP4:   0%|          | 0/216000 [00:00<?, ?it/s]"
      ]
     },
     "metadata": {},
     "output_type": "display_data"
    },
    {
     "data": {
      "application/vnd.jupyter.widget-view+json": {
       "model_id": "230ad82cd05d4ce58fff3930b63634d2",
       "version_major": 2,
       "version_minor": 0
      },
      "text/plain": [
       "4H_8.MP4:   0%|          | 0/216000 [00:00<?, ?it/s]"
      ]
     },
     "metadata": {},
     "output_type": "display_data"
    },
    {
     "data": {
      "application/vnd.jupyter.widget-view+json": {
       "model_id": "50b49da12eed4529864987bc7f0d6a70",
       "version_major": 2,
       "version_minor": 0
      },
      "text/plain": [
       "2E_7.MP4:   0%|          | 0/216000 [00:00<?, ?it/s]"
      ]
     },
     "metadata": {},
     "output_type": "display_data"
    },
    {
     "data": {
      "application/vnd.jupyter.widget-view+json": {
       "model_id": "99edaae0aaab4b19b2c9fd0a0e080b39",
       "version_major": 2,
       "version_minor": 0
      },
      "text/plain": [
       "6C_8.MP4:   0%|          | 0/216000 [00:00<?, ?it/s]"
      ]
     },
     "metadata": {},
     "output_type": "display_data"
    },
    {
     "data": {
      "application/vnd.jupyter.widget-view+json": {
       "model_id": "c516e187eec94d298f9e99665308455f",
       "version_major": 2,
       "version_minor": 0
      },
      "text/plain": [
       "6G_12.MP4:   0%|          | 0/216000 [00:00<?, ?it/s]"
      ]
     },
     "metadata": {},
     "output_type": "display_data"
    },
    {
     "data": {
      "application/vnd.jupyter.widget-view+json": {
       "model_id": "63595eddc03240c891a967ad40900492",
       "version_major": 2,
       "version_minor": 0
      },
      "text/plain": [
       "6A_10.MP4:   0%|          | 0/216000 [00:00<?, ?it/s]"
      ]
     },
     "metadata": {},
     "output_type": "display_data"
    },
    {
     "data": {
      "application/vnd.jupyter.widget-view+json": {
       "model_id": "fe955343c6a245cbad0a42d5871f8912",
       "version_major": 2,
       "version_minor": 0
      },
      "text/plain": [
       "4B_7.MP4:   0%|          | 0/216000 [00:00<?, ?it/s]"
      ]
     },
     "metadata": {},
     "output_type": "display_data"
    },
    {
     "data": {
      "application/vnd.jupyter.widget-view+json": {
       "model_id": "4ea382e28d1a40b885ca41104839ceb1",
       "version_major": 2,
       "version_minor": 0
      },
      "text/plain": [
       "2A_8.MP4:   0%|          | 0/216000 [00:00<?, ?it/s]"
      ]
     },
     "metadata": {},
     "output_type": "display_data"
    },
    {
     "data": {
      "application/vnd.jupyter.widget-view+json": {
       "model_id": "03e23c7ad15f43b097fb8f0300e95e02",
       "version_major": 2,
       "version_minor": 0
      },
      "text/plain": [
       "3E_8.MP4:   0%|          | 0/216000 [00:00<?, ?it/s]"
      ]
     },
     "metadata": {},
     "output_type": "display_data"
    },
    {
     "data": {
      "application/vnd.jupyter.widget-view+json": {
       "model_id": "d06dfbd827564d81abfb3b90f2812856",
       "version_major": 2,
       "version_minor": 0
      },
      "text/plain": [
       "3I_8.MP4:   0%|          | 0/216000 [00:00<?, ?it/s]"
      ]
     },
     "metadata": {},
     "output_type": "display_data"
    },
    {
     "data": {
      "application/vnd.jupyter.widget-view+json": {
       "model_id": "0c22f558148d4f9da3b3b210ff4b6769",
       "version_major": 2,
       "version_minor": 0
      },
      "text/plain": [
       "4A_7.MP4:   0%|          | 0/216000 [00:00<?, ?it/s]"
      ]
     },
     "metadata": {},
     "output_type": "display_data"
    },
    {
     "data": {
      "application/vnd.jupyter.widget-view+json": {
       "model_id": "63f9b5b007d44779b0647f9ffee22596",
       "version_major": 2,
       "version_minor": 0
      },
      "text/plain": [
       "4C_06.MP4:   0%|          | 0/216000 [00:00<?, ?it/s]"
      ]
     },
     "metadata": {},
     "output_type": "display_data"
    },
    {
     "data": {
      "application/vnd.jupyter.widget-view+json": {
       "model_id": "818b0ce2cf25405b98d0d9463af18f7d",
       "version_major": 2,
       "version_minor": 0
      },
      "text/plain": [
       "4G_8.MP4:   0%|          | 0/216000 [00:00<?, ?it/s]"
      ]
     },
     "metadata": {},
     "output_type": "display_data"
    },
    {
     "data": {
      "application/vnd.jupyter.widget-view+json": {
       "model_id": "5f2620cee4e04e8ab30c8af933e2e9e0",
       "version_major": 2,
       "version_minor": 0
      },
      "text/plain": [
       "2B_8.MP4:   0%|          | 0/216000 [00:00<?, ?it/s]"
      ]
     },
     "metadata": {},
     "output_type": "display_data"
    },
    {
     "data": {
      "application/vnd.jupyter.widget-view+json": {
       "model_id": "5e9aa691c58242c1b65b94c21f9f9936",
       "version_major": 2,
       "version_minor": 0
      },
      "text/plain": [
       "6E_7.MP4:   0%|          | 0/216000 [00:00<?, ?it/s]"
      ]
     },
     "metadata": {},
     "output_type": "display_data"
    }
   ],
   "source": [
    "import os\n",
    "import cv2\n",
    "import psutil\n",
    "from tkinter import Tk\n",
    "from tkinter.filedialog import askdirectory\n",
    "from tqdm.notebook import tqdm\n",
    "from concurrent.futures import ThreadPoolExecutor, as_completed\n",
    "\n",
    "\n",
    "# Parameters\n",
    "start_time = 11  # sec\n",
    "duration = 30  # min\n",
    "video_fps = 120\n",
    "\n",
    "# Open folder dialog to select folder\n",
    "Tk().withdraw()\n",
    "foldername = askdirectory(title='選擇資料夾')\n",
    "\n",
    "# Get all video files in the folder\n",
    "video_files = [f for f in os.listdir(foldername) if f.endswith('.MP4')]\n",
    "# Set output folder\n",
    "output_dir = askdirectory(title='選擇輸出資料夾')\n",
    "\n",
    "# Function to process each video file\n",
    "def process_video(filename):\n",
    "    try:\n",
    "        filepath = os.path.join(foldername, filename)\n",
    "        cap = cv2.VideoCapture(filepath)\n",
    "\n",
    "        width = int(cap.get(cv2.CAP_PROP_FRAME_WIDTH))\n",
    "        height = int(cap.get(cv2.CAP_PROP_FRAME_HEIGHT))\n",
    "\n",
    "        new_width = 1150\n",
    "        new_height = height // 4\n",
    "\n",
    "        top = 30\n",
    "        bottom = top + new_height - 80\n",
    "        left = 380\n",
    "        right = new_width + left\n",
    "\n",
    "        new_width = int((right - left) // 1.33)\n",
    "        new_height = int((bottom - top) // 1.33)\n",
    "\n",
    "        fourcc = cv2.VideoWriter_fourcc(*'mp4v')\n",
    "        fps = cap.get(cv2.CAP_PROP_FPS)\n",
    "        filename_without_ext = os.path.splitext(filename)[0]\n",
    "        output_filename = os.path.join(output_dir, f\"{filename_without_ext}_cropped.mp4\")\n",
    "        output = cv2.VideoWriter(output_filename, fourcc, fps, (new_width, new_height), isColor=False)\n",
    "\n",
    "        total_frames = int(cap.get(cv2.CAP_PROP_FRAME_COUNT))\n",
    "        end_frame = (60 * duration) * video_fps\n",
    "        start_frames = start_time * video_fps\n",
    "        now_frames = start_frames\n",
    "\n",
    "        cap.set(cv2.CAP_PROP_POS_FRAMES, int(start_frames))\n",
    "\n",
    "        for now_frames in tqdm(range(end_frame), desc=filename):\n",
    "            ret, frame = cap.read()\n",
    "\n",
    "            if not ret or now_frames >= end_frame:\n",
    "                break\n",
    "\n",
    "            cropped_frame = frame[top:bottom, left:right]\n",
    "            resized_image = cv2.resize(cropped_frame, (new_width, new_height))\n",
    "            gray_image = cv2.cvtColor(resized_image, cv2.COLOR_BGR2GRAY)\n",
    "            blurred_image = cv2.GaussianBlur(gray_image, (0, 0), 3)\n",
    "            output_image = cv2.addWeighted(gray_image, 2, blurred_image, -1, 0)\n",
    "\n",
    "            output.write(output_image)\n",
    "\n",
    "        cap.release()\n",
    "        output.release()\n",
    "    except Exception as e:\n",
    "        print(f\"Error processing {filename}: {e}\")\n",
    "    finally:\n",
    "        cv2.destroyAllWindows()\n",
    "\n",
    "if __name__ == '__main__':\n",
    "    with ThreadPoolExecutor(max_workers=psutil.cpu_count(logical=False)) as executor:\n",
    "        futures = [executor.submit(process_video, filename) for filename in video_files]\n",
    "        for future in as_completed(futures):\n",
    "            future.result()"
   ]
  }
 ],
 "metadata": {
  "kernelspec": {
   "display_name": "napari-env",
   "language": "python",
   "name": "python3"
  },
  "language_info": {
   "codemirror_mode": {
    "name": "ipython",
    "version": 3
   },
   "file_extension": ".py",
   "mimetype": "text/x-python",
   "name": "python",
   "nbconvert_exporter": "python",
   "pygments_lexer": "ipython3",
   "version": "3.10.14"
  },
  "orig_nbformat": 4
 },
 "nbformat": 4,
 "nbformat_minor": 2
}
