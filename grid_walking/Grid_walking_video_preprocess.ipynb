{
 "cells": [
  {
   "cell_type": "code",
   "execution_count": 1,
   "metadata": {},
   "outputs": [
    {
     "data": {
      "application/vnd.jupyter.widget-view+json": {
       "model_id": "0e65afc235c0468d86b9a9002a43db2d",
       "version_major": 2,
       "version_minor": 0
      },
      "text/plain": [
       "total_file:   0%|          | 0/6 [00:00<?, ?it/s]"
      ]
     },
     "metadata": {},
     "output_type": "display_data"
    },
    {
     "data": {
      "application/vnd.jupyter.widget-view+json": {
       "model_id": "714dfd5c1718486e9dc42b93cafd149a",
       "version_major": 2,
       "version_minor": 0
      },
      "text/plain": [
       "DoB0526a.MP4:   0%|          | 0/30000 [00:00<?, ?it/s]"
      ]
     },
     "metadata": {},
     "output_type": "display_data"
    },
    {
     "data": {
      "application/vnd.jupyter.widget-view+json": {
       "model_id": "b3f22c5045a042968eb74c767d59145a",
       "version_major": 2,
       "version_minor": 0
      },
      "text/plain": [
       "DoB1222a.MP4:   0%|          | 0/30000 [00:00<?, ?it/s]"
      ]
     },
     "metadata": {},
     "output_type": "display_data"
    },
    {
     "data": {
      "application/vnd.jupyter.widget-view+json": {
       "model_id": "d5c343f0512e4c91ae2b72f6c58ab090",
       "version_major": 2,
       "version_minor": 0
      },
      "text/plain": [
       "DoB1222b.MP4:   0%|          | 0/30000 [00:00<?, ?it/s]"
      ]
     },
     "metadata": {},
     "output_type": "display_data"
    },
    {
     "data": {
      "application/vnd.jupyter.widget-view+json": {
       "model_id": "ede22f2b482a4362bfab0601b86dbb86",
       "version_major": 2,
       "version_minor": 0
      },
      "text/plain": [
       "DoB0526b.MP4:   0%|          | 0/30000 [00:00<?, ?it/s]"
      ]
     },
     "metadata": {},
     "output_type": "display_data"
    },
    {
     "data": {
      "application/vnd.jupyter.widget-view+json": {
       "model_id": "1f6d8f1d0860491c966108ea153615f7",
       "version_major": 2,
       "version_minor": 0
      },
      "text/plain": [
       "DoB0526b_2.MP4:   0%|          | 0/30000 [00:00<?, ?it/s]"
      ]
     },
     "metadata": {},
     "output_type": "display_data"
    },
    {
     "data": {
      "application/vnd.jupyter.widget-view+json": {
       "model_id": "7b89d34a69f54531bcf62e4ee83d8eec",
       "version_major": 2,
       "version_minor": 0
      },
      "text/plain": [
       "DoB1219c.MP4:   0%|          | 0/30000 [00:00<?, ?it/s]"
      ]
     },
     "metadata": {},
     "output_type": "display_data"
    }
   ],
   "source": [
    "import os\n",
    "import cv2\n",
    "import psutil\n",
    "from tkinter import Tk\n",
    "from tkinter.filedialog import askdirectory\n",
    "from tqdm.notebook import tqdm\n",
    "\n",
    "p = psutil.Process(os.getpid())\n",
    "p.cpu_affinity([0, 1, 2, 3, 4, 5, 6, 7])\n",
    "\n",
    "start_time = [2] #sec\n",
    "duration = 5 #min\n",
    "video_fps = 100\n",
    "\n",
    "# 開啟資料夾對話框，讓使用者選擇資料夾\n",
    "Tk().withdraw()\n",
    "foldername = askdirectory(title='選擇資料夾')\n",
    "\n",
    "# 取得資料夾內的所有影片檔案\n",
    "video_files = [f for f in os.listdir(foldername) if f.endswith('.MP4')]\n",
    "# 輸出資料夾設定\n",
    "output_dir = askdirectory(title='選擇輸出資料夾')\n",
    "\n",
    "for filename in tqdm(video_files, desc='total_file'):\n",
    "   # 影片檔案的完整路徑\n",
    "    filepath = os.path.join(foldername, filename)\n",
    "\n",
    "    # 讀取影片\n",
    "    cap = cv2.VideoCapture(filepath)\n",
    "\n",
    "    # 獲取原始影片的尺寸\n",
    "    width = int(cap.get(cv2.CAP_PROP_FRAME_WIDTH))\n",
    "    height = int(cap.get(cv2.CAP_PROP_FRAME_HEIGHT))\n",
    "\n",
    "    # 新的裁切後的尺寸\n",
    "    new_width = 1300\n",
    "    new_height = height // 4  # 裁去上四分之一和下四分之一\n",
    "\n",
    "    # 計算裁切後的上下邊界\n",
    "    top = 0\n",
    "    bottom = top + new_height-80\n",
    "    left = width//6\n",
    "    right = left+new_width\n",
    "\n",
    "    new_width = int((right - left)//1.33)\n",
    "    new_height = int((bottom - top)//1.33)\n",
    "\n",
    "    # 輸出影片設定\n",
    "    fourcc = cv2.VideoWriter_fourcc(*'mp4v')\n",
    "    fps = cap.get(cv2.CAP_PROP_FPS)\n",
    "    filename_without_ext = os.path.splitext(filename)[0]\n",
    "    output_filename = os.path.join(output_dir, f\"{filename_without_ext}_cropped.mp4\")\n",
    "    output = cv2.VideoWriter(output_filename, fourcc, fps, (new_width, new_height), isColor=False)\n",
    "\n",
    "    total_frames = int(cap.get(cv2.CAP_PROP_FRAME_COUNT))\n",
    "    end_frame = (60*duration)*video_fps\n",
    "    now_frames = start_time*video_fps\n",
    "\n",
    "    gpu_frame = cv2.cuda_GpuMat()\n",
    "\n",
    "    # 使用 tqdm 顯示進度條\n",
    "    for now_frames in tqdm(range(end_frame), desc=filename):  # 使用tqdm迭代\n",
    "        \n",
    "        ret, frame = cap.read()\n",
    "    \n",
    "        # 當讀取完所有幀，退出循環\n",
    "        if not ret or now_frames >= end_frame :\n",
    "            break\n",
    "        \n",
    "        if now_frames >= end_frame :    \n",
    "            print('break')\n",
    "\n",
    "        # 裁切畫面大小\n",
    "        cropped_frame = frame[top:bottom, left:right]\n",
    "\n",
    "        # 進行下採樣\n",
    "        resized_image = cv2.resize(cropped_frame, (new_width, new_height))\n",
    "\n",
    "        # 進行灰階轉換（可選）\n",
    "        gray_image = cv2.cvtColor(resized_image, cv2.COLOR_BGR2GRAY)\n",
    "\n",
    "        # 使用高斯模糊進行影像平滑化\n",
    "        blurred_image = cv2.GaussianBlur(gray_image, (0, 0), 3)\n",
    "        \n",
    "        # 計算Unsharp Mask濾波器\n",
    "        output_image = cv2.addWeighted(gray_image, 2, blurred_image, -1, 0)\n",
    "\n",
    "        # # 輸出裁切後的影片\n",
    "        output.write(output_image)\n",
    "\n",
    "        # # # 顯示裁切後的畫面\n",
    "        # cv2.imshow('unsharp_mask', output_image)\n",
    "\n",
    "        # # 按下'q'鍵退出\n",
    "        # if cv2.waitKey(1) & 0xFF == ord('q'):\n",
    "        #     break\n",
    "\n",
    "    # 釋放資源\n",
    "    cap.release()\n",
    "    output.release() \n",
    "\n",
    "cv2.destroyAllWindows()"
   ]
  },
  {
   "cell_type": "code",
   "execution_count": 2,
   "metadata": {},
   "outputs": [
    {
     "name": "stdout",
     "output_type": "stream",
     "text": [
      "影片處理完成，已保存為 DoB1222b_cropped_output.mp4\n"
     ]
    }
   ],
   "source": [
    "import cv2\n",
    "import tkinter as tk\n",
    "from tkinter import filedialog\n",
    "import os\n",
    "\n",
    "# 創建Tkinter窗口\n",
    "root = tk.Tk()\n",
    "root.withdraw()  # 隱藏主窗口\n",
    "\n",
    "# 選擇影片文件\n",
    "file_path = filedialog.askopenfilename(title='選擇影片檔案', filetypes=[(\"Video files\", \"*.mp4 *.avi *.mkv\")])\n",
    "\n",
    "# 檢查是否選擇了文件\n",
    "if file_path:\n",
    "    # 讀取影片\n",
    "    cap = cv2.VideoCapture(file_path)\n",
    "\n",
    "    # 確保影片已成功打開\n",
    "    if not cap.isOpened():\n",
    "        print(\"無法打開影片文件\")\n",
    "    else:\n",
    "        # 確定輸出文件名（你可以自定義後綴）\n",
    "        base_name = os.path.basename(file_path)\n",
    "        output_name = os.path.splitext(base_name)[0] + \"_output.mp4\"\n",
    "\n",
    "        # 獲取影片的寬度、高度和幀率\n",
    "        width = int(cap.get(cv2.CAP_PROP_FRAME_WIDTH))\n",
    "        height = int(cap.get(cv2.CAP_PROP_FRAME_HEIGHT))\n",
    "        fps = int(cap.get(cv2.CAP_PROP_FPS))\n",
    "\n",
    "        # 設置輸出影片的編碼器和幀率\n",
    "        fourcc = cv2.VideoWriter_fourcc(*'mp4v')  # 使用MP4編碼器\n",
    "        out = cv2.VideoWriter(output_name, fourcc, fps/20, (width, height))\n",
    "\n",
    "        while True:\n",
    "            ret, frame = cap.read()\n",
    "            if not ret:\n",
    "                break\n",
    "\n",
    "            # 在這裡對frame進行處理（可選）\n",
    "            # 這只是一個示例，你可以添加自己的處理邏輯\n",
    "\n",
    "            # 寫入處理後的frame到輸出影片\n",
    "            out.write(frame)\n",
    "\n",
    "        # 釋放資源\n",
    "        cap.release()\n",
    "        out.release()\n",
    "\n",
    "        print(\"影片處理完成，已保存為\", output_name)\n",
    "else:\n",
    "    print(\"未選擇影片文件\")\n",
    "\n",
    "# 關閉Tkinter窗口\n",
    "root.destroy()\n"
   ]
  }
 ],
 "metadata": {
  "kernelspec": {
   "display_name": "napari-env",
   "language": "python",
   "name": "python3"
  },
  "language_info": {
   "codemirror_mode": {
    "name": "ipython",
    "version": 3
   },
   "file_extension": ".py",
   "mimetype": "text/x-python",
   "name": "python",
   "nbconvert_exporter": "python",
   "pygments_lexer": "ipython3",
   "version": "3.9.13"
  },
  "orig_nbformat": 4
 },
 "nbformat": 4,
 "nbformat_minor": 2
}
