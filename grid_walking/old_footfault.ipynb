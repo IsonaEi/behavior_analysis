{
 "cells": [
  {
   "cell_type": "code",
   "execution_count": 9,
   "metadata": {},
   "outputs": [],
   "source": [
    "#load data file\n",
    "import os\n",
    "import pandas as pd\n",
    "from tkinter import Tk, filedialog\n",
    "\n",
    "# 選取多個資料檔案\n",
    "root = Tk()\n",
    "root.attributes('-topmost', True)  # 將主視窗設置為最上層\n",
    "root.withdraw()\n",
    "\n",
    "data_file_paths = filedialog.askopenfilenames(parent = root ,title='選擇資料檔案', filetypes=[('CSV files', '*.csv')])\n",
    "raw_data = pd.read_csv(data_file_paths[0])\n",
    "\n",
    "raw_data['Media file path'] = raw_data['Media file path'].apply(os.path.basename)"
   ]
  },
  {
   "cell_type": "code",
   "execution_count": 10,
   "metadata": {},
   "outputs": [
    {
     "name": "stderr",
     "output_type": "stream",
     "text": [
      "C:\\Users\\Meng-Xuan Liu\\AppData\\Local\\Temp\\ipykernel_16324\\1862072578.py:13: FutureWarning: The frame.append method is deprecated and will be removed from pandas in a future version. Use pandas.concat instead.\n",
      "  output_data = output_data.append(fault_counts, ignore_index=False)\n",
      "C:\\Users\\Meng-Xuan Liu\\AppData\\Local\\Temp\\ipykernel_16324\\1862072578.py:13: FutureWarning: The frame.append method is deprecated and will be removed from pandas in a future version. Use pandas.concat instead.\n",
      "  output_data = output_data.append(fault_counts, ignore_index=False)\n",
      "C:\\Users\\Meng-Xuan Liu\\AppData\\Local\\Temp\\ipykernel_16324\\1862072578.py:13: FutureWarning: The frame.append method is deprecated and will be removed from pandas in a future version. Use pandas.concat instead.\n",
      "  output_data = output_data.append(fault_counts, ignore_index=False)\n",
      "C:\\Users\\Meng-Xuan Liu\\AppData\\Local\\Temp\\ipykernel_16324\\1862072578.py:13: FutureWarning: The frame.append method is deprecated and will be removed from pandas in a future version. Use pandas.concat instead.\n",
      "  output_data = output_data.append(fault_counts, ignore_index=False)\n",
      "C:\\Users\\Meng-Xuan Liu\\AppData\\Local\\Temp\\ipykernel_16324\\1862072578.py:13: FutureWarning: The frame.append method is deprecated and will be removed from pandas in a future version. Use pandas.concat instead.\n",
      "  output_data = output_data.append(fault_counts, ignore_index=False)\n"
     ]
    }
   ],
   "source": [
    "# 計算每個檔案的footfault\n",
    "grouped_data = raw_data.groupby(['Media file path'])\n",
    "\n",
    "output_data = pd.DataFrame(columns=['forelimb_L', 'forelimb_R', 'hindlimb_R', 'hindlimb_L', 'total'])\n",
    "\n",
    "for index, single_video_data in grouped_data:\n",
    "\n",
    "    fault_counts = single_video_data['Behavior'].value_counts()\n",
    "    total_fault_counts = fault_counts.sum()\n",
    "    fault_counts.loc['total'] = total_fault_counts\n",
    "    fault_counts.name = index\n",
    "\n",
    "    output_data = output_data.append(fault_counts, ignore_index=False)\n",
    "    \n",
    "output_data = output_data.fillna(0)\n",
    "\n"
   ]
  },
  {
   "cell_type": "code",
   "execution_count": 67,
   "metadata": {},
   "outputs": [],
   "source": [
    "#去暗號化並輸出\n",
    "data_file_paths = filedialog.askopenfilenames(parent = root ,title='選擇暗號化mapping檔案', filetypes=[('CSV files', '*.csv')])\n",
    "mapping = pd.read_csv(data_file_paths[0])\n",
    "\n",
    "output_data['file_name'] = output_data.index.map(mapping.set_index('code')['original file name'])\n",
    "\n",
    "output_data.to_csv('foot_fault_counted.csv', index=True)"
   ]
  },
  {
   "cell_type": "code",
   "execution_count": 13,
   "metadata": {},
   "outputs": [],
   "source": [
    "#直接輸出\n",
    "output_data.to_csv('foot_fault_counted.csv', index=True)"
   ]
  }
 ],
 "metadata": {
  "kernelspec": {
   "display_name": "base",
   "language": "python",
   "name": "python3"
  },
  "language_info": {
   "codemirror_mode": {
    "name": "ipython",
    "version": 3
   },
   "file_extension": ".py",
   "mimetype": "text/x-python",
   "name": "python",
   "nbconvert_exporter": "python",
   "pygments_lexer": "ipython3",
   "version": "3.9.13"
  },
  "orig_nbformat": 4
 },
 "nbformat": 4,
 "nbformat_minor": 2
}
