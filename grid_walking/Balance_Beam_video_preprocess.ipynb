{
 "cells": [
  {
   "cell_type": "code",
   "execution_count": 3,
   "metadata": {},
   "outputs": [
    {
     "data": {
      "application/vnd.jupyter.widget-view+json": {
       "model_id": "b9a5104980e24d05be6ffa2cb30dad43",
       "version_major": 2,
       "version_minor": 0
      },
      "text/plain": [
       "total_file:   0%|          | 0/18 [00:00<?, ?it/s]"
      ]
     },
     "metadata": {},
     "output_type": "display_data"
    },
    {
     "data": {
      "application/vnd.jupyter.widget-view+json": {
       "model_id": "7ab2b7492d194044a16c50a6fe6d6796",
       "version_major": 2,
       "version_minor": 0
      },
      "text/plain": [
       "LMO_G226_CTZ_gridwalk_0721.MP4:   0%|          | 0/30000 [00:00<?, ?it/s]"
      ]
     },
     "metadata": {},
     "output_type": "display_data"
    },
    {
     "data": {
      "application/vnd.jupyter.widget-view+json": {
       "model_id": "4154a0eab96a4994beb597809c244f8d",
       "version_major": 2,
       "version_minor": 0
      },
      "text/plain": [
       "LMO_O623_CTZ_gridwalk_0721.MP4:   0%|          | 0/30000 [00:00<?, ?it/s]"
      ]
     },
     "metadata": {},
     "output_type": "display_data"
    },
    {
     "data": {
      "application/vnd.jupyter.widget-view+json": {
       "model_id": "6a83d8f4162e46b29ab2c086837b1dca",
       "version_major": 2,
       "version_minor": 0
      },
      "text/plain": [
       "LMO_O624_CTZ_gridwalk_0721.MP4:   0%|          | 0/30000 [00:00<?, ?it/s]"
      ]
     },
     "metadata": {},
     "output_type": "display_data"
    },
    {
     "data": {
      "application/vnd.jupyter.widget-view+json": {
       "model_id": "8b7e0bcaf12b4529a9b3805e7e7090b3",
       "version_major": 2,
       "version_minor": 0
      },
      "text/plain": [
       "PL_DoB1213A_CTZ_gridwalk_0721.MP4:   0%|          | 0/30000 [00:00<?, ?it/s]"
      ]
     },
     "metadata": {},
     "output_type": "display_data"
    },
    {
     "data": {
      "application/vnd.jupyter.widget-view+json": {
       "model_id": "14a3e4c6520247569af98eafe7ecb593",
       "version_major": 2,
       "version_minor": 0
      },
      "text/plain": [
       "PL_DoB1213B_CTZ_gridwalk_0721.MP4:   0%|          | 0/30000 [00:00<?, ?it/s]"
      ]
     },
     "metadata": {},
     "output_type": "display_data"
    },
    {
     "data": {
      "application/vnd.jupyter.widget-view+json": {
       "model_id": "0d9abbf9b3a54778bd09bad60d1ccafd",
       "version_major": 2,
       "version_minor": 0
      },
      "text/plain": [
       "PL_DoB1213C_CTZ_gridwalk_0721.MP4:   0%|          | 0/30000 [00:00<?, ?it/s]"
      ]
     },
     "metadata": {},
     "output_type": "display_data"
    },
    {
     "data": {
      "application/vnd.jupyter.widget-view+json": {
       "model_id": "21973d8f53344c869443c37c8c96bb9d",
       "version_major": 2,
       "version_minor": 0
      },
      "text/plain": [
       "PL_DoB1213D_CTZ_gridwalk_0721.MP4:   0%|          | 0/30000 [00:00<?, ?it/s]"
      ]
     },
     "metadata": {},
     "output_type": "display_data"
    },
    {
     "data": {
      "application/vnd.jupyter.widget-view+json": {
       "model_id": "48ef0973611f47df9716203db8b33812",
       "version_major": 2,
       "version_minor": 0
      },
      "text/plain": [
       "PL_DoB1213E_CTZ_gridwalk_0721.MP4:   0%|          | 0/30000 [00:00<?, ?it/s]"
      ]
     },
     "metadata": {},
     "output_type": "display_data"
    },
    {
     "data": {
      "application/vnd.jupyter.widget-view+json": {
       "model_id": "08adc792d16c49bbb0a708c40eddfd1f",
       "version_major": 2,
       "version_minor": 0
      },
      "text/plain": [
       "PL_DoB1219A_CTZ_gridwalk_0721.MP4:   0%|          | 0/30000 [00:00<?, ?it/s]"
      ]
     },
     "metadata": {},
     "output_type": "display_data"
    },
    {
     "data": {
      "application/vnd.jupyter.widget-view+json": {
       "model_id": "3ae9c16caa964c1081801f8d87d3aa73",
       "version_major": 2,
       "version_minor": 0
      },
      "text/plain": [
       "PL_DoB1219B_CTZ_gridwalk_0721.MP4:   0%|          | 0/30000 [00:00<?, ?it/s]"
      ]
     },
     "metadata": {},
     "output_type": "display_data"
    },
    {
     "data": {
      "application/vnd.jupyter.widget-view+json": {
       "model_id": "c77404ddd8ce41ec947e1fdf2053e833",
       "version_major": 2,
       "version_minor": 0
      },
      "text/plain": [
       "PL_DoB1219D_CTZ_gridwalk_0721.MP4:   0%|          | 0/30000 [00:00<?, ?it/s]"
      ]
     },
     "metadata": {},
     "output_type": "display_data"
    },
    {
     "data": {
      "application/vnd.jupyter.widget-view+json": {
       "model_id": "f12187d0d20747eeb59c56ba7538a130",
       "version_major": 2,
       "version_minor": 0
      },
      "text/plain": [
       "PL_DoB1219E_CTZ_gridwalk_0721.MP4:   0%|          | 0/30000 [00:00<?, ?it/s]"
      ]
     },
     "metadata": {},
     "output_type": "display_data"
    },
    {
     "data": {
      "application/vnd.jupyter.widget-view+json": {
       "model_id": "f0e7803bedd94a38884ea899d3a90529",
       "version_major": 2,
       "version_minor": 0
      },
      "text/plain": [
       "PL_G290_CTZ_gridwalk_0721.MP4:   0%|          | 0/30000 [00:00<?, ?it/s]"
      ]
     },
     "metadata": {},
     "output_type": "display_data"
    },
    {
     "data": {
      "application/vnd.jupyter.widget-view+json": {
       "model_id": "db9448516ebb47f39d575d9e73d98624",
       "version_major": 2,
       "version_minor": 0
      },
      "text/plain": [
       "PL_G291_CTZ_gridwalk_0721.MP4:   0%|          | 0/30000 [00:00<?, ?it/s]"
      ]
     },
     "metadata": {},
     "output_type": "display_data"
    },
    {
     "data": {
      "application/vnd.jupyter.widget-view+json": {
       "model_id": "840832ef32a444c1b8868a025001b49c",
       "version_major": 2,
       "version_minor": 0
      },
      "text/plain": [
       "PL_G707_CTZ_gridwalk_0721.MP4:   0%|          | 0/30000 [00:00<?, ?it/s]"
      ]
     },
     "metadata": {},
     "output_type": "display_data"
    },
    {
     "data": {
      "application/vnd.jupyter.widget-view+json": {
       "model_id": "ad990e209940423cbf0c4b27621ee7cc",
       "version_major": 2,
       "version_minor": 0
      },
      "text/plain": [
       "PL_G720_CTZ_gridwalk_0721.MP4:   0%|          | 0/30000 [00:00<?, ?it/s]"
      ]
     },
     "metadata": {},
     "output_type": "display_data"
    },
    {
     "data": {
      "application/vnd.jupyter.widget-view+json": {
       "model_id": "6261aadd4d434ecb924fbc633a274e1e",
       "version_major": 2,
       "version_minor": 0
      },
      "text/plain": [
       "PL_G721_CTZ_gridwalk_0721.MP4:   0%|          | 0/30000 [00:00<?, ?it/s]"
      ]
     },
     "metadata": {},
     "output_type": "display_data"
    },
    {
     "data": {
      "application/vnd.jupyter.widget-view+json": {
       "model_id": "e842f32b6966417cac0655c22d75d4fe",
       "version_major": 2,
       "version_minor": 0
      },
      "text/plain": [
       "PL_G724_CTZ_gridwalk_0721.MP4:   0%|          | 0/30000 [00:00<?, ?it/s]"
      ]
     },
     "metadata": {},
     "output_type": "display_data"
    }
   ],
   "source": [
    "import os\n",
    "import cv2\n",
    "import psutil\n",
    "from tkinter import Tk\n",
    "from tkinter.filedialog import askdirectory\n",
    "from tqdm.notebook import tqdm\n",
    "\n",
    "p = psutil.Process(os.getpid())\n",
    "p.cpu_affinity([0, 1, 2, 3, 4, 5, 6, 7])\n",
    "\n",
    "start_time = [2] #sec\n",
    "duration = 5 #min\n",
    "video_fps = 100\n",
    "\n",
    "# 開啟資料夾對話框，讓使用者選擇資料夾\n",
    "Tk().withdraw()\n",
    "foldername = askdirectory(title='選擇資料夾')\n",
    "\n",
    "# 取得資料夾內的所有影片檔案\n",
    "video_files = [f for f in os.listdir(foldername) if f.endswith('.MP4')]\n",
    "# 輸出資料夾設定\n",
    "output_dir = askdirectory(title='選擇輸出資料夾')\n",
    "\n",
    "for filename in tqdm(video_files, desc='total_file'):\n",
    "   # 影片檔案的完整路徑\n",
    "    filepath = os.path.join(foldername, filename)\n",
    "\n",
    "    # 讀取影片\n",
    "    cap = cv2.VideoCapture(filepath)\n",
    "\n",
    "    # 獲取原始影片的尺寸\n",
    "    width = int(cap.get(cv2.CAP_PROP_FRAME_WIDTH))\n",
    "    height = int(cap.get(cv2.CAP_PROP_FRAME_HEIGHT))\n",
    "\n",
    "    # 新的裁切後的尺寸\n",
    "    new_width = 1300\n",
    "    new_height = height // 4  # 裁去上四分之一和下四分之一\n",
    "\n",
    "    # 計算裁切後的上下邊界\n",
    "    top = 50\n",
    "    bottom = top + new_height-80\n",
    "    left = width//6\n",
    "    right = left+new_width\n",
    "\n",
    "    new_width = int((right - left)//1.33)\n",
    "    new_height = int((bottom - top)//1.33)\n",
    "\n",
    "    # 輸出影片設定\n",
    "    fourcc = cv2.VideoWriter_fourcc(*'mp4v')\n",
    "    fps = cap.get(cv2.CAP_PROP_FPS)\n",
    "    filename_without_ext = os.path.splitext(filename)[0]\n",
    "    output_filename = os.path.join(output_dir, f\"{filename_without_ext}_cropped.mp4\")\n",
    "    output = cv2.VideoWriter(output_filename, fourcc, fps, (new_width, new_height), isColor=False)\n",
    "\n",
    "    total_frames = int(cap.get(cv2.CAP_PROP_FRAME_COUNT))\n",
    "    end_frame = (60*duration)*video_fps\n",
    "    now_frames = start_time*video_fps\n",
    "\n",
    "    gpu_frame = cv2.cuda_GpuMat()\n",
    "\n",
    "    # 使用 tqdm 顯示進度條\n",
    "    for now_frames in tqdm(range(end_frame), desc=filename):  # 使用tqdm迭代\n",
    "        \n",
    "        ret, frame = cap.read()\n",
    "    \n",
    "        # 當讀取完所有幀，退出循環\n",
    "        if not ret or now_frames >= end_frame :\n",
    "            break\n",
    "        \n",
    "        if now_frames >= end_frame :    \n",
    "            print('break')\n",
    "\n",
    "        # 裁切畫面大小\n",
    "        cropped_frame = frame[top:bottom, left:right]\n",
    "\n",
    "        # 進行下採樣\n",
    "        resized_image = cv2.resize(cropped_frame, (new_width, new_height))\n",
    "\n",
    "        # 進行灰階轉換（可選）\n",
    "        gray_image = cv2.cvtColor(resized_image, cv2.COLOR_BGR2GRAY)\n",
    "\n",
    "        # 使用高斯模糊進行影像平滑化\n",
    "        blurred_image = cv2.GaussianBlur(gray_image, (0, 0), 3)\n",
    "        \n",
    "        # 計算Unsharp Mask濾波器\n",
    "        output_image = cv2.addWeighted(gray_image, 2, blurred_image, -1, 0)\n",
    "\n",
    "        # # 輸出裁切後的影片\n",
    "        output.write(output_image)\n",
    "\n",
    "        # # # 顯示裁切後的畫面\n",
    "        # cv2.imshow('unsharp_mask', output_image)\n",
    "\n",
    "        # # 按下'q'鍵退出\n",
    "        # if cv2.waitKey(1) & 0xFF == ord('q'):\n",
    "        #     break\n",
    "\n",
    "    # 釋放資源\n",
    "    cap.release()\n",
    "    output.release() \n",
    "\n",
    "cv2.destroyAllWindows()"
   ]
  }
 ],
 "metadata": {
  "kernelspec": {
   "display_name": "napari-env",
   "language": "python",
   "name": "python3"
  },
  "language_info": {
   "codemirror_mode": {
    "name": "ipython",
    "version": 3
   },
   "file_extension": ".py",
   "mimetype": "text/x-python",
   "name": "python",
   "nbconvert_exporter": "python",
   "pygments_lexer": "ipython3",
   "version": "3.9.13"
  },
  "orig_nbformat": 4
 },
 "nbformat": 4,
 "nbformat_minor": 2
}
