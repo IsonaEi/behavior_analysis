{
 "cells": [
  {
   "cell_type": "code",
   "execution_count": 2,
   "id": "950e9872",
   "metadata": {},
   "outputs": [],
   "source": [
    "import os\n",
    "import re\n",
    "import fnmatch\n",
    "import numpy as np\n",
    "import cv2 as cv\n",
    "import tqdm\n",
    "import concurrent.futures\n",
    "\n",
    "p_cutoff = 0.7\n",
    "vote_threshold = 0.5\n",
    "suffix_long = 49\n",
    "frame_rate = 50.0\n",
    "raw_data_dir = r'G:\\works\\Data_archive\\8f_behav\\balance_beam\\2023May\\croped'\n",
    "output_dir = r'D:\\works\\Data_analysis\\projects\\balance_beam\\2023May\\preprocessed_DLC_data'"
   ]
  },
  {
   "cell_type": "code",
   "execution_count": 12,
   "id": "22b5e9d0",
   "metadata": {},
   "outputs": [],
   "source": [
    "def file_name_extraction(filename):\n",
    "    filename = filename.replace(raw_data_dir+'\\\\',\"\")\n",
    "    filename = filename[:suffix_long*-1]\n",
    "    return filename\n",
    "\n",
    "def find_frame_need_knocked(data):\n",
    "    knocked_frame = []\n",
    "    for index,frame in enumerate(data[3:]):\n",
    "        kick_vote = 0 \n",
    "\n",
    "        for likehood in frame[3::3]:\n",
    "            if (float(likehood)<p_cutoff):\n",
    "                kick_vote+=1\n",
    "\n",
    "        if (kick_vote >= len(frame)//(3/vote_threshold)):\n",
    "            knocked_frame.append(index)\n",
    "            \n",
    "    knocked_frame_csv = [x + 3 for x in knocked_frame]\n",
    "    return knocked_frame, knocked_frame_csv\n",
    "            \n",
    "def csv_process(filename,data,knocked_frame):\n",
    "    data = np.delete(data, knocked_frame, axis=0)\n",
    "    output_folder = os.path.join(output_dir, \"pose_estimation\")\n",
    "    \n",
    "    # 創建目錄\n",
    "    os.makedirs(output_folder, exist_ok=True)\n",
    "    \n",
    "    output_name = os.path.join(output_folder, f\"{filename}.csv\")\n",
    "    np.savetxt(output_name, data, delimiter=\",\",fmt='%s')\n",
    "            \n",
    "def video_process(filename,knocked_frame): \n",
    "    output_name = output_dir + \"\\\\\" + filename + \".mp4\"\n",
    "    \n",
    "    for filename in fnmatch.filter(filenames, filename+'.mp4'):\n",
    "        raw_video_dir = os.path.join(root, filename)\n",
    "        \n",
    "    video = cv.VideoCapture(raw_video_dir)\n",
    "    total_frames_orginal = int(video.get(cv.CAP_PROP_FRAME_COUNT))\n",
    "    output_frames_should_be = int(video.get(cv.CAP_PROP_FRAME_COUNT)) - len(knocked_frame)\n",
    "\n",
    "    fourcc = cv.VideoWriter_fourcc(*'mp4v')\n",
    "    output = cv.VideoWriter(output_name, fourcc, frame_rate, (int(video.get(3)), int(video.get(4))))\n",
    "    \n",
    "    i = 0\n",
    "    while True:\n",
    "        ret, frame = video.read()\n",
    "        if not ret or i >= output_frames_should_be:\n",
    "            break\n",
    "        if video.get(cv.CAP_PROP_POS_FRAMES) not in knocked_frame:\n",
    "            output.write(frame)\n",
    "            i+=1\n",
    "        \n",
    "        \n",
    "    video.release()\n",
    "    output.release()"
   ]
  },
  {
   "cell_type": "code",
   "execution_count": 4,
   "id": "8b1514e6",
   "metadata": {},
   "outputs": [
    {
     "name": "stdout",
     "output_type": "stream",
     "text": [
      "total find 45 csv_files and 45 mp4_files\n"
     ]
    }
   ],
   "source": [
    "csv_files = []\n",
    "mp4_files = []\n",
    "for root, dirnames, filenames in os.walk(raw_data_dir):\n",
    "    for filename in fnmatch.filter(filenames, '*.csv'):\n",
    "        csv_files.append(os.path.join(root, filename))\n",
    "    for filename in fnmatch.filter(filenames, '*.mp4'):\n",
    "        mp4_files.append(os.path.join(root, filename))\n",
    "print('total find '+str(len(csv_files))+' csv_files and '+str(len(mp4_files))+' mp4_files')"
   ]
  },
  {
   "cell_type": "code",
   "execution_count": 9,
   "id": "f764aab2",
   "metadata": {},
   "outputs": [
    {
     "name": "stdout",
     "output_type": "stream",
     "text": [
      "0522_DoB1213E_CTZ_cropped\n",
      "12144 7215 4929\n"
     ]
    }
   ],
   "source": [
    "# single file test\n",
    "fill_name = file_name_extraction(csv_files[38])\n",
    "print(fill_name)\n",
    "csv = np.genfromtxt(csv_files[38],dtype=None,delimiter=',',encoding='UTF-8')\n",
    "frame_need_knocked_forvideo, frame_need_knocked_forcsv = find_frame_need_knocked(csv)\n",
    "csv_process(fill_name,csv,frame_need_knocked_forcsv)\n",
    "video_process(fill_name,frame_need_knocked_forvideo)"
   ]
  },
  {
   "cell_type": "code",
   "execution_count": 11,
   "id": "64096d50",
   "metadata": {},
   "outputs": [
    {
     "name": "stdout",
     "output_type": "stream",
     "text": [
      "0522_DoB1213E_CTZ_cropped\n",
      "0522_DoB1213E_CTZ_cropped\n",
      "0522_DoB1213E_CTZ_cropped\n",
      "0522_DoB1213E_CTZ_cropped\n",
      "0522_DoB1213E_CTZ_cropped\n",
      "0522_DoB1213E_CTZ_cropped\n",
      "0522_DoB1213E_CTZ_cropped\n",
      "0522_DoB1213E_CTZ_cropped\n",
      "0522_DoB1213E_CTZ_cropped\n",
      "0522_DoB1213E_CTZ_cropped\n",
      "0522_DoB1213E_CTZ_cropped\n",
      "0522_DoB1213E_CTZ_cropped\n",
      "0522_DoB1213E_CTZ_cropped\n",
      "0522_DoB1213E_CTZ_cropped\n",
      "0522_DoB1213E_CTZ_cropped\n",
      "0522_DoB1213E_CTZ_cropped\n",
      "0522_DoB1213E_CTZ_cropped\n",
      "0522_DoB1213E_CTZ_cropped\n",
      "0522_DoB1213E_CTZ_cropped\n",
      "0522_DoB1213E_CTZ_cropped\n",
      "0522_DoB1213E_CTZ_cropped\n",
      "0522_DoB1213E_CTZ_cropped\n",
      "0522_DoB1213E_CTZ_cropped\n",
      "0522_DoB1213E_CTZ_cropped\n"
     ]
    },
    {
     "name": "stderr",
     "output_type": "stream",
     "text": [
      "  0%|          | 0/45 [00:00<?, ?it/s]"
     ]
    },
    {
     "name": "stdout",
     "output_type": "stream",
     "text": [
      "9576 6772 2804\n",
      "9696 6396 3300\n",
      "10536 7019 3517\n",
      "10800 6913 3887\n",
      "11592 7597 3995\n",
      "12144 7441 4703\n",
      "15408 12299 3109\n",
      "15240 9225 6015\n",
      "15624 8127 7497\n",
      "15216 6778 8438\n",
      "17496 11253 6243\n",
      "16896 9800 7096\n",
      "17712 9737 7975\n",
      "16992 8274 8718\n",
      "17616 9254 8362\n",
      "18864 10315 8549\n",
      "17880 7634 10246\n",
      "20832 9693 11139\n",
      "21720 11549 10171\n",
      "23832 10158 13674\n",
      "26520 10435 16085\n",
      "26832 11269 15563\n",
      "26496 10320 16176\n",
      "27288 11174 16114\n"
     ]
    },
    {
     "name": "stderr",
     "output_type": "stream",
     "text": [
      "  2%|▏         | 1/45 [02:23<1:45:33, 143.93s/it]"
     ]
    },
    {
     "name": "stdout",
     "output_type": "stream",
     "text": [
      "0522_DoB1213E_CTZ_cropped\n"
     ]
    },
    {
     "name": "stderr",
     "output_type": "stream",
     "text": [
      "  4%|▍         | 2/45 [02:34<47:04, 65.69s/it]   "
     ]
    },
    {
     "name": "stdout",
     "output_type": "stream",
     "text": [
      "0522_DoB1213E_CTZ_cropped\n",
      "16656 6920 9736\n"
     ]
    },
    {
     "name": "stderr",
     "output_type": "stream",
     "text": [
      "  7%|▋         | 3/45 [02:46<28:35, 40.84s/it]"
     ]
    },
    {
     "name": "stdout",
     "output_type": "stream",
     "text": [
      "0522_DoB1213E_CTZ_cropped\n",
      "17424 6514 10910\n",
      "11544 6794 4750\n"
     ]
    },
    {
     "name": "stderr",
     "output_type": "stream",
     "text": [
      "  9%|▉         | 4/45 [02:57<19:56, 29.17s/it]"
     ]
    },
    {
     "name": "stdout",
     "output_type": "stream",
     "text": [
      "0522_DoB1213E_CTZ_cropped\n",
      "14904 7453 7451\n"
     ]
    },
    {
     "name": "stderr",
     "output_type": "stream",
     "text": [
      " 11%|█         | 5/45 [03:22<18:23, 27.58s/it]"
     ]
    },
    {
     "name": "stdout",
     "output_type": "stream",
     "text": [
      "0522_DoB1213E_CTZ_cropped\n"
     ]
    },
    {
     "name": "stderr",
     "output_type": "stream",
     "text": [
      " 13%|█▎        | 6/45 [03:35<14:50, 22.83s/it]"
     ]
    },
    {
     "name": "stdout",
     "output_type": "stream",
     "text": [
      "0522_DoB1213E_CTZ_cropped\n",
      "16872 6931 9941\n",
      "12336 7538 4798\n"
     ]
    },
    {
     "name": "stderr",
     "output_type": "stream",
     "text": [
      " 16%|█▌        | 7/45 [04:19<18:51, 29.79s/it]"
     ]
    },
    {
     "name": "stdout",
     "output_type": "stream",
     "text": [
      "0522_DoB1213E_CTZ_cropped\n",
      "10800 7404 3396\n"
     ]
    },
    {
     "name": "stderr",
     "output_type": "stream",
     "text": [
      " 18%|█▊        | 8/45 [04:38<16:11, 26.26s/it]"
     ]
    },
    {
     "name": "stdout",
     "output_type": "stream",
     "text": [
      "0522_DoB1213E_CTZ_cropped\n",
      "10128 7702 2426\n"
     ]
    },
    {
     "name": "stderr",
     "output_type": "stream",
     "text": [
      " 20%|██        | 9/45 [04:53<13:32, 22.57s/it]"
     ]
    },
    {
     "name": "stdout",
     "output_type": "stream",
     "text": [
      "0522_DoB1213E_CTZ_cropped\n"
     ]
    },
    {
     "name": "stderr",
     "output_type": "stream",
     "text": [
      " 22%|██▏       | 10/45 [04:59<10:12, 17.49s/it]"
     ]
    },
    {
     "name": "stdout",
     "output_type": "stream",
     "text": [
      "0522_DoB1213E_CTZ_cropped\n",
      "12912 9240 3672\n"
     ]
    },
    {
     "name": "stderr",
     "output_type": "stream",
     "text": [
      " 24%|██▍       | 11/45 [05:05<08:03, 14.21s/it]"
     ]
    },
    {
     "name": "stdout",
     "output_type": "stream",
     "text": [
      "0522_DoB1213E_CTZ_cropped\n"
     ]
    },
    {
     "name": "stderr",
     "output_type": "stream",
     "text": [
      " 27%|██▋       | 12/45 [05:06<05:29,  9.97s/it]"
     ]
    },
    {
     "name": "stdout",
     "output_type": "stream",
     "text": [
      "0522_DoB1213E_CTZ_cropped\n",
      "14184 8426 5758\n",
      "11616 6673 4943\n",
      "11808 6221 5587\n"
     ]
    },
    {
     "name": "stderr",
     "output_type": "stream",
     "text": [
      " 29%|██▉       | 13/45 [05:28<07:17, 13.67s/it]"
     ]
    },
    {
     "name": "stdout",
     "output_type": "stream",
     "text": [
      "0522_DoB1213E_CTZ_cropped\n"
     ]
    },
    {
     "name": "stderr",
     "output_type": "stream",
     "text": [
      " 31%|███       | 14/45 [05:33<05:43, 11.07s/it]"
     ]
    },
    {
     "name": "stdout",
     "output_type": "stream",
     "text": [
      "0522_DoB1213E_CTZ_cropped\n"
     ]
    },
    {
     "name": "stderr",
     "output_type": "stream",
     "text": [
      " 33%|███▎      | 15/45 [05:34<04:05,  8.18s/it]"
     ]
    },
    {
     "name": "stdout",
     "output_type": "stream",
     "text": [
      "0522_DoB1213E_CTZ_cropped\n",
      "18528 7467 11061\n",
      "12144 7215 4929\n",
      "15408 6892 8516\n"
     ]
    },
    {
     "name": "stderr",
     "output_type": "stream",
     "text": [
      " 36%|███▌      | 16/45 [05:45<04:14,  8.78s/it]"
     ]
    },
    {
     "name": "stdout",
     "output_type": "stream",
     "text": [
      "0522_DoB1213E_CTZ_cropped\n"
     ]
    },
    {
     "name": "stderr",
     "output_type": "stream",
     "text": [
      " 38%|███▊      | 17/45 [05:52<03:53,  8.34s/it]"
     ]
    },
    {
     "name": "stdout",
     "output_type": "stream",
     "text": [
      "0522_DoB1213E_CTZ_cropped\n",
      "16872 7253 9619\n"
     ]
    },
    {
     "name": "stderr",
     "output_type": "stream",
     "text": [
      " 40%|████      | 18/45 [06:12<05:18, 11.79s/it]"
     ]
    },
    {
     "name": "stdout",
     "output_type": "stream",
     "text": [
      "0522_DoB1213E_CTZ_cropped\n"
     ]
    },
    {
     "name": "stderr",
     "output_type": "stream",
     "text": [
      " 42%|████▏     | 19/45 [06:13<03:42,  8.56s/it]"
     ]
    },
    {
     "name": "stdout",
     "output_type": "stream",
     "text": [
      "0522_DoB1213E_CTZ_cropped\n",
      "32904 8774 24130\n",
      "12192 7072 5120\n",
      "13608 6824 6784\n"
     ]
    },
    {
     "name": "stderr",
     "output_type": "stream",
     "text": [
      " 44%|████▍     | 20/45 [06:32<04:52, 11.72s/it]"
     ]
    },
    {
     "name": "stdout",
     "output_type": "stream",
     "text": [
      "0522_DoB1213E_CTZ_cropped\n",
      "9672 7091 2581\n"
     ]
    },
    {
     "name": "stderr",
     "output_type": "stream",
     "text": [
      " 47%|████▋     | 21/45 [06:45<04:54, 12.25s/it]"
     ]
    },
    {
     "name": "stdout",
     "output_type": "stream",
     "text": [
      "0522_DoB1213E_CTZ_cropped\n"
     ]
    },
    {
     "name": "stderr",
     "output_type": "stream",
     "text": [
      " 51%|█████     | 23/45 [06:51<02:47,  7.61s/it]"
     ]
    },
    {
     "name": "stdout",
     "output_type": "stream",
     "text": [
      "14016 10006 4010\n"
     ]
    },
    {
     "name": "stderr",
     "output_type": "stream",
     "text": [
      "100%|██████████| 45/45 [08:52<00:00, 11.84s/it]\n"
     ]
    }
   ],
   "source": [
    "# All file\n",
    "def process_csv(csv_dir):\n",
    "    file_name = file_name_extraction(csv_dir)\n",
    "    csv = np.genfromtxt(csv_dir,dtype=None,delimiter=',',encoding='UTF-8')\n",
    "    frame_need_knocked_forvideo, frame_need_knocked_forcsv = find_frame_need_knocked(csv)\n",
    "    csv_process(file_name,csv,frame_need_knocked_forcsv)\n",
    "    video_process(file_name,frame_need_knocked_forvideo)\n",
    "\n",
    "with concurrent.futures.ThreadPoolExecutor() as executor:\n",
    "    results = [executor.submit(process_csv, csv_dir) for csv_dir in csv_files]\n",
    "    for f in tqdm.tqdm(concurrent.futures.as_completed(results), total=len(results)):\n",
    "        pass"
   ]
  },
  {
   "cell_type": "code",
   "execution_count": null,
   "id": "76e39d5d",
   "metadata": {},
   "outputs": [
    {
     "name": "stdout",
     "output_type": "stream",
     "text": [
      "Total frames in orginal: 17422\n",
      "frame be killed: 12299\n",
      "Total frames should: 5123\n",
      "Total frames after process: 0\n"
     ]
    }
   ],
   "source": [
    "#debug\n",
    "video = cv.VideoCapture(r'G:\\works\\Data_archive\\8f_behav\\balance_beam\\2022Autumn\\dlc_analyze_temp\\wt5_ns.mp4')\n",
    "total_frames = int(video.get(cv.CAP_PROP_FRAME_COUNT))\n",
    "video.release()\n",
    "print(\"Total frames in orginal:\", total_frames)\n",
    "\n",
    "print(\"frame be killed:\",len(frame_need_knocked_forvideo))\n",
    "\n",
    "print(\"Total frames should:\",total_frames-len(frame_need_knocked_forvideo))\n",
    "\n",
    "video = cv.VideoCapture(r'D:\\works\\Data_analysis\\projects\\balance_beam\\Balance_Beam_VAME-MX-Feb8-2023\\videos\\wt5_ns.mp4')\n",
    "total_frames = int(video.get(cv.CAP_PROP_FRAME_COUNT))\n",
    "video.release()\n",
    "print(\"Total frames after process:\", total_frames)"
   ]
  },
  {
   "cell_type": "code",
   "execution_count": 10,
   "id": "e57e10c4",
   "metadata": {},
   "outputs": [
    {
     "data": {
      "text/plain": [
       "['G:\\\\works\\\\Data_archive\\\\8f_behav\\\\balance_beam\\\\2023May\\\\croped\\\\0518_DoB0904A_baseline_croppedDLC_resnet50_Balance_BeamMay29shuffle1_150000.csv',\n",
       " 'G:\\\\works\\\\Data_archive\\\\8f_behav\\\\balance_beam\\\\2023May\\\\croped\\\\0518_DoB0904B_baseline_croppedDLC_resnet50_Balance_BeamMay29shuffle1_150000.csv',\n",
       " 'G:\\\\works\\\\Data_archive\\\\8f_behav\\\\balance_beam\\\\2023May\\\\croped\\\\0518_DoB0904C_baseline_croppedDLC_resnet50_Balance_BeamMay29shuffle1_150000.csv',\n",
       " 'G:\\\\works\\\\Data_archive\\\\8f_behav\\\\balance_beam\\\\2023May\\\\croped\\\\0518_DoB0904D_baseline_croppedDLC_resnet50_Balance_BeamMay29shuffle1_150000.csv',\n",
       " 'G:\\\\works\\\\Data_archive\\\\8f_behav\\\\balance_beam\\\\2023May\\\\croped\\\\0518_DoB1213A_baseline_croppedDLC_resnet50_Balance_BeamMay29shuffle1_150000.csv',\n",
       " 'G:\\\\works\\\\Data_archive\\\\8f_behav\\\\balance_beam\\\\2023May\\\\croped\\\\0518_DoB1213B_baseline_croppedDLC_resnet50_Balance_BeamMay29shuffle1_150000.csv',\n",
       " 'G:\\\\works\\\\Data_archive\\\\8f_behav\\\\balance_beam\\\\2023May\\\\croped\\\\0518_DoB1213C_baseline_croppedDLC_resnet50_Balance_BeamMay29shuffle1_150000.csv',\n",
       " 'G:\\\\works\\\\Data_archive\\\\8f_behav\\\\balance_beam\\\\2023May\\\\croped\\\\0518_DoB1213D_baseline_croppedDLC_resnet50_Balance_BeamMay29shuffle1_150000.csv',\n",
       " 'G:\\\\works\\\\Data_archive\\\\8f_behav\\\\balance_beam\\\\2023May\\\\croped\\\\0518_DoB1213E_baseline_croppedDLC_resnet50_Balance_BeamMay29shuffle1_150000.csv',\n",
       " 'G:\\\\works\\\\Data_archive\\\\8f_behav\\\\balance_beam\\\\2023May\\\\croped\\\\0518_DoB1219A_baseline_croppedDLC_resnet50_Balance_BeamMay29shuffle1_150000.csv',\n",
       " 'G:\\\\works\\\\Data_archive\\\\8f_behav\\\\balance_beam\\\\2023May\\\\croped\\\\0518_DoB1219B_baseline_croppedDLC_resnet50_Balance_BeamMay29shuffle1_150000.csv',\n",
       " 'G:\\\\works\\\\Data_archive\\\\8f_behav\\\\balance_beam\\\\2023May\\\\croped\\\\0518_DoB1219D_baseline_croppedDLC_resnet50_Balance_BeamMay29shuffle1_150000.csv',\n",
       " 'G:\\\\works\\\\Data_archive\\\\8f_behav\\\\balance_beam\\\\2023May\\\\croped\\\\0518_DoB1219E_baseline_croppedDLC_resnet50_Balance_BeamMay29shuffle1_150000.csv',\n",
       " 'G:\\\\works\\\\Data_archive\\\\8f_behav\\\\balance_beam\\\\2023May\\\\croped\\\\0518_G290_baseline_croppedDLC_resnet50_Balance_BeamMay29shuffle1_150000.csv',\n",
       " 'G:\\\\works\\\\Data_archive\\\\8f_behav\\\\balance_beam\\\\2023May\\\\croped\\\\0518_G291_baseline_croppedDLC_resnet50_Balance_BeamMay29shuffle1_150000.csv',\n",
       " 'G:\\\\works\\\\Data_archive\\\\8f_behav\\\\balance_beam\\\\2023May\\\\croped\\\\0519_DoB0904A_CTZ_croppedDLC_resnet50_Balance_BeamMay29shuffle1_150000.csv',\n",
       " 'G:\\\\works\\\\Data_archive\\\\8f_behav\\\\balance_beam\\\\2023May\\\\croped\\\\0519_DoB0904B_CTZ_croppedDLC_resnet50_Balance_BeamMay29shuffle1_150000.csv',\n",
       " 'G:\\\\works\\\\Data_archive\\\\8f_behav\\\\balance_beam\\\\2023May\\\\croped\\\\0519_DoB0904C_CTZ_croppedDLC_resnet50_Balance_BeamMay29shuffle1_150000.csv',\n",
       " 'G:\\\\works\\\\Data_archive\\\\8f_behav\\\\balance_beam\\\\2023May\\\\croped\\\\0519_DoB0904D_CTZ_croppedDLC_resnet50_Balance_BeamMay29shuffle1_150000.csv',\n",
       " 'G:\\\\works\\\\Data_archive\\\\8f_behav\\\\balance_beam\\\\2023May\\\\croped\\\\0519_DoB01213A_CTZ_croppedDLC_resnet50_Balance_BeamMay29shuffle1_150000.csv',\n",
       " 'G:\\\\works\\\\Data_archive\\\\8f_behav\\\\balance_beam\\\\2023May\\\\croped\\\\0519_DoB1213B_CTZ_croppedDLC_resnet50_Balance_BeamMay29shuffle1_150000.csv',\n",
       " 'G:\\\\works\\\\Data_archive\\\\8f_behav\\\\balance_beam\\\\2023May\\\\croped\\\\0519_DoB1213C_CTZ_croppedDLC_resnet50_Balance_BeamMay29shuffle1_150000.csv',\n",
       " 'G:\\\\works\\\\Data_archive\\\\8f_behav\\\\balance_beam\\\\2023May\\\\croped\\\\0519_DoB1213D_CTZ_croppedDLC_resnet50_Balance_BeamMay29shuffle1_150000.csv',\n",
       " 'G:\\\\works\\\\Data_archive\\\\8f_behav\\\\balance_beam\\\\2023May\\\\croped\\\\0519_DoB1213E_CTZ_croppedDLC_resnet50_Balance_BeamMay29shuffle1_150000.csv',\n",
       " 'G:\\\\works\\\\Data_archive\\\\8f_behav\\\\balance_beam\\\\2023May\\\\croped\\\\0519_DoB1219A_CTZ_croppedDLC_resnet50_Balance_BeamMay29shuffle1_150000.csv',\n",
       " 'G:\\\\works\\\\Data_archive\\\\8f_behav\\\\balance_beam\\\\2023May\\\\croped\\\\0519_DoB1219B_CTZ_croppedDLC_resnet50_Balance_BeamMay29shuffle1_150000.csv',\n",
       " 'G:\\\\works\\\\Data_archive\\\\8f_behav\\\\balance_beam\\\\2023May\\\\croped\\\\0519_DoB1219D_CTZ_croppedDLC_resnet50_Balance_BeamMay29shuffle1_150000.csv',\n",
       " 'G:\\\\works\\\\Data_archive\\\\8f_behav\\\\balance_beam\\\\2023May\\\\croped\\\\0519_DoB1219E_CTZ_croppedDLC_resnet50_Balance_BeamMay29shuffle1_150000.csv',\n",
       " 'G:\\\\works\\\\Data_archive\\\\8f_behav\\\\balance_beam\\\\2023May\\\\croped\\\\0519_G290_CTZ_croppedDLC_resnet50_Balance_BeamMay29shuffle1_150000.csv',\n",
       " 'G:\\\\works\\\\Data_archive\\\\8f_behav\\\\balance_beam\\\\2023May\\\\croped\\\\0519_G291_CTZ_croppedDLC_resnet50_Balance_BeamMay29shuffle1_150000.csv',\n",
       " 'G:\\\\works\\\\Data_archive\\\\8f_behav\\\\balance_beam\\\\2023May\\\\croped\\\\0522_DoB0904A_saline_croppedDLC_resnet50_Balance_BeamMay29shuffle1_150000.csv',\n",
       " 'G:\\\\works\\\\Data_archive\\\\8f_behav\\\\balance_beam\\\\2023May\\\\croped\\\\0522_DoB0904B_saline_croppedDLC_resnet50_Balance_BeamMay29shuffle1_150000.csv',\n",
       " 'G:\\\\works\\\\Data_archive\\\\8f_behav\\\\balance_beam\\\\2023May\\\\croped\\\\0522_DoB0904C_CTZ_croppedDLC_resnet50_Balance_BeamMay29shuffle1_150000.csv',\n",
       " 'G:\\\\works\\\\Data_archive\\\\8f_behav\\\\balance_beam\\\\2023May\\\\croped\\\\0522_DoB0904D_CTZ_croppedDLC_resnet50_Balance_BeamMay29shuffle1_150000.csv',\n",
       " 'G:\\\\works\\\\Data_archive\\\\8f_behav\\\\balance_beam\\\\2023May\\\\croped\\\\0522_DoB1213A_saline_croppedDLC_resnet50_Balance_BeamMay29shuffle1_150000.csv',\n",
       " 'G:\\\\works\\\\Data_archive\\\\8f_behav\\\\balance_beam\\\\2023May\\\\croped\\\\0522_DoB1213B_saline_croppedDLC_resnet50_Balance_BeamMay29shuffle1_150000.csv',\n",
       " 'G:\\\\works\\\\Data_archive\\\\8f_behav\\\\balance_beam\\\\2023May\\\\croped\\\\0522_DoB1213C_CTZ_croppedDLC_resnet50_Balance_BeamMay29shuffle1_150000.csv',\n",
       " 'G:\\\\works\\\\Data_archive\\\\8f_behav\\\\balance_beam\\\\2023May\\\\croped\\\\0522_DoB1213D_CTZ_croppedDLC_resnet50_Balance_BeamMay29shuffle1_150000.csv',\n",
       " 'G:\\\\works\\\\Data_archive\\\\8f_behav\\\\balance_beam\\\\2023May\\\\croped\\\\0522_DoB1213E_CTZ_croppedDLC_resnet50_Balance_BeamMay29shuffle1_150000.csv',\n",
       " 'G:\\\\works\\\\Data_archive\\\\8f_behav\\\\balance_beam\\\\2023May\\\\croped\\\\0522_DoB1219A_saline_croppedDLC_resnet50_Balance_BeamMay29shuffle1_150000.csv',\n",
       " 'G:\\\\works\\\\Data_archive\\\\8f_behav\\\\balance_beam\\\\2023May\\\\croped\\\\0522_DoB1219B_saline_croppedDLC_resnet50_Balance_BeamMay29shuffle1_150000.csv',\n",
       " 'G:\\\\works\\\\Data_archive\\\\8f_behav\\\\balance_beam\\\\2023May\\\\croped\\\\0522_DoB1219D_CTZ_croppedDLC_resnet50_Balance_BeamMay29shuffle1_150000.csv',\n",
       " 'G:\\\\works\\\\Data_archive\\\\8f_behav\\\\balance_beam\\\\2023May\\\\croped\\\\0522_DoB1219E_CTZ_croppedDLC_resnet50_Balance_BeamMay29shuffle1_150000.csv',\n",
       " 'G:\\\\works\\\\Data_archive\\\\8f_behav\\\\balance_beam\\\\2023May\\\\croped\\\\0522_G290_saline_croppedDLC_resnet50_Balance_BeamMay29shuffle1_150000.csv',\n",
       " 'G:\\\\works\\\\Data_archive\\\\8f_behav\\\\balance_beam\\\\2023May\\\\croped\\\\0522_G291_CTZ_croppedDLC_resnet50_Balance_BeamMay29shuffle1_150000.csv']"
      ]
     },
     "execution_count": 10,
     "metadata": {},
     "output_type": "execute_result"
    }
   ],
   "source": [
    "csv_files"
   ]
  }
 ],
 "metadata": {
  "kernelspec": {
   "display_name": "Python 3 (ipykernel)",
   "language": "python",
   "name": "python3"
  },
  "language_info": {
   "codemirror_mode": {
    "name": "ipython",
    "version": 3
   },
   "file_extension": ".py",
   "mimetype": "text/x-python",
   "name": "python",
   "nbconvert_exporter": "python",
   "pygments_lexer": "ipython3",
   "version": "3.9.13"
  }
 },
 "nbformat": 4,
 "nbformat_minor": 5
}
