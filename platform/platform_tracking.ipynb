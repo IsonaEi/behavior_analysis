{
 "cells": [
  {
   "cell_type": "markdown",
   "metadata": {},
   "source": [
    "platform_tracking"
   ]
  },
  {
   "cell_type": "code",
   "execution_count": 166,
   "metadata": {},
   "outputs": [],
   "source": [
    "p_value = 0.9"
   ]
  },
  {
   "cell_type": "code",
   "execution_count": 2,
   "metadata": {},
   "outputs": [],
   "source": [
    "#read DLC output .h5 file\n",
    "\n",
    "import pandas as pd\n",
    "from tkinter import Tk, filedialog\n",
    "\n",
    "root = Tk() \n",
    "root.attributes('-topmost', True)  # put the window on top of others\n",
    "root.withdraw() # hide the Tkinter GUI\n",
    "\n",
    "# read the file path\n",
    "all_data_file_paths = filedialog.askopenfilenames(parent = root ,title='選擇資料檔案', filetypes=[('DLC output files', '*.h5')])\n",
    "\n",
    "# Open the .h5 file\n",
    "for index, data_file_path in enumerate(all_data_file_paths):\n",
    "\n",
    "    # Access the dataset within the file\n",
    "    df = pd.read_hdf(data_file_path)\n",
    "    print(df)"
   ]
  },
  {
   "cell_type": "code",
   "execution_count": 167,
   "metadata": {},
   "outputs": [],
   "source": [
    "# filter the data with low p_value\n",
    "for index, row in df.iterrows():\n",
    "\n",
    "\n",
    "    if df['DLC_effnet_b3_air_platform_track_2Nov29shuffle1_20000']['cross']['likelihood'].iloc[index] < p_value :\n",
    "        df.loc[index, ('DLC_effnet_b3_air_platform_track_2Nov29shuffle1_20000', 'cross', 'x')] = None\n",
    "        df.loc[index, ('DLC_effnet_b3_air_platform_track_2Nov29shuffle1_20000', 'cross', 'y')] = None\n",
    "\n",
    "    if df['DLC_effnet_b3_air_platform_track_2Nov29shuffle1_20000']['circle']['likelihood'].iloc[index] < p_value :\n",
    "        df.loc[index, ('DLC_effnet_b3_air_platform_track_2Nov29shuffle1_20000', 'circle', 'x')] = None\n",
    "        df.loc[index, ('DLC_effnet_b3_air_platform_track_2Nov29shuffle1_20000', 'circle', 'y')] = None\n",
    "\n",
    "    if df['DLC_effnet_b3_air_platform_track_2Nov29shuffle1_20000']['triangle']['likelihood'].iloc[index] < p_value :\n",
    "        df.loc[index, ('DLC_effnet_b3_air_platform_track_2Nov29shuffle1_20000', 'triangle', 'x')] = None\n",
    "        df.loc[index, ('DLC_effnet_b3_air_platform_track_2Nov29shuffle1_20000', 'triangle', 'y')] = None\n",
    "    \n",
    "    if df['DLC_effnet_b3_air_platform_track_2Nov29shuffle1_20000']['square']['likelihood'].iloc[index] < p_value :\n",
    "        df.loc[index, ('DLC_effnet_b3_air_platform_track_2Nov29shuffle1_20000', 'square', 'x')] = None\n",
    "        df.loc[index, ('DLC_effnet_b3_air_platform_track_2Nov29shuffle1_20000', 'square', 'y')] = None\n",
    "    \n"
   ]
  },
  {
   "cell_type": "code",
   "execution_count": 233,
   "metadata": {},
   "outputs": [],
   "source": [
    "# cauculate the center of the platform\n",
    "import numpy as np\n",
    "\n",
    "import numpy as np\n",
    "\n",
    "for index, row in df.iterrows():\n",
    "    # label the nan points\n",
    "    if pd.isna(df['DLC_effnet_b3_air_platform_track_2Nov29shuffle1_20000']['cross']['x'].iloc[index]):\n",
    "        df.loc[index, ('DLC_effnet_b3_air_platform_track_2Nov29shuffle1_20000', 'cross', 'tracked')] = 0\n",
    "    else:\n",
    "        df.loc[index, ('DLC_effnet_b3_air_platform_track_2Nov29shuffle1_20000', 'cross', 'tracked')] = 1\n",
    "\n",
    "    if pd.isna(df['DLC_effnet_b3_air_platform_track_2Nov29shuffle1_20000']['circle']['x'].iloc[index]):\n",
    "        df.loc[index, ('DLC_effnet_b3_air_platform_track_2Nov29shuffle1_20000', 'circle', 'tracked')] = 0\n",
    "    else:\n",
    "        df.loc[index, ('DLC_effnet_b3_air_platform_track_2Nov29shuffle1_20000', 'circle', 'tracked')] = 1\n",
    "\n",
    "    if pd.isna(df['DLC_effnet_b3_air_platform_track_2Nov29shuffle1_20000']['triangle']['x'].iloc[index]):\n",
    "        df.loc[index, ('DLC_effnet_b3_air_platform_track_2Nov29shuffle1_20000', 'triangle', 'tracked')] = 0\n",
    "    else:\n",
    "        df.loc[index, ('DLC_effnet_b3_air_platform_track_2Nov29shuffle1_20000', 'triangle', 'tracked')] = 1\n",
    "\n",
    "    if pd.isna(df['DLC_effnet_b3_air_platform_track_2Nov29shuffle1_20000']['square']['x'].iloc[index]):\n",
    "        df.loc[index, ('DLC_effnet_b3_air_platform_track_2Nov29shuffle1_20000', 'square', 'tracked')] = 0\n",
    "    else:\n",
    "        df.loc[index, ('DLC_effnet_b3_air_platform_track_2Nov29shuffle1_20000', 'square', 'tracked')] = 1\n",
    "\n",
    "    \n",
    "    # with four points\n",
    "\n",
    "\n",
    "\n",
    "    # with three points\n",
    "\n",
    "\n",
    "\n",
    "    # with diagonal two points\n",
    "\n",
    "\n",
    "\n",
    "\n",
    "    # with adjacent two points\n",
    "\n",
    "\n",
    "\n",
    "    # with one or no point\n"
   ]
  }
 ],
 "metadata": {
  "kernelspec": {
   "display_name": "basic",
   "language": "python",
   "name": "python3"
  },
  "language_info": {
   "codemirror_mode": {
    "name": "ipython",
    "version": 3
   },
   "file_extension": ".py",
   "mimetype": "text/x-python",
   "name": "python",
   "nbconvert_exporter": "python",
   "pygments_lexer": "ipython3",
   "version": "3.11.5"
  }
 },
 "nbformat": 4,
 "nbformat_minor": 2
}
