{
 "cells": [
  {
   "cell_type": "code",
   "execution_count": 2,
   "id": "df4642af",
   "metadata": {},
   "outputs": [
    {
     "data": {
      "application/vnd.jupyter.widget-view+json": {
       "model_id": "2ac6b02cde9e468e802f218fcc694d29",
       "version_major": 2,
       "version_minor": 0
      },
      "text/plain": [
       "  0%|          | 0/4 [00:00<?, ?it/s]"
      ]
     },
     "metadata": {},
     "output_type": "display_data"
    },
    {
     "data": {
      "application/vnd.jupyter.widget-view+json": {
       "model_id": "3cd9c673bfb642bbb652302fb2920c6b",
       "version_major": 2,
       "version_minor": 0
      },
      "text/plain": [
       "Processing ROI 0:   0%|          | 0/54000 [00:00<?, ?it/s]"
      ]
     },
     "metadata": {},
     "output_type": "display_data"
    },
    {
     "data": {
      "application/vnd.jupyter.widget-view+json": {
       "model_id": "1a6a081495624996af43d240c6ba41bb",
       "version_major": 2,
       "version_minor": 0
      },
      "text/plain": [
       "Processing ROI 3:   0%|          | 0/54000 [00:00<?, ?it/s]"
      ]
     },
     "metadata": {},
     "output_type": "display_data"
    },
    {
     "data": {
      "application/vnd.jupyter.widget-view+json": {
       "model_id": "5406c6001c8f4339a92f79d76af2f203",
       "version_major": 2,
       "version_minor": 0
      },
      "text/plain": [
       "Processing ROI 1:   0%|          | 0/54000 [00:00<?, ?it/s]"
      ]
     },
     "metadata": {},
     "output_type": "display_data"
    },
    {
     "data": {
      "application/vnd.jupyter.widget-view+json": {
       "model_id": "bccbc683bafb45328aaa1165a34d7995",
       "version_major": 2,
       "version_minor": 0
      },
      "text/plain": [
       "Processing ROI 2:   0%|          | 0/54000 [00:00<?, ?it/s]"
      ]
     },
     "metadata": {},
     "output_type": "display_data"
    }
   ],
   "source": [
    "import cv2\n",
    "import numpy as np\n",
    "import psutil\n",
    "import os\n",
    "from tqdm.contrib.concurrent import thread_map\n",
    "from tqdm.auto import tqdm\n",
    "from tkinter import Tk, filedialog\n",
    "from multiprocessing import cpu_count\n",
    "from multiprocessing.dummy import Pool as ThreadPool\n",
    "\n",
    "p = psutil.Process(os.getpid())\n",
    "p.cpu_affinity([0, 1, 2, 3, 4, 5, 6, 7, 8, 9, 10, 11, 12, 13, 14, 15])\n",
    "\n",
    "\n",
    "# 選取資料檔案\n",
    "root = Tk()\n",
    "root.attributes('-topmost', True)  # 將主視窗設置為最上層\n",
    "root.withdraw()\n",
    "\n",
    "data_file_paths = filedialog.askopenfilenames(parent = root ,title='選擇資料檔案')\n",
    "\n",
    "filename = data_file_paths\n",
    "\n",
    "\n",
    "#output\n",
    "width, height = 480, 480\n",
    "fps = 30\n",
    "savefilename = os.path.basename(filename[0])\n",
    "# 輸出資料夾設定\n",
    "output_dir = filedialog.askdirectory(title='選擇輸出資料夾')\n",
    "ROI_num = 4\n",
    "start_time = [12, 546, 966, 1516] #sec\n",
    "duration = 30 #min\n",
    "ispreview = False\n",
    "\n",
    "\n",
    "# 創建VideoCapture對象\n",
    "cap = cv2.VideoCapture(filename[0])\n",
    "total_frames = int(cap.get(cv2.CAP_PROP_FRAME_COUNT))\n",
    "\n",
    "# 檢查文件是否成功打開\n",
    "if not cap.isOpened():\n",
    "    print('無法打開文件')\n",
    "\n",
    "# 建立 VideoWriter 物件\n",
    "fourcc = cv2.VideoWriter_fourcc(*'mp4v')\n",
    "\n",
    "# 創建窗口並設置鼠標回調函數\n",
    "cv2.namedWindow('frame')\n",
    "points = []\n",
    "Ms = []\n",
    "\n",
    "def mouse_callback(event, x, y, flags, param):\n",
    "    if event == cv2.EVENT_LBUTTONDOWN:\n",
    "        points.append((x, y))\n",
    "        if len(points) == ROI_num*4:\n",
    "            cv2.setMouseCallback('frame', lambda *args: None)\n",
    "\n",
    "cv2.setMouseCallback('frame', mouse_callback)\n",
    "\n",
    "previewed = False\n",
    "\n",
    "# 開始讀取視頻幀\n",
    "while True:\n",
    "    ret, frame = cap.read()\n",
    "    \n",
    "    # 當讀取完所有幀，退出循環\n",
    "    if not ret:\n",
    "        break\n",
    "        \n",
    "    resized_frame = cv2.resize(frame, (1600, 900))\n",
    "        \n",
    "    # 在每次點擊時繪製圓圈\n",
    "    for point in points:\n",
    "        cv2.circle(resized_frame, point, 5, (0, 0, 255), -1)\n",
    "        \n",
    "    # 等待用戶選擇四個點\n",
    "    if len(points) < ROI_num*4:\n",
    "        cv2.imshow('frame', resized_frame)\n",
    "        cv2.waitKey(1)\n",
    "        continue\n",
    "        \n",
    "    # 計算變換矩陣\n",
    "    dst_points = np.float32([[0, 0], [height, 0], [height, width], [0, width]])\n",
    "    \n",
    "    for i in range(ROI_num):\n",
    "        src_points = np.float32((points[0+i*4],points[1+i*4],points[2+i*4],points[3+i*4]))\n",
    "        M = cv2.getPerspectiveTransform(src_points, dst_points)\n",
    "        Ms.append(M)\n",
    "    break\n",
    "    \n",
    "\n",
    "def process_roi(i):\n",
    "    try:\n",
    "        outputfull = os.path.join(output_dir, savefilename + f'_ROI_{i}.mp4')\n",
    "        out = cv2.VideoWriter(outputfull, fourcc, fps, (width, height))\n",
    "        cap = cv2.VideoCapture(filename[0])\n",
    "        cap.set(cv2.CAP_PROP_POS_FRAMES, start_time[i]*fps)\n",
    "        now_frames = 0\n",
    "        end_frame = (60*duration)*fps\n",
    "        \n",
    "        for _ in tqdm(range(end_frame), desc=f\"Processing ROI {i}\"):\n",
    "            ret, frame = cap.read()\n",
    "            \n",
    "            if not ret or now_frames >= end_frame:\n",
    "                break\n",
    "                \n",
    "            resized_frame = cv2.resize(frame, (1600, 900))\n",
    "            warped = cv2.warpPerspective(resized_frame, Ms[i], (height, width))\n",
    "            resized_frame = cv2.resize(warped, (480, 480))\n",
    "            \n",
    "            out.write(resized_frame)\n",
    "            now_frames += 1\n",
    "\n",
    "    except Exception as e:\n",
    "        print(f\"Error in thread {i}: {e}\")\n",
    "    finally:\n",
    "        # 確保資源被釋放\n",
    "        cap.release()\n",
    "        out.release()\n",
    "        cv2.destroyAllWindows()\n",
    "\n",
    "if __name__ == '__main__':\n",
    "    thread_map(process_roi, range(ROI_num), max_workers=cpu_count())\n",
    "    cv2.destroyAllWindows()"
   ]
  }
 ],
 "metadata": {
  "kernelspec": {
   "display_name": "Python 3 (ipykernel)",
   "language": "python",
   "name": "python3"
  },
  "language_info": {
   "codemirror_mode": {
    "name": "ipython",
    "version": 3
   },
   "file_extension": ".py",
   "mimetype": "text/x-python",
   "name": "python",
   "nbconvert_exporter": "python",
   "pygments_lexer": "ipython3",
   "version": "3.11.5"
  }
 },
 "nbformat": 4,
 "nbformat_minor": 5
}
