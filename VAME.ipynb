{
 "cells": [
  {
   "cell_type": "code",
   "execution_count": 1,
   "id": "1da18636",
   "metadata": {},
   "outputs": [
    {
     "name": "stdout",
     "output_type": "stream",
     "text": [
      "Using CUDA\n",
      "GPU active: True\n",
      "GPU used: NVIDIA GeForce RTX 3060\n"
     ]
    }
   ],
   "source": [
    "ProjectName  = 'BalanceBeam_VAME'\n",
    "Experimenter = 'MX'\n",
    "Date         = '2023_06_14'\n",
    "VideoFoldDir = [r'D:\\works\\Data_analysis\\projects\\balance_beam\\2023May\\preprocessed_DLC_data']\n",
    "VideoType    = '.mp4'\n",
    "WorkDir      = r'D:\\works\\Data_analysis\\projects\\balance_beam\\2023May'\n",
    "\n",
    "import os\n",
    "import matplotlib\n",
    "import vame"
   ]
  },
  {
   "cell_type": "code",
   "execution_count": 2,
   "id": "d3faddfd",
   "metadata": {},
   "outputs": [],
   "source": [
    "VideoDir = []\n",
    "for folder in VideoFoldDir:\n",
    "    VideoDir += [os.path.join(folder, f) for f in os.listdir(folder) if os.path.isfile(os.path.join(folder, f))]\n",
    "FullPN = ProjectName+'-'+Experimenter"
   ]
  },
  {
   "cell_type": "code",
   "execution_count": 3,
   "id": "66581a78",
   "metadata": {},
   "outputs": [],
   "source": [
    "matplotlib.use(\"QtAgg\")\n",
    "import matplotlib.pyplot as plt\n",
    "#config = vame.init_new_project(project=FullPN, videos=VideoDir, working_directory=WorkDir, videotype=VideoType)\n",
    "config = r\"D:\\works\\Data_analysis\\projects\\balance_beam\\2023May\\BalanceBeam_VAME-MX-Jun14-2023\\config.yaml\""
   ]
  },
  {
   "cell_type": "code",
   "execution_count": 5,
   "id": "bdb9cac6",
   "metadata": {},
   "outputs": [
    {
     "name": "stdout",
     "output_type": "stream",
     "text": [
      "Aligning data 0518_DoB0904A_baseline_cropped, Pose confidence value: 0.80\n"
     ]
    },
    {
     "name": "stderr",
     "output_type": "stream",
     "text": [
      "Compute background image for video 0518_DoB0904A_baseline_cropped: 100%|██████████| 1000/1000 [00:08<00:00, 123.50it/s]\n"
     ]
    },
    {
     "name": "stdout",
     "output_type": "stream",
     "text": [
      "Finishing up!\n"
     ]
    },
    {
     "name": "stderr",
     "output_type": "stream",
     "text": [
      "Align frames: 100%|██████████| 10171/10171 [01:59<00:00, 85.27it/s]\n"
     ]
    },
    {
     "ename": "IndexError",
     "evalue": "list index out of range",
     "output_type": "error",
     "traceback": [
      "\u001b[1;31m---------------------------------------------------------------------------\u001b[0m",
      "\u001b[1;31mIndexError\u001b[0m                                Traceback (most recent call last)",
      "\u001b[1;32m~\\AppData\\Local\\Temp\\ipykernel_12772\\508322804.py\u001b[0m in \u001b[0;36m<module>\u001b[1;34m\u001b[0m\n\u001b[1;32m----> 1\u001b[1;33m \u001b[0mvame\u001b[0m\u001b[1;33m.\u001b[0m\u001b[0megocentric_alignment\u001b[0m\u001b[1;33m(\u001b[0m\u001b[0mconfig\u001b[0m\u001b[1;33m,\u001b[0m \u001b[0mpose_ref_index\u001b[0m\u001b[1;33m=\u001b[0m\u001b[1;33m[\u001b[0m\u001b[1;36m2\u001b[0m\u001b[1;33m,\u001b[0m\u001b[1;36m13\u001b[0m\u001b[1;33m]\u001b[0m\u001b[1;33m,\u001b[0m \u001b[0mcrop_size\u001b[0m\u001b[1;33m=\u001b[0m\u001b[1;33m(\u001b[0m\u001b[1;36m180\u001b[0m\u001b[1;33m,\u001b[0m\u001b[1;36m180\u001b[0m\u001b[1;33m)\u001b[0m\u001b[1;33m,\u001b[0m \u001b[0muse_video\u001b[0m\u001b[1;33m=\u001b[0m\u001b[1;32mTrue\u001b[0m\u001b[1;33m,\u001b[0m \u001b[0mvideo_format\u001b[0m\u001b[1;33m=\u001b[0m\u001b[1;34m'.mp4'\u001b[0m\u001b[1;33m,\u001b[0m \u001b[0mcheck_video\u001b[0m\u001b[1;33m=\u001b[0m\u001b[1;32mTrue\u001b[0m\u001b[1;33m)\u001b[0m\u001b[1;33m\u001b[0m\u001b[1;33m\u001b[0m\u001b[0m\n\u001b[0m",
      "\u001b[1;32md:\\App\\anaconda3\\envs\\VAME\\lib\\site-packages\\vame-1.0-py3.7.egg\\vame\\util\\align_egocentrical.py\u001b[0m in \u001b[0;36megocentric_alignment\u001b[1;34m(config, pose_ref_index, crop_size, use_video, video_format, check_video)\u001b[0m\n\u001b[0;32m    315\u001b[0m         \u001b[0mprint\u001b[0m\u001b[1;33m(\u001b[0m\u001b[1;34m\"Aligning data %s, Pose confidence value: %.2f\"\u001b[0m \u001b[1;33m%\u001b[0m\u001b[1;33m(\u001b[0m\u001b[0mfile\u001b[0m\u001b[1;33m,\u001b[0m \u001b[0mconfidence\u001b[0m\u001b[1;33m)\u001b[0m\u001b[1;33m)\u001b[0m\u001b[1;33m\u001b[0m\u001b[1;33m\u001b[0m\u001b[0m\n\u001b[0;32m    316\u001b[0m         egocentric_time_series, frames = alignment(path_to_file, file, pose_ref_index, video_format, crop_size, \n\u001b[1;32m--> 317\u001b[1;33m                                                    confidence, use_video=use_video, check_video=check_video)\n\u001b[0m\u001b[0;32m    318\u001b[0m         \u001b[0mnp\u001b[0m\u001b[1;33m.\u001b[0m\u001b[0msave\u001b[0m\u001b[1;33m(\u001b[0m\u001b[0mos\u001b[0m\u001b[1;33m.\u001b[0m\u001b[0mpath\u001b[0m\u001b[1;33m.\u001b[0m\u001b[0mjoin\u001b[0m\u001b[1;33m(\u001b[0m\u001b[0mpath_to_file\u001b[0m\u001b[1;33m,\u001b[0m\u001b[1;34m'data'\u001b[0m\u001b[1;33m,\u001b[0m\u001b[0mfile\u001b[0m\u001b[1;33m,\u001b[0m\u001b[0mfile\u001b[0m\u001b[1;33m+\u001b[0m\u001b[1;34m'-PE-seq.npy'\u001b[0m\u001b[1;33m)\u001b[0m\u001b[1;33m,\u001b[0m \u001b[0megocentric_time_series\u001b[0m\u001b[1;33m)\u001b[0m\u001b[1;33m\u001b[0m\u001b[1;33m\u001b[0m\u001b[0m\n\u001b[0;32m    319\u001b[0m \u001b[1;31m#        np.save(os.path.join(path_to_file,'data/',file,\"\",file+'-PE-seq.npy', egocentric_time_series))\u001b[0m\u001b[1;33m\u001b[0m\u001b[1;33m\u001b[0m\u001b[1;33m\u001b[0m\u001b[0m\n",
      "\u001b[1;32md:\\App\\anaconda3\\envs\\VAME\\lib\\site-packages\\vame-1.0-py3.7.egg\\vame\\util\\align_egocentrical.py\u001b[0m in \u001b[0;36malignment\u001b[1;34m(path_to_file, filename, pose_ref_index, video_format, crop_size, confidence, use_video, check_video)\u001b[0m\n\u001b[0;32m    291\u001b[0m \u001b[1;33m\u001b[0m\u001b[0m\n\u001b[0;32m    292\u001b[0m     \u001b[1;32mif\u001b[0m \u001b[0mcheck_video\u001b[0m\u001b[1;33m:\u001b[0m\u001b[1;33m\u001b[0m\u001b[1;33m\u001b[0m\u001b[0m\n\u001b[1;32m--> 293\u001b[1;33m         \u001b[0mplay_aligned_video\u001b[0m\u001b[1;33m(\u001b[0m\u001b[0mframes\u001b[0m\u001b[1;33m,\u001b[0m \u001b[0mn\u001b[0m\u001b[1;33m,\u001b[0m \u001b[0mframe_count\u001b[0m\u001b[1;33m)\u001b[0m\u001b[1;33m\u001b[0m\u001b[1;33m\u001b[0m\u001b[0m\n\u001b[0m\u001b[0;32m    294\u001b[0m \u001b[1;33m\u001b[0m\u001b[0m\n\u001b[0;32m    295\u001b[0m     \u001b[1;32mreturn\u001b[0m \u001b[0mtime_series\u001b[0m\u001b[1;33m,\u001b[0m \u001b[0mframes\u001b[0m\u001b[1;33m\u001b[0m\u001b[1;33m\u001b[0m\u001b[0m\n",
      "\u001b[1;32md:\\App\\anaconda3\\envs\\VAME\\lib\\site-packages\\vame-1.0-py3.7.egg\\vame\\util\\align_egocentrical.py\u001b[0m in \u001b[0;36mplay_aligned_video\u001b[1;34m(a, n, frame_count)\u001b[0m\n\u001b[0;32m    237\u001b[0m           \u001b[0mim_color\u001b[0m \u001b[1;33m=\u001b[0m \u001b[0mcv\u001b[0m\u001b[1;33m.\u001b[0m\u001b[0mapplyColorMap\u001b[0m\u001b[1;33m(\u001b[0m\u001b[0mframe\u001b[0m\u001b[1;33m,\u001b[0m \u001b[0mcv\u001b[0m\u001b[1;33m.\u001b[0m\u001b[0mCOLORMAP_JET\u001b[0m\u001b[1;33m)\u001b[0m\u001b[1;33m\u001b[0m\u001b[1;33m\u001b[0m\u001b[0m\n\u001b[0;32m    238\u001b[0m           \u001b[1;32mfor\u001b[0m \u001b[0mc\u001b[0m\u001b[1;33m,\u001b[0m\u001b[0mj\u001b[0m \u001b[1;32min\u001b[0m \u001b[0menumerate\u001b[0m\u001b[1;33m(\u001b[0m\u001b[0mn\u001b[0m\u001b[1;33m[\u001b[0m\u001b[0mi\u001b[0m\u001b[1;33m]\u001b[0m\u001b[1;33m)\u001b[0m\u001b[1;33m:\u001b[0m\u001b[1;33m\u001b[0m\u001b[1;33m\u001b[0m\u001b[0m\n\u001b[1;32m--> 239\u001b[1;33m               \u001b[0mcv\u001b[0m\u001b[1;33m.\u001b[0m\u001b[0mcircle\u001b[0m\u001b[1;33m(\u001b[0m\u001b[0mim_color\u001b[0m\u001b[1;33m,\u001b[0m\u001b[1;33m(\u001b[0m\u001b[0mj\u001b[0m\u001b[1;33m[\u001b[0m\u001b[1;36m0\u001b[0m\u001b[1;33m]\u001b[0m\u001b[1;33m,\u001b[0m \u001b[0mj\u001b[0m\u001b[1;33m[\u001b[0m\u001b[1;36m1\u001b[0m\u001b[1;33m]\u001b[0m\u001b[1;33m)\u001b[0m\u001b[1;33m,\u001b[0m \u001b[1;36m5\u001b[0m\u001b[1;33m,\u001b[0m \u001b[0mcolors\u001b[0m\u001b[1;33m[\u001b[0m\u001b[0mc\u001b[0m\u001b[1;33m]\u001b[0m\u001b[1;33m,\u001b[0m \u001b[1;33m-\u001b[0m\u001b[1;36m1\u001b[0m\u001b[1;33m)\u001b[0m\u001b[1;33m\u001b[0m\u001b[1;33m\u001b[0m\u001b[0m\n\u001b[0m\u001b[0;32m    240\u001b[0m \u001b[1;33m\u001b[0m\u001b[0m\n\u001b[0;32m    241\u001b[0m           \u001b[0mcv\u001b[0m\u001b[1;33m.\u001b[0m\u001b[0mimshow\u001b[0m\u001b[1;33m(\u001b[0m\u001b[1;34m'Frame'\u001b[0m\u001b[1;33m,\u001b[0m\u001b[0mim_color\u001b[0m\u001b[1;33m)\u001b[0m\u001b[1;33m\u001b[0m\u001b[1;33m\u001b[0m\u001b[0m\n",
      "\u001b[1;31mIndexError\u001b[0m: list index out of range"
     ]
    }
   ],
   "source": [
    "vame.egocentric_alignment(config, pose_ref_index=[2,13], crop_size=(180,180), use_video=True, video_format='.mp4', check_video=True)"
   ]
  },
  {
   "cell_type": "code",
   "execution_count": 5,
   "id": "04c9e54c",
   "metadata": {},
   "outputs": [
    {
     "name": "stdout",
     "output_type": "stream",
     "text": [
      "Creating training dataset...\n",
      "Using robust setting to eliminate outliers! IQR factor: 4\n",
      "Creating trainset from the vame.csv_to_numpy() output \n",
      "z-scoring of file wt5_ns\n",
      "IQR value: 0.22, IQR cutoff: 0.90\n",
      "z-scoring of file wt1_baseline\n",
      "IQR value: 0.20, IQR cutoff: 0.80\n",
      "z-scoring of file wt1_ns\n",
      "IQR value: 0.20, IQR cutoff: 0.79\n",
      "z-scoring of file wt2_baseline\n",
      "IQR value: 0.19, IQR cutoff: 0.78\n",
      "z-scoring of file wt2_ns\n",
      "IQR value: 0.21, IQR cutoff: 0.83\n",
      "z-scoring of file wt3_baseline\n",
      "IQR value: 0.22, IQR cutoff: 0.88\n",
      "z-scoring of file wt3_ns\n",
      "IQR value: 0.22, IQR cutoff: 0.88\n",
      "z-scoring of file wt4_baseline\n",
      "IQR value: 0.23, IQR cutoff: 0.91\n",
      "z-scoring of file wt4_ns\n",
      "IQR value: 0.23, IQR cutoff: 0.93\n",
      "z-scoring of file wt5_baseline\n",
      "IQR value: 0.21, IQR cutoff: 0.83\n",
      "z-scoring of file G291_1st_CTZ_720p\n",
      "IQR value: 0.21, IQR cutoff: 0.85\n",
      "z-scoring of file G266_1st_ns_720p\n",
      "IQR value: 0.24, IQR cutoff: 0.95\n",
      "z-scoring of file G267_1st_CTZ_720p\n",
      "IQR value: 0.20, IQR cutoff: 0.81\n",
      "z-scoring of file G268_1st_CTZ_720p\n",
      "IQR value: 0.21, IQR cutoff: 0.84\n",
      "z-scoring of file G269_1st_ns_720p\n",
      "IQR value: 0.19, IQR cutoff: 0.75\n",
      "z-scoring of file G270_1st_ns_720p\n",
      "IQR value: 0.20, IQR cutoff: 0.81\n",
      "z-scoring of file G290_1st_CTZ_720p\n",
      "IQR value: 0.19, IQR cutoff: 0.77\n",
      "Lenght of train data: 127081\n",
      "Lenght of test data: 14120\n",
      "A training and test set has been created. Next step: vame.train_model()\n"
     ]
    }
   ],
   "source": [
    "vame.create_trainset(config)"
   ]
  },
  {
   "cell_type": "code",
   "execution_count": 6,
   "id": "61c8facb",
   "metadata": {},
   "outputs": [
    {
     "name": "stdout",
     "output_type": "stream",
     "text": [
      "Train Variational Autoencoder - model name: VAME \n",
      "\n",
      "Using CUDA\n",
      "GPU active: True\n",
      "GPU used:  NVIDIA GeForce RTX 3060\n",
      "Latent Dimensions: 30, Time window: 30, Batch Size: 256, Beta: 1, lr: 0.0005\n",
      "\n",
      "Compute mean and std for temporal dataset.\n",
      "Initialize train data. Datapoints 127081\n",
      "Initialize test data. Datapoints 14120\n",
      "Scheduler step size: 100, Scheduler gamma: 0.20\n",
      "\n",
      "Start training... \n",
      "Epoch: 1\n",
      "Train loss: 62922.208, MSE-Loss: 36319.408, MSE-Future-Loss 26602.800, KL-Loss: 0.000, Kmeans-Loss: 0.000, weight: 0.00\n",
      "Test loss: 4660.841, MSE-Loss: 4660.841, KL-Loss: 0.000, Kmeans-Loss: 0.000\n",
      "\n",
      "\n",
      "Epoch: 2\n",
      "Train loss: 36206.016, MSE-Loss: 17386.079, MSE-Future-Loss 18819.937, KL-Loss: 0.000, Kmeans-Loss: 0.000, weight: 0.00\n",
      "Test loss: 3424.093, MSE-Loss: 3424.093, KL-Loss: 0.000, Kmeans-Loss: 0.000\n",
      "\n",
      "\n",
      "Epoch: 3\n",
      "Train loss: 31365.727, MSE-Loss: 13973.334, MSE-Future-Loss 17389.915, KL-Loss: 1.606, Kmeans-Loss: 0.872, weight: 0.25\n",
      "Test loss: 2955.888, MSE-Loss: 2953.470, KL-Loss: 1.615, Kmeans-Loss: 0.802\n",
      "\n",
      "\n",
      "Epoch: 4\n",
      "Train loss: 28275.473, MSE-Loss: 11949.761, MSE-Future-Loss 16320.647, KL-Loss: 3.252, Kmeans-Loss: 1.813, weight: 0.50\n",
      "Test loss: 2737.849, MSE-Loss: 2732.940, KL-Loss: 3.262, Kmeans-Loss: 1.647\n",
      "\n",
      "\n",
      "Epoch: 5\n",
      "Train loss: 26274.725, MSE-Loss: 10618.114, MSE-Future-Loss 15648.855, KL-Loss: 4.944, Kmeans-Loss: 2.812, weight: 0.75\n",
      "Test loss: 2538.649, MSE-Loss: 2531.055, KL-Loss: 5.066, Kmeans-Loss: 2.529\n",
      "\n",
      "\n",
      "Epoch: 6\n",
      "Train loss: 24897.284, MSE-Loss: 9881.273, MSE-Future-Loss 15005.529, KL-Loss: 6.631, Kmeans-Loss: 3.852, weight: 1.00\n",
      "Test loss: 2456.958, MSE-Loss: 2446.818, KL-Loss: 6.638, Kmeans-Loss: 3.502\n",
      "Saving model!\n",
      "\n",
      "\n",
      "Epoch: 7\n",
      "Train loss: 23524.238, MSE-Loss: 9184.761, MSE-Future-Loss 14328.870, KL-Loss: 6.658, Kmeans-Loss: 3.950, weight: 1.00\n",
      "Test loss: 2362.984, MSE-Loss: 2352.777, KL-Loss: 6.629, Kmeans-Loss: 3.578\n",
      "Saving model!\n",
      "\n",
      "\n",
      "Epoch: 8\n",
      "Train loss: 22434.051, MSE-Loss: 8812.146, MSE-Future-Loss 13611.168, KL-Loss: 6.695, Kmeans-Loss: 4.043, weight: 1.00\n",
      "Test loss: 2329.852, MSE-Loss: 2319.491, KL-Loss: 6.745, Kmeans-Loss: 3.616\n",
      "Saving model!\n",
      "\n",
      "\n",
      "Epoch: 9\n",
      "Train loss: 21534.387, MSE-Loss: 8445.780, MSE-Future-Loss 13077.712, KL-Loss: 6.766, Kmeans-Loss: 4.129, weight: 1.00\n",
      "Test loss: 2312.603, MSE-Loss: 2302.108, KL-Loss: 6.821, Kmeans-Loss: 3.675\n",
      "Saving model!\n",
      "\n",
      "\n",
      "Epoch: 10\n",
      "Train loss: 20497.908, MSE-Loss: 8057.672, MSE-Future-Loss 12429.224, KL-Loss: 6.812, Kmeans-Loss: 4.199, weight: 1.00\n",
      "Test loss: 2272.653, MSE-Loss: 2262.131, KL-Loss: 6.780, Kmeans-Loss: 3.741\n",
      "Saving model!\n",
      "\n",
      "\n",
      "Epoch: 11\n",
      "Train loss: 19978.891, MSE-Loss: 7919.563, MSE-Future-Loss 12048.233, KL-Loss: 6.826, Kmeans-Loss: 4.268, weight: 1.00\n",
      "Test loss: 2267.466, MSE-Loss: 2256.937, KL-Loss: 6.732, Kmeans-Loss: 3.798\n",
      "Saving model!\n",
      "\n",
      "\n",
      "Epoch: 12\n",
      "Train loss: 18995.553, MSE-Loss: 7584.355, MSE-Future-Loss 11400.036, KL-Loss: 6.835, Kmeans-Loss: 4.327, weight: 1.00\n",
      "Test loss: 2213.350, MSE-Loss: 2202.791, KL-Loss: 6.708, Kmeans-Loss: 3.851\n",
      "Saving model!\n",
      "\n",
      "\n",
      "Epoch: 13\n",
      "Train loss: 18298.153, MSE-Loss: 7349.041, MSE-Future-Loss 10937.870, KL-Loss: 6.864, Kmeans-Loss: 4.378, weight: 1.00\n",
      "Test loss: 2256.333, MSE-Loss: 2245.689, KL-Loss: 6.785, Kmeans-Loss: 3.858\n",
      "\n",
      "\n",
      "Epoch: 14\n",
      "Train loss: 17581.268, MSE-Loss: 7148.830, MSE-Future-Loss 10421.151, KL-Loss: 6.875, Kmeans-Loss: 4.412, weight: 1.00\n",
      "Test loss: 2136.244, MSE-Loss: 2125.600, KL-Loss: 6.760, Kmeans-Loss: 3.884\n",
      "Saving model!\n",
      "\n",
      "\n",
      "Epoch: 15\n",
      "Train loss: 17050.797, MSE-Loss: 6975.583, MSE-Future-Loss 10063.863, KL-Loss: 6.902, Kmeans-Loss: 4.449, weight: 1.00\n",
      "Test loss: 2139.936, MSE-Loss: 2129.215, KL-Loss: 6.791, Kmeans-Loss: 3.929\n",
      "\n",
      "\n",
      "Epoch: 16\n",
      "Train loss: 16423.217, MSE-Loss: 6814.535, MSE-Future-Loss 9597.288, KL-Loss: 6.914, Kmeans-Loss: 4.479, weight: 1.00\n",
      "Test loss: 2204.213, MSE-Loss: 2193.463, KL-Loss: 6.798, Kmeans-Loss: 3.952\n",
      "\n",
      "\n",
      "Epoch: 17\n",
      "Train loss: 15968.903, MSE-Loss: 6605.047, MSE-Future-Loss 9352.428, KL-Loss: 6.934, Kmeans-Loss: 4.495, weight: 1.00\n",
      "Test loss: 2181.846, MSE-Loss: 2171.055, KL-Loss: 6.816, Kmeans-Loss: 3.975\n",
      "\n",
      "\n",
      "Epoch: 18\n",
      "Train loss: 15435.961, MSE-Loss: 6453.898, MSE-Future-Loss 8970.576, KL-Loss: 6.957, Kmeans-Loss: 4.530, weight: 1.00\n",
      "Test loss: 2203.602, MSE-Loss: 2192.821, KL-Loss: 6.783, Kmeans-Loss: 3.998\n",
      "\n",
      "\n",
      "Epoch: 19\n",
      "Train loss: 15127.521, MSE-Loss: 6409.932, MSE-Future-Loss 8706.063, KL-Loss: 6.984, Kmeans-Loss: 4.542, weight: 1.00\n",
      "Test loss: 2143.713, MSE-Loss: 2132.886, KL-Loss: 6.823, Kmeans-Loss: 4.004\n",
      "\n",
      "\n",
      "Epoch: 20\n",
      "Train loss: 14693.566, MSE-Loss: 6244.179, MSE-Future-Loss 8437.819, KL-Loss: 7.010, Kmeans-Loss: 4.559, weight: 1.00\n",
      "Test loss: 2205.170, MSE-Loss: 2194.267, KL-Loss: 6.871, Kmeans-Loss: 4.033\n",
      "\n",
      "\n",
      "Epoch: 21\n",
      "Train loss: 14321.512, MSE-Loss: 6114.596, MSE-Future-Loss 8195.352, KL-Loss: 7.005, Kmeans-Loss: 4.559, weight: 1.00\n",
      "Test loss: 2133.290, MSE-Loss: 2122.445, KL-Loss: 6.840, Kmeans-Loss: 4.005\n",
      "Saving model!\n",
      "\n",
      "\n",
      "Epoch: 22\n",
      "Train loss: 14099.762, MSE-Loss: 6064.188, MSE-Future-Loss 8023.959, KL-Loss: 7.036, Kmeans-Loss: 4.579, weight: 1.00\n",
      "Test loss: 2284.781, MSE-Loss: 2273.871, KL-Loss: 6.881, Kmeans-Loss: 4.028\n",
      "\n",
      "\n",
      "Epoch: 23\n",
      "Train loss: 13863.624, MSE-Loss: 5963.664, MSE-Future-Loss 7888.309, KL-Loss: 7.071, Kmeans-Loss: 4.580, weight: 1.00\n",
      "Test loss: 2146.092, MSE-Loss: 2135.144, KL-Loss: 6.908, Kmeans-Loss: 4.040\n",
      "\n",
      "\n",
      "Epoch: 24\n",
      "Train loss: 13386.737, MSE-Loss: 5757.657, MSE-Future-Loss 7617.402, KL-Loss: 7.091, Kmeans-Loss: 4.587, weight: 1.00\n",
      "Test loss: 2061.301, MSE-Loss: 2050.395, KL-Loss: 6.899, Kmeans-Loss: 4.006\n",
      "Saving model!\n",
      "\n",
      "\n",
      "Epoch: 25\n",
      "Train loss: 13244.146, MSE-Loss: 5741.887, MSE-Future-Loss 7490.571, KL-Loss: 7.092, Kmeans-Loss: 4.597, weight: 1.00\n",
      "Test loss: 2154.111, MSE-Loss: 2143.179, KL-Loss: 6.887, Kmeans-Loss: 4.045\n",
      "\n",
      "\n",
      "Epoch: 26\n",
      "Train loss: 13028.422, MSE-Loss: 5679.105, MSE-Future-Loss 7337.635, KL-Loss: 7.081, Kmeans-Loss: 4.600, weight: 1.00\n",
      "Test loss: 2144.115, MSE-Loss: 2133.194, KL-Loss: 6.876, Kmeans-Loss: 4.045\n",
      "\n",
      "\n",
      "Epoch: 27\n",
      "Train loss: 12774.989, MSE-Loss: 5598.076, MSE-Future-Loss 7165.233, KL-Loss: 7.081, Kmeans-Loss: 4.599, weight: 1.00\n",
      "Test loss: 2110.565, MSE-Loss: 2099.665, KL-Loss: 6.852, Kmeans-Loss: 4.048\n",
      "\n",
      "\n",
      "Epoch: 28\n",
      "Train loss: 12392.105, MSE-Loss: 5430.124, MSE-Future-Loss 6950.285, KL-Loss: 7.089, Kmeans-Loss: 4.606, weight: 1.00\n",
      "Test loss: 2151.928, MSE-Loss: 2140.990, KL-Loss: 6.890, Kmeans-Loss: 4.049\n",
      "\n",
      "\n",
      "Epoch: 29\n",
      "Train loss: 12423.204, MSE-Loss: 5518.568, MSE-Future-Loss 6892.952, KL-Loss: 7.083, Kmeans-Loss: 4.601, weight: 1.00\n",
      "Test loss: 2165.574, MSE-Loss: 2154.612, KL-Loss: 6.910, Kmeans-Loss: 4.052\n",
      "\n",
      "\n",
      "Epoch: 30\n",
      "Train loss: 12065.686, MSE-Loss: 5342.248, MSE-Future-Loss 6711.742, KL-Loss: 7.096, Kmeans-Loss: 4.600, weight: 1.00\n",
      "Test loss: 2178.274, MSE-Loss: 2167.304, KL-Loss: 6.901, Kmeans-Loss: 4.069\n",
      "\n",
      "\n",
      "Epoch: 31\n",
      "Train loss: 11879.287, MSE-Loss: 5250.405, MSE-Future-Loss 6617.163, KL-Loss: 7.107, Kmeans-Loss: 4.612, weight: 1.00\n",
      "Test loss: 2186.405, MSE-Loss: 2175.426, KL-Loss: 6.923, Kmeans-Loss: 4.056\n",
      "\n",
      "\n",
      "Epoch: 32\n",
      "Train loss: 11953.070, MSE-Loss: 5340.623, MSE-Future-Loss 6600.741, KL-Loss: 7.099, Kmeans-Loss: 4.607, weight: 1.00\n",
      "Test loss: 2120.951, MSE-Loss: 2110.026, KL-Loss: 6.890, Kmeans-Loss: 4.035\n",
      "\n",
      "\n",
      "Epoch: 33\n",
      "Train loss: 11965.952, MSE-Loss: 5346.857, MSE-Future-Loss 6607.385, KL-Loss: 7.097, Kmeans-Loss: 4.612, weight: 1.00\n",
      "Test loss: 2162.758, MSE-Loss: 2151.816, KL-Loss: 6.908, Kmeans-Loss: 4.034\n",
      "\n",
      "\n",
      "Epoch: 34\n",
      "Train loss: 11552.317, MSE-Loss: 5206.041, MSE-Future-Loss 6334.547, KL-Loss: 7.108, Kmeans-Loss: 4.620, weight: 1.00\n",
      "Test loss: 2173.057, MSE-Loss: 2162.080, KL-Loss: 6.916, Kmeans-Loss: 4.061\n",
      "\n",
      "\n",
      "Epoch: 35\n",
      "Train loss: 11366.108, MSE-Loss: 5108.758, MSE-Future-Loss 6245.597, KL-Loss: 7.121, Kmeans-Loss: 4.632, weight: 1.00\n",
      "Test loss: 2151.970, MSE-Loss: 2141.040, KL-Loss: 6.877, Kmeans-Loss: 4.054\n",
      "\n",
      "\n",
      "Epoch: 36\n",
      "Train loss: 11156.586, MSE-Loss: 5022.441, MSE-Future-Loss 6122.413, KL-Loss: 7.120, Kmeans-Loss: 4.613, weight: 1.00\n",
      "Test loss: 2145.002, MSE-Loss: 2134.029, KL-Loss: 6.922, Kmeans-Loss: 4.051\n",
      "\n",
      "\n",
      "Epoch: 37\n",
      "Train loss: 11007.909, MSE-Loss: 4938.621, MSE-Future-Loss 6057.559, KL-Loss: 7.120, Kmeans-Loss: 4.609, weight: 1.00\n",
      "Test loss: 2144.126, MSE-Loss: 2133.130, KL-Loss: 6.935, Kmeans-Loss: 4.061\n",
      "\n",
      "\n",
      "Epoch: 38\n",
      "Train loss: 10980.229, MSE-Loss: 4974.141, MSE-Future-Loss 5994.353, KL-Loss: 7.117, Kmeans-Loss: 4.618, weight: 1.00\n"
     ]
    },
    {
     "name": "stdout",
     "output_type": "stream",
     "text": [
      "Test loss: 2218.552, MSE-Loss: 2207.605, KL-Loss: 6.890, Kmeans-Loss: 4.056\n",
      "\n",
      "\n",
      "Epoch: 39\n",
      "Train loss: 10760.168, MSE-Loss: 4870.377, MSE-Future-Loss 5878.043, KL-Loss: 7.132, Kmeans-Loss: 4.615, weight: 1.00\n",
      "Test loss: 2212.867, MSE-Loss: 2201.939, KL-Loss: 6.876, Kmeans-Loss: 4.053\n",
      "\n",
      "\n",
      "Epoch: 40\n",
      "Train loss: 10809.648, MSE-Loss: 4903.373, MSE-Future-Loss 5894.518, KL-Loss: 7.140, Kmeans-Loss: 4.616, weight: 1.00\n",
      "Test loss: 2161.749, MSE-Loss: 2150.825, KL-Loss: 6.889, Kmeans-Loss: 4.034\n",
      "\n",
      "\n",
      "Epoch: 41\n",
      "Train loss: 10456.851, MSE-Loss: 4755.452, MSE-Future-Loss 5689.654, KL-Loss: 7.130, Kmeans-Loss: 4.615, weight: 1.00\n",
      "Test loss: 2114.232, MSE-Loss: 2103.302, KL-Loss: 6.890, Kmeans-Loss: 4.041\n",
      "\n",
      "\n",
      "Epoch: 42\n",
      "Train loss: 10511.178, MSE-Loss: 4789.766, MSE-Future-Loss 5709.669, KL-Loss: 7.125, Kmeans-Loss: 4.618, weight: 1.00\n",
      "Test loss: 2135.843, MSE-Loss: 2124.919, KL-Loss: 6.910, Kmeans-Loss: 4.014\n",
      "\n",
      "\n",
      "Epoch: 43\n",
      "Train loss: 10474.562, MSE-Loss: 4782.156, MSE-Future-Loss 5680.645, KL-Loss: 7.150, Kmeans-Loss: 4.610, weight: 1.00\n",
      "Test loss: 2065.383, MSE-Loss: 2054.494, KL-Loss: 6.881, Kmeans-Loss: 4.008\n",
      "\n",
      "\n",
      "Epoch: 44\n",
      "Train loss: 10263.365, MSE-Loss: 4680.656, MSE-Future-Loss 5570.972, KL-Loss: 7.126, Kmeans-Loss: 4.611, weight: 1.00\n",
      "Test loss: 2174.191, MSE-Loss: 2163.259, KL-Loss: 6.901, Kmeans-Loss: 4.031\n",
      "\n",
      "\n",
      "Epoch: 45\n",
      "Train loss: 10152.752, MSE-Loss: 4669.240, MSE-Future-Loss 5471.785, KL-Loss: 7.120, Kmeans-Loss: 4.608, weight: 1.00\n",
      "Test loss: 2157.819, MSE-Loss: 2146.918, KL-Loss: 6.875, Kmeans-Loss: 4.026\n",
      "\n",
      "\n",
      "Epoch: 46\n",
      "Train loss: 9977.742, MSE-Loss: 4606.378, MSE-Future-Loss 5359.645, KL-Loss: 7.111, Kmeans-Loss: 4.608, weight: 1.00\n",
      "Test loss: 2140.324, MSE-Loss: 2129.406, KL-Loss: 6.885, Kmeans-Loss: 4.033\n",
      "\n",
      "\n",
      "Epoch: 47\n",
      "Train loss: 9832.153, MSE-Loss: 4506.082, MSE-Future-Loss 5314.336, KL-Loss: 7.125, Kmeans-Loss: 4.610, weight: 1.00\n",
      "Test loss: 2157.756, MSE-Loss: 2146.857, KL-Loss: 6.872, Kmeans-Loss: 4.027\n",
      "\n",
      "\n",
      "Epoch: 48\n",
      "Train loss: 9852.565, MSE-Loss: 4531.003, MSE-Future-Loss 5309.836, KL-Loss: 7.120, Kmeans-Loss: 4.606, weight: 1.00\n",
      "Test loss: 2142.050, MSE-Loss: 2131.136, KL-Loss: 6.887, Kmeans-Loss: 4.027\n",
      "\n",
      "\n",
      "Epoch: 49\n",
      "Train loss: 9774.329, MSE-Loss: 4515.538, MSE-Future-Loss 5247.068, KL-Loss: 7.115, Kmeans-Loss: 4.607, weight: 1.00\n",
      "Test loss: 2175.679, MSE-Loss: 2164.759, KL-Loss: 6.899, Kmeans-Loss: 4.021\n",
      "\n",
      "\n",
      "Epoch: 50\n",
      "Train loss: 9693.217, MSE-Loss: 4486.141, MSE-Future-Loss 5195.390, KL-Loss: 7.086, Kmeans-Loss: 4.601, weight: 1.00\n",
      "Test loss: 2164.955, MSE-Loss: 2154.079, KL-Loss: 6.847, Kmeans-Loss: 4.029\n",
      "Saving model snapshot!\n",
      "\n",
      "\n",
      "\n",
      "Epoch: 51\n",
      "Train loss: 9514.614, MSE-Loss: 4394.180, MSE-Future-Loss 5108.725, KL-Loss: 7.109, Kmeans-Loss: 4.599, weight: 1.00\n",
      "Test loss: 2162.403, MSE-Loss: 2151.487, KL-Loss: 6.891, Kmeans-Loss: 4.025\n",
      "\n",
      "\n",
      "Epoch: 52\n",
      "Train loss: 9418.468, MSE-Loss: 4347.975, MSE-Future-Loss 5058.786, KL-Loss: 7.111, Kmeans-Loss: 4.596, weight: 1.00\n",
      "Test loss: 2203.941, MSE-Loss: 2193.048, KL-Loss: 6.870, Kmeans-Loss: 4.023\n",
      "\n",
      "\n",
      "Epoch: 53\n",
      "Train loss: 9668.328, MSE-Loss: 4528.151, MSE-Future-Loss 5128.435, KL-Loss: 7.147, Kmeans-Loss: 4.595, weight: 1.00\n",
      "Test loss: 2179.994, MSE-Loss: 2169.043, KL-Loss: 6.946, Kmeans-Loss: 4.004\n",
      "\n",
      "\n",
      "Epoch: 54\n",
      "Train loss: 9729.723, MSE-Loss: 4556.970, MSE-Future-Loss 5161.041, KL-Loss: 7.120, Kmeans-Loss: 4.592, weight: 1.00\n",
      "Test loss: 2240.033, MSE-Loss: 2229.253, KL-Loss: 6.782, Kmeans-Loss: 3.998\n",
      "\n",
      "\n",
      "Epoch: 55\n",
      "Train loss: 9599.171, MSE-Loss: 4471.804, MSE-Future-Loss 5115.702, KL-Loss: 7.080, Kmeans-Loss: 4.585, weight: 1.00\n",
      "Test loss: 2236.953, MSE-Loss: 2226.074, KL-Loss: 6.864, Kmeans-Loss: 4.014\n",
      "\n",
      "\n",
      "Epoch: 56\n",
      "Train loss: 9379.412, MSE-Loss: 4379.489, MSE-Future-Loss 4988.225, KL-Loss: 7.113, Kmeans-Loss: 4.585, weight: 1.00\n",
      "Test loss: 2159.570, MSE-Loss: 2148.691, KL-Loss: 6.878, Kmeans-Loss: 4.001\n",
      "\n",
      "\n",
      "Epoch: 57\n",
      "Train loss: 8952.800, MSE-Loss: 4167.530, MSE-Future-Loss 4773.571, KL-Loss: 7.109, Kmeans-Loss: 4.590, weight: 1.00\n",
      "Test loss: 2173.826, MSE-Loss: 2162.916, KL-Loss: 6.898, Kmeans-Loss: 4.012\n",
      "\n",
      "\n",
      "Epoch: 58\n",
      "Train loss: 9255.248, MSE-Loss: 4319.440, MSE-Future-Loss 4924.116, KL-Loss: 7.117, Kmeans-Loss: 4.576, weight: 1.00\n",
      "Test loss: 2227.841, MSE-Loss: 2216.984, KL-Loss: 6.864, Kmeans-Loss: 3.993\n",
      "\n",
      "\n",
      "Epoch: 59\n",
      "Train loss: 9023.041, MSE-Loss: 4244.931, MSE-Future-Loss 4766.420, KL-Loss: 7.106, Kmeans-Loss: 4.583, weight: 1.00\n",
      "Test loss: 2170.682, MSE-Loss: 2159.846, KL-Loss: 6.840, Kmeans-Loss: 3.995\n",
      "\n",
      "\n",
      "Epoch: 60\n",
      "Train loss: 8760.170, MSE-Loss: 4110.246, MSE-Future-Loss 4638.233, KL-Loss: 7.108, Kmeans-Loss: 4.583, weight: 1.00\n",
      "Test loss: 2135.320, MSE-Loss: 2124.445, KL-Loss: 6.876, Kmeans-Loss: 3.999\n",
      "\n",
      "\n",
      "Epoch: 61\n",
      "Train loss: 8796.250, MSE-Loss: 4140.697, MSE-Future-Loss 4643.875, KL-Loss: 7.105, Kmeans-Loss: 4.572, weight: 1.00\n",
      "Test loss: 2216.914, MSE-Loss: 2206.044, KL-Loss: 6.880, Kmeans-Loss: 3.990\n",
      "\n",
      "\n",
      "Epoch: 62\n",
      "Train loss: 8767.854, MSE-Loss: 4097.005, MSE-Future-Loss 4659.170, KL-Loss: 7.112, Kmeans-Loss: 4.568, weight: 1.00\n",
      "Test loss: 2223.402, MSE-Loss: 2212.537, KL-Loss: 6.870, Kmeans-Loss: 3.994\n",
      "\n",
      "\n",
      "Epoch: 63\n",
      "Train loss: 8587.119, MSE-Loss: 4053.592, MSE-Future-Loss 4521.858, KL-Loss: 7.097, Kmeans-Loss: 4.572, weight: 1.00\n",
      "Test loss: 2241.031, MSE-Loss: 2230.163, KL-Loss: 6.881, Kmeans-Loss: 3.987\n",
      "\n",
      "\n",
      "Epoch: 64\n",
      "Train loss: 8548.119, MSE-Loss: 4054.967, MSE-Future-Loss 4481.496, KL-Loss: 7.080, Kmeans-Loss: 4.576, weight: 1.00\n",
      "Test loss: 2163.225, MSE-Loss: 2152.429, KL-Loss: 6.808, Kmeans-Loss: 3.989\n",
      "\n",
      "\n",
      "Epoch: 65\n",
      "Train loss: 8747.510, MSE-Loss: 4139.241, MSE-Future-Loss 4596.593, KL-Loss: 7.106, Kmeans-Loss: 4.570, weight: 1.00\n",
      "Test loss: 2124.912, MSE-Loss: 2114.089, KL-Loss: 6.844, Kmeans-Loss: 3.979\n",
      "\n",
      "\n",
      "Epoch: 66\n",
      "Train loss: 8525.760, MSE-Loss: 4024.662, MSE-Future-Loss 4489.444, KL-Loss: 7.081, Kmeans-Loss: 4.574, weight: 1.00\n",
      "Test loss: 2220.044, MSE-Loss: 2209.255, KL-Loss: 6.791, Kmeans-Loss: 3.998\n",
      "\n",
      "\n",
      "Epoch: 67\n",
      "Train loss: 8524.811, MSE-Loss: 4055.296, MSE-Future-Loss 4457.880, KL-Loss: 7.067, Kmeans-Loss: 4.568, weight: 1.00\n",
      "Test loss: 2221.115, MSE-Loss: 2210.300, KL-Loss: 6.837, Kmeans-Loss: 3.977\n",
      "\n",
      "\n",
      "Epoch: 68\n",
      "Train loss: 8533.931, MSE-Loss: 4032.603, MSE-Future-Loss 4489.677, KL-Loss: 7.089, Kmeans-Loss: 4.562, weight: 1.00\n",
      "Test loss: 2243.977, MSE-Loss: 2233.137, KL-Loss: 6.857, Kmeans-Loss: 3.983\n",
      "\n",
      "\n",
      "Epoch: 69\n",
      "Train loss: 8397.631, MSE-Loss: 3985.862, MSE-Future-Loss 4400.113, KL-Loss: 7.094, Kmeans-Loss: 4.563, weight: 1.00\n",
      "Test loss: 2281.674, MSE-Loss: 2270.701, KL-Loss: 7.025, Kmeans-Loss: 3.948\n",
      "\n",
      "\n",
      "Epoch: 70\n",
      "Train loss: 8613.398, MSE-Loss: 4123.076, MSE-Future-Loss 4478.707, KL-Loss: 7.066, Kmeans-Loss: 4.548, weight: 1.00\n",
      "Test loss: 2167.372, MSE-Loss: 2156.611, KL-Loss: 6.803, Kmeans-Loss: 3.958\n",
      "\n",
      "\n",
      "Epoch: 71\n",
      "Train loss: 8291.394, MSE-Loss: 3931.632, MSE-Future-Loss 4348.127, KL-Loss: 7.085, Kmeans-Loss: 4.550, weight: 1.00\n",
      "Test loss: 2193.317, MSE-Loss: 2182.438, KL-Loss: 6.937, Kmeans-Loss: 3.942\n",
      "\n",
      "\n",
      "Epoch: 72\n",
      "Train loss: 8532.719, MSE-Loss: 4082.860, MSE-Future-Loss 4438.262, KL-Loss: 7.038, Kmeans-Loss: 4.558, weight: 1.00\n",
      "Test loss: 2224.546, MSE-Loss: 2213.768, KL-Loss: 6.809, Kmeans-Loss: 3.969\n",
      "\n",
      "\n",
      "Epoch: 73\n",
      "Train loss: 8649.602, MSE-Loss: 4145.968, MSE-Future-Loss 4492.000, KL-Loss: 7.082, Kmeans-Loss: 4.551, weight: 1.00\n",
      "Test loss: 2180.632, MSE-Loss: 2169.840, KL-Loss: 6.826, Kmeans-Loss: 3.966\n",
      "\n",
      "\n",
      "Epoch: 74\n",
      "Train loss: 8077.631, MSE-Loss: 3866.301, MSE-Future-Loss 4199.714, KL-Loss: 7.068, Kmeans-Loss: 4.548, weight: 1.00\n",
      "Test loss: 2199.141, MSE-Loss: 2188.376, KL-Loss: 6.812, Kmeans-Loss: 3.953\n",
      "\n",
      "\n",
      "Epoch: 75\n",
      "Train loss: 8117.206, MSE-Loss: 3868.933, MSE-Future-Loss 4236.651, KL-Loss: 7.076, Kmeans-Loss: 4.546, weight: 1.00\n",
      "Test loss: 2338.054, MSE-Loss: 2327.041, KL-Loss: 7.074, Kmeans-Loss: 3.938\n",
      "Finished training...\n",
      "Model converged. Please check your model with vame.evaluate_model(). \n",
      "You can also re-run vame.trainmodel() to further improve your model. \n",
      "Make sure to set _pretrained_weights_ in your config.yaml to \"true\" \n",
      "and plug your current model name into _pretrained_model_. \n",
      "Hint: Set \"model_convergence\" in your config.yaml to a higher value. \n",
      "\n",
      "Next: \n",
      "Use vame.pose_segmentation() to identify behavioral motifs in your dataset!\n"
     ]
    }
   ],
   "source": [
    "vame.train_model(config)"
   ]
  },
  {
   "cell_type": "code",
   "execution_count": 7,
   "id": "fcf22a21",
   "metadata": {},
   "outputs": [
    {
     "name": "stdout",
     "output_type": "stream",
     "text": [
      "Using CUDA\n",
      "GPU active: True\n",
      "GPU used: NVIDIA GeForce RTX 3060\n",
      "\n",
      "\n",
      "Evaluation of VAME model. \n",
      "\n",
      "Initialize test data. Datapoints 14120\n",
      "You can find the results of the evaluation in '/Your-VAME-Project-Apr30-2020/model/evaluate/' \n",
      "OPTIONS:\n",
      "- vame.behavior_segmentation() to identify behavioral motifs.\n",
      "- re-run the model for further fine tuning. Check again with vame.evaluate_model()\n"
     ]
    }
   ],
   "source": [
    "vame.evaluate_model(config)"
   ]
  },
  {
   "cell_type": "code",
   "execution_count": 8,
   "id": "11ef1969",
   "metadata": {},
   "outputs": [
    {
     "name": "stdout",
     "output_type": "stream",
     "text": [
      "Pose segmentation for VAME model: VAME \n",
      "\n",
      "Using CUDA\n",
      "GPU active: True\n",
      "GPU used: NVIDIA GeForce RTX 3060\n",
      "Embedding of latent vector for file wt5_ns\n"
     ]
    },
    {
     "name": "stderr",
     "output_type": "stream",
     "text": [
      "100%|██████████████████████████████████████████████████████████████████████████| 11387/11387 [00:10<00:00, 1071.75it/s]\n"
     ]
    },
    {
     "name": "stdout",
     "output_type": "stream",
     "text": [
      "Embedding of latent vector for file wt1_baseline\n"
     ]
    },
    {
     "name": "stderr",
     "output_type": "stream",
     "text": [
      "100%|████████████████████████████████████████████████████████████████████████████| 3893/3893 [00:03<00:00, 1086.14it/s]\n"
     ]
    },
    {
     "name": "stdout",
     "output_type": "stream",
     "text": [
      "Embedding of latent vector for file wt1_ns\n"
     ]
    },
    {
     "name": "stderr",
     "output_type": "stream",
     "text": [
      "100%|████████████████████████████████████████████████████████████████████████████| 5145/5145 [00:04<00:00, 1098.55it/s]\n"
     ]
    },
    {
     "name": "stdout",
     "output_type": "stream",
     "text": [
      "Embedding of latent vector for file wt2_baseline\n"
     ]
    },
    {
     "name": "stderr",
     "output_type": "stream",
     "text": [
      "100%|████████████████████████████████████████████████████████████████████████████| 5194/5194 [00:04<00:00, 1083.70it/s]\n"
     ]
    },
    {
     "name": "stdout",
     "output_type": "stream",
     "text": [
      "Embedding of latent vector for file wt2_ns\n"
     ]
    },
    {
     "name": "stderr",
     "output_type": "stream",
     "text": [
      "100%|████████████████████████████████████████████████████████████████████████████| 7806/7806 [00:07<00:00, 1087.99it/s]\n"
     ]
    },
    {
     "name": "stdout",
     "output_type": "stream",
     "text": [
      "Embedding of latent vector for file wt3_baseline\n"
     ]
    },
    {
     "name": "stderr",
     "output_type": "stream",
     "text": [
      "100%|██████████████████████████████████████████████████████████████████████████| 11125/11125 [00:10<00:00, 1093.60it/s]\n"
     ]
    },
    {
     "name": "stdout",
     "output_type": "stream",
     "text": [
      "Embedding of latent vector for file wt3_ns\n"
     ]
    },
    {
     "name": "stderr",
     "output_type": "stream",
     "text": [
      "100%|████████████████████████████████████████████████████████████████████████████| 8951/8951 [00:08<00:00, 1082.71it/s]\n"
     ]
    },
    {
     "name": "stdout",
     "output_type": "stream",
     "text": [
      "Embedding of latent vector for file wt4_baseline\n"
     ]
    },
    {
     "name": "stderr",
     "output_type": "stream",
     "text": [
      "100%|██████████████████████████████████████████████████████████████████████████| 12681/12681 [00:11<00:00, 1078.39it/s]\n"
     ]
    },
    {
     "name": "stdout",
     "output_type": "stream",
     "text": [
      "Embedding of latent vector for file wt4_ns\n"
     ]
    },
    {
     "name": "stderr",
     "output_type": "stream",
     "text": [
      "100%|██████████████████████████████████████████████████████████████████████████| 12634/12634 [00:11<00:00, 1096.86it/s]\n"
     ]
    },
    {
     "name": "stdout",
     "output_type": "stream",
     "text": [
      "Embedding of latent vector for file wt5_baseline\n"
     ]
    },
    {
     "name": "stderr",
     "output_type": "stream",
     "text": [
      "100%|██████████████████████████████████████████████████████████████████████████| 14378/14378 [00:13<00:00, 1103.04it/s]\n"
     ]
    },
    {
     "name": "stdout",
     "output_type": "stream",
     "text": [
      "Embedding of latent vector for file G291_1st_CTZ_720p\n"
     ]
    },
    {
     "name": "stderr",
     "output_type": "stream",
     "text": [
      "100%|████████████████████████████████████████████████████████████████████████████| 5732/5732 [00:05<00:00, 1091.16it/s]\n"
     ]
    },
    {
     "name": "stdout",
     "output_type": "stream",
     "text": [
      "Embedding of latent vector for file G266_1st_ns_720p\n"
     ]
    },
    {
     "name": "stderr",
     "output_type": "stream",
     "text": [
      "100%|████████████████████████████████████████████████████████████████████████████| 5838/5838 [00:05<00:00, 1097.71it/s]\n"
     ]
    },
    {
     "name": "stdout",
     "output_type": "stream",
     "text": [
      "Embedding of latent vector for file G267_1st_CTZ_720p\n"
     ]
    },
    {
     "name": "stderr",
     "output_type": "stream",
     "text": [
      "100%|████████████████████████████████████████████████████████████████████████████| 8057/8057 [00:07<00:00, 1111.35it/s]\n"
     ]
    },
    {
     "name": "stdout",
     "output_type": "stream",
     "text": [
      "Embedding of latent vector for file G268_1st_CTZ_720p\n"
     ]
    },
    {
     "name": "stderr",
     "output_type": "stream",
     "text": [
      "100%|████████████████████████████████████████████████████████████████████████████| 5536/5536 [00:04<00:00, 1113.72it/s]\n"
     ]
    },
    {
     "name": "stdout",
     "output_type": "stream",
     "text": [
      "Embedding of latent vector for file G269_1st_ns_720p\n"
     ]
    },
    {
     "name": "stderr",
     "output_type": "stream",
     "text": [
      "100%|████████████████████████████████████████████████████████████████████████████| 5562/5562 [00:05<00:00, 1104.56it/s]\n"
     ]
    },
    {
     "name": "stdout",
     "output_type": "stream",
     "text": [
      "Embedding of latent vector for file G270_1st_ns_720p\n"
     ]
    },
    {
     "name": "stderr",
     "output_type": "stream",
     "text": [
      "100%|████████████████████████████████████████████████████████████████████████████| 8935/8935 [00:08<00:00, 1110.48it/s]\n"
     ]
    },
    {
     "name": "stdout",
     "output_type": "stream",
     "text": [
      "Embedding of latent vector for file G290_1st_CTZ_720p\n"
     ]
    },
    {
     "name": "stderr",
     "output_type": "stream",
     "text": [
      "100%|████████████████████████████████████████████████████████████████████████████| 7837/7837 [00:07<00:00, 1108.69it/s]\n"
     ]
    },
    {
     "name": "stdout",
     "output_type": "stream",
     "text": [
      "For all animals the same parameterization of latent vectors is applied for 16 cluster\n",
      "Using a HMM as parameterization!\n",
      "D:\\works\\Data_analysis\\projects\\balance_beam\\Balance_Beam_VAME-MX-Feb8-2023\\results\\wt5_ns\\VAME\\hmm-16\\\n",
      "D:\\works\\Data_analysis\\projects\\balance_beam\\Balance_Beam_VAME-MX-Feb8-2023\\results\\wt1_baseline\\VAME\\hmm-16\\\n",
      "D:\\works\\Data_analysis\\projects\\balance_beam\\Balance_Beam_VAME-MX-Feb8-2023\\results\\wt1_ns\\VAME\\hmm-16\\\n",
      "D:\\works\\Data_analysis\\projects\\balance_beam\\Balance_Beam_VAME-MX-Feb8-2023\\results\\wt2_baseline\\VAME\\hmm-16\\\n",
      "D:\\works\\Data_analysis\\projects\\balance_beam\\Balance_Beam_VAME-MX-Feb8-2023\\results\\wt2_ns\\VAME\\hmm-16\\\n",
      "D:\\works\\Data_analysis\\projects\\balance_beam\\Balance_Beam_VAME-MX-Feb8-2023\\results\\wt3_baseline\\VAME\\hmm-16\\\n",
      "D:\\works\\Data_analysis\\projects\\balance_beam\\Balance_Beam_VAME-MX-Feb8-2023\\results\\wt3_ns\\VAME\\hmm-16\\\n",
      "D:\\works\\Data_analysis\\projects\\balance_beam\\Balance_Beam_VAME-MX-Feb8-2023\\results\\wt4_baseline\\VAME\\hmm-16\\\n",
      "D:\\works\\Data_analysis\\projects\\balance_beam\\Balance_Beam_VAME-MX-Feb8-2023\\results\\wt4_ns\\VAME\\hmm-16\\\n",
      "D:\\works\\Data_analysis\\projects\\balance_beam\\Balance_Beam_VAME-MX-Feb8-2023\\results\\wt5_baseline\\VAME\\hmm-16\\\n",
      "D:\\works\\Data_analysis\\projects\\balance_beam\\Balance_Beam_VAME-MX-Feb8-2023\\results\\G291_1st_CTZ_720p\\VAME\\hmm-16\\\n",
      "D:\\works\\Data_analysis\\projects\\balance_beam\\Balance_Beam_VAME-MX-Feb8-2023\\results\\G266_1st_ns_720p\\VAME\\hmm-16\\\n",
      "D:\\works\\Data_analysis\\projects\\balance_beam\\Balance_Beam_VAME-MX-Feb8-2023\\results\\G267_1st_CTZ_720p\\VAME\\hmm-16\\\n",
      "D:\\works\\Data_analysis\\projects\\balance_beam\\Balance_Beam_VAME-MX-Feb8-2023\\results\\G268_1st_CTZ_720p\\VAME\\hmm-16\\\n",
      "D:\\works\\Data_analysis\\projects\\balance_beam\\Balance_Beam_VAME-MX-Feb8-2023\\results\\G269_1st_ns_720p\\VAME\\hmm-16\\\n",
      "D:\\works\\Data_analysis\\projects\\balance_beam\\Balance_Beam_VAME-MX-Feb8-2023\\results\\G270_1st_ns_720p\\VAME\\hmm-16\\\n",
      "D:\\works\\Data_analysis\\projects\\balance_beam\\Balance_Beam_VAME-MX-Feb8-2023\\results\\G290_1st_CTZ_720p\\VAME\\hmm-16\\\n",
      "You succesfully extracted motifs with VAME! From here, you can proceed running vame.motif_videos() \n"
     ]
    }
   ],
   "source": [
    "vame.pose_segmentation(config)"
   ]
  },
  {
   "cell_type": "code",
   "execution_count": 9,
   "id": "eca9ae62",
   "metadata": {},
   "outputs": [
    {
     "name": "stdout",
     "output_type": "stream",
     "text": [
      "Cluster size is: 16 \n",
      "Motif videos getting created for wt5_ns ...\n",
      "Cluster: 0\n"
     ]
    },
    {
     "name": "stderr",
     "output_type": "stream",
     "text": [
      "100%|███████████████████████████████████████████████████████████████████████████████| 965/965 [00:08<00:00, 119.00it/s]\n"
     ]
    },
    {
     "name": "stdout",
     "output_type": "stream",
     "text": [
      "Cluster: 1\n"
     ]
    },
    {
     "name": "stderr",
     "output_type": "stream",
     "text": [
      "100%|█████████████████████████████████████████████████████████████████████████████| 1000/1000 [00:08<00:00, 119.03it/s]\n"
     ]
    },
    {
     "name": "stdout",
     "output_type": "stream",
     "text": [
      "Cluster: 2\n"
     ]
    },
    {
     "name": "stderr",
     "output_type": "stream",
     "text": [
      "100%|███████████████████████████████████████████████████████████████████████████████| 547/547 [00:04<00:00, 118.01it/s]\n"
     ]
    },
    {
     "name": "stdout",
     "output_type": "stream",
     "text": [
      "Cluster: 3\n"
     ]
    },
    {
     "name": "stderr",
     "output_type": "stream",
     "text": [
      "100%|███████████████████████████████████████████████████████████████████████████████| 976/976 [00:08<00:00, 119.62it/s]\n"
     ]
    },
    {
     "name": "stdout",
     "output_type": "stream",
     "text": [
      "Cluster: 4\n"
     ]
    },
    {
     "name": "stderr",
     "output_type": "stream",
     "text": [
      "100%|█████████████████████████████████████████████████████████████████████████████| 1000/1000 [00:08<00:00, 119.76it/s]\n"
     ]
    },
    {
     "name": "stdout",
     "output_type": "stream",
     "text": [
      "Cluster: 5\n"
     ]
    },
    {
     "name": "stderr",
     "output_type": "stream",
     "text": [
      "100%|███████████████████████████████████████████████████████████████████████████████| 564/564 [00:04<00:00, 119.48it/s]\n"
     ]
    },
    {
     "name": "stdout",
     "output_type": "stream",
     "text": [
      "Cluster: 6\n"
     ]
    },
    {
     "name": "stderr",
     "output_type": "stream",
     "text": [
      "100%|█████████████████████████████████████████████████████████████████████████████████| 64/64 [00:00<00:00, 119.31it/s]\n"
     ]
    },
    {
     "name": "stdout",
     "output_type": "stream",
     "text": [
      "Cluster: 7\n"
     ]
    },
    {
     "name": "stderr",
     "output_type": "stream",
     "text": [
      "100%|███████████████████████████████████████████████████████████████████████████████| 544/544 [00:04<00:00, 119.59it/s]\n"
     ]
    },
    {
     "name": "stdout",
     "output_type": "stream",
     "text": [
      "Cluster: 8\n"
     ]
    },
    {
     "name": "stderr",
     "output_type": "stream",
     "text": [
      "100%|███████████████████████████████████████████████████████████████████████████████| 322/322 [00:02<00:00, 119.02it/s]\n"
     ]
    },
    {
     "name": "stdout",
     "output_type": "stream",
     "text": [
      "Cluster: 9\n"
     ]
    },
    {
     "name": "stderr",
     "output_type": "stream",
     "text": [
      "100%|███████████████████████████████████████████████████████████████████████████████| 297/297 [00:02<00:00, 119.62it/s]\n"
     ]
    },
    {
     "name": "stdout",
     "output_type": "stream",
     "text": [
      "Cluster: 10\n"
     ]
    },
    {
     "name": "stderr",
     "output_type": "stream",
     "text": [
      "100%|███████████████████████████████████████████████████████████████████████████████| 956/956 [00:07<00:00, 119.76it/s]\n"
     ]
    },
    {
     "name": "stdout",
     "output_type": "stream",
     "text": [
      "Cluster: 11\n"
     ]
    },
    {
     "name": "stderr",
     "output_type": "stream",
     "text": [
      "100%|███████████████████████████████████████████████████████████████████████████████| 340/340 [00:02<00:00, 119.80it/s]\n"
     ]
    },
    {
     "name": "stdout",
     "output_type": "stream",
     "text": [
      "Cluster: 12\n"
     ]
    },
    {
     "name": "stderr",
     "output_type": "stream",
     "text": [
      "100%|███████████████████████████████████████████████████████████████████████████████| 694/694 [00:05<00:00, 117.14it/s]\n"
     ]
    },
    {
     "name": "stdout",
     "output_type": "stream",
     "text": [
      "Cluster: 13\n"
     ]
    },
    {
     "name": "stderr",
     "output_type": "stream",
     "text": [
      "100%|███████████████████████████████████████████████████████████████████████████████| 544/544 [00:04<00:00, 119.39it/s]\n"
     ]
    },
    {
     "name": "stdout",
     "output_type": "stream",
     "text": [
      "Cluster: 14\n"
     ]
    },
    {
     "name": "stderr",
     "output_type": "stream",
     "text": [
      "100%|███████████████████████████████████████████████████████████████████████████████| 238/238 [00:01<00:00, 119.19it/s]\n"
     ]
    },
    {
     "name": "stdout",
     "output_type": "stream",
     "text": [
      "Cluster: 15\n"
     ]
    },
    {
     "name": "stderr",
     "output_type": "stream",
     "text": [
      "100%|███████████████████████████████████████████████████████████████████████████████| 225/225 [00:01<00:00, 119.48it/s]\n"
     ]
    },
    {
     "name": "stdout",
     "output_type": "stream",
     "text": [
      "Motif videos getting created for wt1_baseline ...\n",
      "Cluster: 0\n"
     ]
    },
    {
     "name": "stderr",
     "output_type": "stream",
     "text": [
      "100%|███████████████████████████████████████████████████████████████████████████████| 185/185 [00:01<00:00, 118.52it/s]\n"
     ]
    },
    {
     "name": "stdout",
     "output_type": "stream",
     "text": [
      "Cluster: 1\n"
     ]
    },
    {
     "name": "stderr",
     "output_type": "stream",
     "text": [
      " 83%|█████████████████████████████████████████████████████████████████▌             | 429/517 [00:03<00:00, 115.50it/s]\n"
     ]
    },
    {
     "ename": "KeyboardInterrupt",
     "evalue": "",
     "output_type": "error",
     "traceback": [
      "\u001b[1;31m---------------------------------------------------------------------------\u001b[0m",
      "\u001b[1;31mKeyboardInterrupt\u001b[0m                         Traceback (most recent call last)",
      "\u001b[1;32m~\\AppData\\Local\\Temp\\ipykernel_22644\\2502385970.py\u001b[0m in \u001b[0;36m<module>\u001b[1;34m\u001b[0m\n\u001b[1;32m----> 1\u001b[1;33m \u001b[0mvame\u001b[0m\u001b[1;33m.\u001b[0m\u001b[0mmotif_videos\u001b[0m\u001b[1;33m(\u001b[0m\u001b[0mconfig\u001b[0m\u001b[1;33m,\u001b[0m \u001b[0mvideoType\u001b[0m\u001b[1;33m=\u001b[0m\u001b[1;34m'.mp4'\u001b[0m\u001b[1;33m)\u001b[0m\u001b[1;33m\u001b[0m\u001b[1;33m\u001b[0m\u001b[0m\n\u001b[0m",
      "\u001b[1;32mD:\\App\\anaconda3\\envs\\VAME\\lib\\site-packages\\vame-1.0-py3.7.egg\\vame\\analysis\\videowriter.py\u001b[0m in \u001b[0;36mmotif_videos\u001b[1;34m(config, videoType)\u001b[0m\n\u001b[0;32m    100\u001b[0m             \u001b[0mos\u001b[0m\u001b[1;33m.\u001b[0m\u001b[0mmkdir\u001b[0m\u001b[1;33m(\u001b[0m\u001b[0mos\u001b[0m\u001b[1;33m.\u001b[0m\u001b[0mpath\u001b[0m\u001b[1;33m.\u001b[0m\u001b[0mjoin\u001b[0m\u001b[1;33m(\u001b[0m\u001b[0mpath_to_file\u001b[0m\u001b[1;33m,\u001b[0m\u001b[1;34m\"cluster_videos\"\u001b[0m\u001b[1;33m)\u001b[0m\u001b[1;33m)\u001b[0m\u001b[1;33m\u001b[0m\u001b[1;33m\u001b[0m\u001b[0m\n\u001b[0;32m    101\u001b[0m \u001b[1;33m\u001b[0m\u001b[0m\n\u001b[1;32m--> 102\u001b[1;33m         \u001b[0mget_cluster_vid\u001b[0m\u001b[1;33m(\u001b[0m\u001b[0mcfg\u001b[0m\u001b[1;33m,\u001b[0m \u001b[0mpath_to_file\u001b[0m\u001b[1;33m,\u001b[0m \u001b[0mfile\u001b[0m\u001b[1;33m,\u001b[0m \u001b[0mn_cluster\u001b[0m\u001b[1;33m,\u001b[0m \u001b[0mvideoType\u001b[0m\u001b[1;33m,\u001b[0m \u001b[0mflag\u001b[0m\u001b[1;33m)\u001b[0m\u001b[1;33m\u001b[0m\u001b[1;33m\u001b[0m\u001b[0m\n\u001b[0m\u001b[0;32m    103\u001b[0m \u001b[1;33m\u001b[0m\u001b[0m\n\u001b[0;32m    104\u001b[0m     \u001b[0mprint\u001b[0m\u001b[1;33m(\u001b[0m\u001b[1;34m\"All videos have been created!\"\u001b[0m\u001b[1;33m)\u001b[0m\u001b[1;33m\u001b[0m\u001b[1;33m\u001b[0m\u001b[0m\n",
      "\u001b[1;32mD:\\App\\anaconda3\\envs\\VAME\\lib\\site-packages\\vame-1.0-py3.7.egg\\vame\\analysis\\videowriter.py\u001b[0m in \u001b[0;36mget_cluster_vid\u001b[1;34m(cfg, path_to_file, file, n_cluster, videoType, flag)\u001b[0m\n\u001b[0;32m     58\u001b[0m             \u001b[0mcapture\u001b[0m\u001b[1;33m.\u001b[0m\u001b[0mset\u001b[0m\u001b[1;33m(\u001b[0m\u001b[1;36m1\u001b[0m\u001b[1;33m,\u001b[0m\u001b[0midx\u001b[0m\u001b[1;33m+\u001b[0m\u001b[0mcluster_start\u001b[0m\u001b[1;33m)\u001b[0m\u001b[1;33m\u001b[0m\u001b[1;33m\u001b[0m\u001b[0m\n\u001b[0;32m     59\u001b[0m             \u001b[0mret\u001b[0m\u001b[1;33m,\u001b[0m \u001b[0mframe\u001b[0m \u001b[1;33m=\u001b[0m \u001b[0mcapture\u001b[0m\u001b[1;33m.\u001b[0m\u001b[0mread\u001b[0m\u001b[1;33m(\u001b[0m\u001b[1;33m)\u001b[0m\u001b[1;33m\u001b[0m\u001b[1;33m\u001b[0m\u001b[0m\n\u001b[1;32m---> 60\u001b[1;33m             \u001b[0mvideo\u001b[0m\u001b[1;33m.\u001b[0m\u001b[0mwrite\u001b[0m\u001b[1;33m(\u001b[0m\u001b[0mframe\u001b[0m\u001b[1;33m)\u001b[0m\u001b[1;33m\u001b[0m\u001b[1;33m\u001b[0m\u001b[0m\n\u001b[0m\u001b[0;32m     61\u001b[0m \u001b[1;33m\u001b[0m\u001b[0m\n\u001b[0;32m     62\u001b[0m         \u001b[0mvideo\u001b[0m\u001b[1;33m.\u001b[0m\u001b[0mrelease\u001b[0m\u001b[1;33m(\u001b[0m\u001b[1;33m)\u001b[0m\u001b[1;33m\u001b[0m\u001b[1;33m\u001b[0m\u001b[0m\n",
      "\u001b[1;31mKeyboardInterrupt\u001b[0m: "
     ]
    }
   ],
   "source": [
    "vame.motif_videos(config, videoType='.mp4')"
   ]
  },
  {
   "cell_type": "code",
   "execution_count": 4,
   "id": "1bab24e0",
   "metadata": {},
   "outputs": [
    {
     "name": "stderr",
     "output_type": "stream",
     "text": [
      "D:\\App\\anaconda3\\envs\\VAME\\lib\\site-packages\\vame-1.0-py3.7.egg\\vame\\analysis\\community_analysis.py:57: RuntimeWarning: invalid value encountered in true_divide\n",
      "D:\\App\\anaconda3\\envs\\VAME\\lib\\site-packages\\vame-1.0-py3.7.egg\\vame\\analysis\\tree_hierarchy.py:67: RuntimeWarning: divide by zero encountered in double_scalars\n",
      "D:\\App\\anaconda3\\envs\\VAME\\lib\\site-packages\\vame-1.0-py3.7.egg\\vame\\analysis\\tree_hierarchy.py:67: RuntimeWarning: invalid value encountered in double_scalars\n"
     ]
    },
    {
     "name": "stdout",
     "output_type": "stream",
     "text": [
      "Where do you want to cut the Tree? 0/1/2/3/...1\n",
      "[[4, 9, 0, 14, 8, 6, 15, 7, 11, 2, 12, 1, 13, 5], [10, 3]]\n",
      "\n",
      "Are all motifs in the list? (yes/no/restart)yes\n"
     ]
    },
    {
     "ename": "IndexError",
     "evalue": "index 12 is out of bounds for axis 0 with size 12",
     "output_type": "error",
     "traceback": [
      "\u001b[1;31m---------------------------------------------------------------------------\u001b[0m",
      "\u001b[1;31mIndexError\u001b[0m                                Traceback (most recent call last)",
      "\u001b[1;32m~\\AppData\\Local\\Temp\\ipykernel_9192\\3131110383.py\u001b[0m in \u001b[0;36m<module>\u001b[1;34m\u001b[0m\n\u001b[1;32m----> 1\u001b[1;33m \u001b[0mvame\u001b[0m\u001b[1;33m.\u001b[0m\u001b[0mcommunity\u001b[0m\u001b[1;33m(\u001b[0m\u001b[0mconfig\u001b[0m\u001b[1;33m,\u001b[0m \u001b[0mshow_umap\u001b[0m\u001b[1;33m=\u001b[0m\u001b[1;32mFalse\u001b[0m\u001b[1;33m,\u001b[0m \u001b[0mcut_tree\u001b[0m\u001b[1;33m=\u001b[0m\u001b[1;32mNone\u001b[0m\u001b[1;33m)\u001b[0m\u001b[1;33m\u001b[0m\u001b[1;33m\u001b[0m\u001b[0m\n\u001b[0m",
      "\u001b[1;32mD:\\App\\anaconda3\\envs\\VAME\\lib\\site-packages\\vame-1.0-py3.7.egg\\vame\\analysis\\community_analysis.py\u001b[0m in \u001b[0;36mcommunity\u001b[1;34m(config, show_umap, cut_tree)\u001b[0m\n\u001b[0;32m    205\u001b[0m     \u001b[0mlabels\u001b[0m \u001b[1;33m=\u001b[0m \u001b[0mget_labels\u001b[0m\u001b[1;33m(\u001b[0m\u001b[0mcfg\u001b[0m\u001b[1;33m,\u001b[0m \u001b[0mfiles\u001b[0m\u001b[1;33m,\u001b[0m \u001b[0mmodel_name\u001b[0m\u001b[1;33m,\u001b[0m \u001b[0mn_cluster\u001b[0m\u001b[1;33m)\u001b[0m\u001b[1;33m\u001b[0m\u001b[1;33m\u001b[0m\u001b[0m\n\u001b[0;32m    206\u001b[0m     \u001b[0mtransition_matrices\u001b[0m \u001b[1;33m=\u001b[0m \u001b[0mcompute_transition_matrices\u001b[0m\u001b[1;33m(\u001b[0m\u001b[0mfiles\u001b[0m\u001b[1;33m,\u001b[0m \u001b[0mlabels\u001b[0m\u001b[1;33m,\u001b[0m \u001b[0mn_cluster\u001b[0m\u001b[1;33m)\u001b[0m\u001b[1;33m\u001b[0m\u001b[1;33m\u001b[0m\u001b[0m\n\u001b[1;32m--> 207\u001b[1;33m     \u001b[0mcommunities_all\u001b[0m\u001b[1;33m,\u001b[0m \u001b[0mtrees\u001b[0m \u001b[1;33m=\u001b[0m \u001b[0mcreate_community_bag\u001b[0m\u001b[1;33m(\u001b[0m\u001b[0mfiles\u001b[0m\u001b[1;33m,\u001b[0m \u001b[0mlabels\u001b[0m\u001b[1;33m,\u001b[0m \u001b[0mtransition_matrices\u001b[0m\u001b[1;33m,\u001b[0m \u001b[0mcut_tree\u001b[0m\u001b[1;33m,\u001b[0m \u001b[0mn_cluster\u001b[0m\u001b[1;33m)\u001b[0m\u001b[1;33m\u001b[0m\u001b[1;33m\u001b[0m\u001b[0m\n\u001b[0m\u001b[0;32m    208\u001b[0m     \u001b[0mcommunity_labels_all\u001b[0m \u001b[1;33m=\u001b[0m \u001b[0mget_community_labels\u001b[0m\u001b[1;33m(\u001b[0m\u001b[0mfiles\u001b[0m\u001b[1;33m,\u001b[0m \u001b[0mlabels\u001b[0m\u001b[1;33m,\u001b[0m \u001b[0mcommunities_all\u001b[0m\u001b[1;33m)\u001b[0m\u001b[1;33m\u001b[0m\u001b[1;33m\u001b[0m\u001b[0m\n\u001b[0;32m    209\u001b[0m \u001b[1;33m\u001b[0m\u001b[0m\n",
      "\u001b[1;32mD:\\App\\anaconda3\\envs\\VAME\\lib\\site-packages\\vame-1.0-py3.7.egg\\vame\\analysis\\community_analysis.py\u001b[0m in \u001b[0;36mcreate_community_bag\u001b[1;34m(files, labels, transition_matrices, cut_tree, n_cluster)\u001b[0m\n\u001b[0;32m     84\u001b[0m     \u001b[1;32mfor\u001b[0m \u001b[0mi\u001b[0m\u001b[1;33m,\u001b[0m \u001b[0mfile\u001b[0m \u001b[1;32min\u001b[0m \u001b[0menumerate\u001b[0m\u001b[1;33m(\u001b[0m\u001b[0mfiles\u001b[0m\u001b[1;33m)\u001b[0m\u001b[1;33m:\u001b[0m\u001b[1;33m\u001b[0m\u001b[1;33m\u001b[0m\u001b[0m\n\u001b[0;32m     85\u001b[0m         \u001b[0m_\u001b[0m\u001b[1;33m,\u001b[0m \u001b[0musage\u001b[0m \u001b[1;33m=\u001b[0m \u001b[0mnp\u001b[0m\u001b[1;33m.\u001b[0m\u001b[0munique\u001b[0m\u001b[1;33m(\u001b[0m\u001b[0mlabels\u001b[0m\u001b[1;33m[\u001b[0m\u001b[0mi\u001b[0m\u001b[1;33m]\u001b[0m\u001b[1;33m,\u001b[0m \u001b[0mreturn_counts\u001b[0m\u001b[1;33m=\u001b[0m\u001b[1;32mTrue\u001b[0m\u001b[1;33m)\u001b[0m\u001b[1;33m\u001b[0m\u001b[1;33m\u001b[0m\u001b[0m\n\u001b[1;32m---> 86\u001b[1;33m         \u001b[0mT\u001b[0m \u001b[1;33m=\u001b[0m \u001b[0mgraph_to_tree\u001b[0m\u001b[1;33m(\u001b[0m\u001b[0musage\u001b[0m\u001b[1;33m,\u001b[0m \u001b[0mtransition_matrices\u001b[0m\u001b[1;33m[\u001b[0m\u001b[0mi\u001b[0m\u001b[1;33m]\u001b[0m\u001b[1;33m,\u001b[0m \u001b[0mn_cluster\u001b[0m\u001b[1;33m,\u001b[0m \u001b[0mmerge_sel\u001b[0m\u001b[1;33m=\u001b[0m\u001b[1;36m1\u001b[0m\u001b[1;33m)\u001b[0m\u001b[1;33m\u001b[0m\u001b[1;33m\u001b[0m\u001b[0m\n\u001b[0m\u001b[0;32m     87\u001b[0m         \u001b[0mtrees\u001b[0m\u001b[1;33m.\u001b[0m\u001b[0mappend\u001b[0m\u001b[1;33m(\u001b[0m\u001b[0mT\u001b[0m\u001b[1;33m)\u001b[0m\u001b[1;33m\u001b[0m\u001b[1;33m\u001b[0m\u001b[0m\n\u001b[0;32m     88\u001b[0m \u001b[1;33m\u001b[0m\u001b[0m\n",
      "\u001b[1;32mD:\\App\\anaconda3\\envs\\VAME\\lib\\site-packages\\vame-1.0-py3.7.egg\\vame\\analysis\\tree_hierarchy.py\u001b[0m in \u001b[0;36mgraph_to_tree\u001b[1;34m(motif_usage, transition_matrix, n_cluster, merge_sel)\u001b[0m\n\u001b[0;32m    103\u001b[0m \u001b[1;31m#        max_tr = np.max(trans_mat_temp) #merge function\u001b[0m\u001b[1;33m\u001b[0m\u001b[1;33m\u001b[0m\u001b[1;33m\u001b[0m\u001b[0m\n\u001b[0;32m    104\u001b[0m \u001b[1;31m#        nodes = np.where(max_tr == trans_mat_temp)\u001b[0m\u001b[1;33m\u001b[0m\u001b[1;33m\u001b[0m\u001b[1;33m\u001b[0m\u001b[0m\n\u001b[1;32m--> 105\u001b[1;33m         \u001b[0mnodes\u001b[0m \u001b[1;33m=\u001b[0m \u001b[0mmerge_func\u001b[0m\u001b[1;33m(\u001b[0m\u001b[0mtrans_mat_temp\u001b[0m\u001b[1;33m,\u001b[0m \u001b[0mn_cluster\u001b[0m\u001b[1;33m,\u001b[0m \u001b[0mmotif_norm_temp\u001b[0m\u001b[1;33m,\u001b[0m \u001b[0mmerge_sel\u001b[0m\u001b[1;33m)\u001b[0m\u001b[1;33m\u001b[0m\u001b[1;33m\u001b[0m\u001b[0m\n\u001b[0m\u001b[0;32m    106\u001b[0m \u001b[1;33m\u001b[0m\u001b[0m\n\u001b[0;32m    107\u001b[0m         \u001b[1;32mif\u001b[0m \u001b[0mnp\u001b[0m\u001b[1;33m.\u001b[0m\u001b[0msize\u001b[0m\u001b[1;33m(\u001b[0m\u001b[0mnodes\u001b[0m\u001b[1;33m)\u001b[0m \u001b[1;33m>=\u001b[0m \u001b[1;36m2\u001b[0m\u001b[1;33m:\u001b[0m\u001b[1;33m\u001b[0m\u001b[1;33m\u001b[0m\u001b[0m\n",
      "\u001b[1;32mD:\\App\\anaconda3\\envs\\VAME\\lib\\site-packages\\vame-1.0-py3.7.egg\\vame\\analysis\\tree_hierarchy.py\u001b[0m in \u001b[0;36mmerge_func\u001b[1;34m(transition_matrix, n_cluster, motif_norm, merge_sel)\u001b[0m\n\u001b[0;32m     65\u001b[0m             \u001b[1;32mfor\u001b[0m \u001b[0mj\u001b[0m \u001b[1;32min\u001b[0m \u001b[0mrange\u001b[0m\u001b[1;33m(\u001b[0m\u001b[0mn_cluster\u001b[0m\u001b[1;33m)\u001b[0m\u001b[1;33m:\u001b[0m\u001b[1;33m\u001b[0m\u001b[1;33m\u001b[0m\u001b[0m\n\u001b[0;32m     66\u001b[0m                 \u001b[1;32mtry\u001b[0m\u001b[1;33m:\u001b[0m\u001b[1;33m\u001b[0m\u001b[1;33m\u001b[0m\u001b[0m\n\u001b[1;32m---> 67\u001b[1;33m                     \u001b[0mcost\u001b[0m \u001b[1;33m=\u001b[0m \u001b[1;33m(\u001b[0m\u001b[0mmotif_norm\u001b[0m\u001b[1;33m[\u001b[0m\u001b[0mi\u001b[0m\u001b[1;33m]\u001b[0m \u001b[1;33m+\u001b[0m \u001b[0mmotif_norm\u001b[0m\u001b[1;33m[\u001b[0m\u001b[0mj\u001b[0m\u001b[1;33m]\u001b[0m\u001b[1;33m)\u001b[0m \u001b[1;33m/\u001b[0m \u001b[0mnp\u001b[0m\u001b[1;33m.\u001b[0m\u001b[0mabs\u001b[0m\u001b[1;33m(\u001b[0m\u001b[0mtransition_matrix\u001b[0m\u001b[1;33m[\u001b[0m\u001b[0mi\u001b[0m\u001b[1;33m,\u001b[0m\u001b[0mj\u001b[0m\u001b[1;33m]\u001b[0m \u001b[1;33m+\u001b[0m \u001b[0mtransition_matrix\u001b[0m\u001b[1;33m[\u001b[0m\u001b[0mj\u001b[0m\u001b[1;33m,\u001b[0m\u001b[0mi\u001b[0m\u001b[1;33m]\u001b[0m \u001b[1;33m)\u001b[0m\u001b[1;33m\u001b[0m\u001b[1;33m\u001b[0m\u001b[0m\n\u001b[0m\u001b[0;32m     68\u001b[0m                 \u001b[1;32mexcept\u001b[0m \u001b[0mZeroDivisionError\u001b[0m\u001b[1;33m:\u001b[0m\u001b[1;33m\u001b[0m\u001b[1;33m\u001b[0m\u001b[0m\n\u001b[0;32m     69\u001b[0m                     \u001b[0mprint\u001b[0m\u001b[1;33m(\u001b[0m\u001b[1;34m\"Error: Transition probabilities between motif \"\u001b[0m\u001b[1;33m+\u001b[0m\u001b[0mstr\u001b[0m\u001b[1;33m(\u001b[0m\u001b[0mi\u001b[0m\u001b[1;33m)\u001b[0m\u001b[1;33m+\u001b[0m\u001b[1;34m\" and motif \"\u001b[0m\u001b[1;33m+\u001b[0m\u001b[0mstr\u001b[0m\u001b[1;33m(\u001b[0m\u001b[0mj\u001b[0m\u001b[1;33m)\u001b[0m\u001b[1;33m+\u001b[0m \u001b[1;34m\" are zero.\"\u001b[0m\u001b[1;33m)\u001b[0m\u001b[1;33m\u001b[0m\u001b[1;33m\u001b[0m\u001b[0m\n",
      "\u001b[1;31mIndexError\u001b[0m: index 12 is out of bounds for axis 0 with size 12"
     ]
    }
   ],
   "source": [
    "vame.community(config, show_umap=False, cut_tree=None)"
   ]
  },
  {
   "cell_type": "code",
   "execution_count": null,
   "id": "d3c83198",
   "metadata": {},
   "outputs": [],
   "source": [
    "vame.community_videos(config)"
   ]
  },
  {
   "cell_type": "code",
   "execution_count": 5,
   "id": "105518d7",
   "metadata": {},
   "outputs": [
    {
     "name": "stdout",
     "output_type": "stream",
     "text": [
      "Compute embedding for file G266_1st_ns_720p\n",
      "Embedding 5838 data points..\n",
      "Visualizing 5838 data points.. \n"
     ]
    }
   ],
   "source": [
    "vame.visualization(config, label=\"motif\")"
   ]
  },
  {
   "cell_type": "code",
   "execution_count": 8,
   "id": "ada3b0d6",
   "metadata": {},
   "outputs": [
    {
     "name": "stdout",
     "output_type": "stream",
     "text": [
      "Load model... \n"
     ]
    },
    {
     "ename": "RuntimeError",
     "evalue": "Error(s) in loading state_dict for RNN_VAE:\n\tsize mismatch for encoder.encoder_rnn.weight_ih_l0: copying a param with shape torch.Size([768, 16]) from checkpoint, the shape in current model is torch.Size([768, 14]).\n\tsize mismatch for encoder.encoder_rnn.weight_ih_l0_reverse: copying a param with shape torch.Size([768, 16]) from checkpoint, the shape in current model is torch.Size([768, 14]).\n\tsize mismatch for decoder.hidden_to_output.weight: copying a param with shape torch.Size([16, 512]) from checkpoint, the shape in current model is torch.Size([14, 512]).\n\tsize mismatch for decoder.hidden_to_output.bias: copying a param with shape torch.Size([16]) from checkpoint, the shape in current model is torch.Size([14]).\n\tsize mismatch for decoder_future.hidden_to_output.weight: copying a param with shape torch.Size([16, 512]) from checkpoint, the shape in current model is torch.Size([14, 512]).\n\tsize mismatch for decoder_future.hidden_to_output.bias: copying a param with shape torch.Size([16]) from checkpoint, the shape in current model is torch.Size([14]).",
     "output_type": "error",
     "traceback": [
      "\u001b[1;31m---------------------------------------------------------------------------\u001b[0m",
      "\u001b[1;31mRuntimeError\u001b[0m                              Traceback (most recent call last)",
      "\u001b[1;32m~\\AppData\\Local\\Temp\\ipykernel_21444\\2925667858.py\u001b[0m in \u001b[0;36m<module>\u001b[1;34m\u001b[0m\n\u001b[1;32m----> 1\u001b[1;33m \u001b[0mvame\u001b[0m\u001b[1;33m.\u001b[0m\u001b[0mgenerative_model\u001b[0m\u001b[1;33m(\u001b[0m\u001b[0mconfig\u001b[0m\u001b[1;33m,\u001b[0m \u001b[0mmode\u001b[0m\u001b[1;33m=\u001b[0m\u001b[1;34m\"centers\"\u001b[0m\u001b[1;33m)\u001b[0m\u001b[1;33m\u001b[0m\u001b[1;33m\u001b[0m\u001b[0m\n\u001b[0m",
      "\u001b[1;32mD:\\App\\anaconda3\\envs\\VAME\\lib\\site-packages\\vame-1.0-py3.7.egg\\vame\\analysis\\generative_functions.py\u001b[0m in \u001b[0;36mgenerative_model\u001b[1;34m(config, mode)\u001b[0m\n\u001b[0;32m    172\u001b[0m \u001b[1;33m\u001b[0m\u001b[0m\n\u001b[0;32m    173\u001b[0m \u001b[1;33m\u001b[0m\u001b[0m\n\u001b[1;32m--> 174\u001b[1;33m     \u001b[0mmodel\u001b[0m \u001b[1;33m=\u001b[0m \u001b[0mload_model\u001b[0m\u001b[1;33m(\u001b[0m\u001b[0mcfg\u001b[0m\u001b[1;33m,\u001b[0m \u001b[0mmodel_name\u001b[0m\u001b[1;33m)\u001b[0m\u001b[1;33m\u001b[0m\u001b[1;33m\u001b[0m\u001b[0m\n\u001b[0m\u001b[0;32m    175\u001b[0m \u001b[1;33m\u001b[0m\u001b[0m\n\u001b[0;32m    176\u001b[0m     \u001b[1;32mfor\u001b[0m \u001b[0mfile\u001b[0m \u001b[1;32min\u001b[0m \u001b[0mfiles\u001b[0m\u001b[1;33m:\u001b[0m\u001b[1;33m\u001b[0m\u001b[1;33m\u001b[0m\u001b[0m\n",
      "\u001b[1;32mD:\\App\\anaconda3\\envs\\VAME\\lib\\site-packages\\vame-1.0-py3.7.egg\\vame\\analysis\\generative_functions.py\u001b[0m in \u001b[0;36mload_model\u001b[1;34m(cfg, model_name)\u001b[0m\n\u001b[0;32m    137\u001b[0m                             dropout_rec, dropout_pred, softplus).cuda()\n\u001b[0;32m    138\u001b[0m \u001b[1;33m\u001b[0m\u001b[0m\n\u001b[1;32m--> 139\u001b[1;33m     \u001b[0mmodel\u001b[0m\u001b[1;33m.\u001b[0m\u001b[0mload_state_dict\u001b[0m\u001b[1;33m(\u001b[0m\u001b[0mtorch\u001b[0m\u001b[1;33m.\u001b[0m\u001b[0mload\u001b[0m\u001b[1;33m(\u001b[0m\u001b[0mos\u001b[0m\u001b[1;33m.\u001b[0m\u001b[0mpath\u001b[0m\u001b[1;33m.\u001b[0m\u001b[0mjoin\u001b[0m\u001b[1;33m(\u001b[0m\u001b[0mcfg\u001b[0m\u001b[1;33m[\u001b[0m\u001b[1;34m'project_path'\u001b[0m\u001b[1;33m]\u001b[0m\u001b[1;33m,\u001b[0m\u001b[1;34m'model'\u001b[0m\u001b[1;33m,\u001b[0m\u001b[1;34m'best_model'\u001b[0m\u001b[1;33m,\u001b[0m\u001b[0mmodel_name\u001b[0m\u001b[1;33m+\u001b[0m\u001b[1;34m'_'\u001b[0m\u001b[1;33m+\u001b[0m\u001b[0mcfg\u001b[0m\u001b[1;33m[\u001b[0m\u001b[1;34m'Project'\u001b[0m\u001b[1;33m]\u001b[0m\u001b[1;33m+\u001b[0m\u001b[1;34m'.pkl'\u001b[0m\u001b[1;33m)\u001b[0m\u001b[1;33m)\u001b[0m\u001b[1;33m)\u001b[0m\u001b[1;33m\u001b[0m\u001b[1;33m\u001b[0m\u001b[0m\n\u001b[0m\u001b[0;32m    140\u001b[0m     \u001b[0mmodel\u001b[0m\u001b[1;33m.\u001b[0m\u001b[0meval\u001b[0m\u001b[1;33m(\u001b[0m\u001b[1;33m)\u001b[0m\u001b[1;33m\u001b[0m\u001b[1;33m\u001b[0m\u001b[0m\n\u001b[0;32m    141\u001b[0m \u001b[1;33m\u001b[0m\u001b[0m\n",
      "\u001b[1;32mD:\\App\\anaconda3\\envs\\VAME\\lib\\site-packages\\torch\\nn\\modules\\module.py\u001b[0m in \u001b[0;36mload_state_dict\u001b[1;34m(self, state_dict, strict)\u001b[0m\n\u001b[0;32m   1670\u001b[0m         \u001b[1;32mif\u001b[0m \u001b[0mlen\u001b[0m\u001b[1;33m(\u001b[0m\u001b[0merror_msgs\u001b[0m\u001b[1;33m)\u001b[0m \u001b[1;33m>\u001b[0m \u001b[1;36m0\u001b[0m\u001b[1;33m:\u001b[0m\u001b[1;33m\u001b[0m\u001b[1;33m\u001b[0m\u001b[0m\n\u001b[0;32m   1671\u001b[0m             raise RuntimeError('Error(s) in loading state_dict for {}:\\n\\t{}'.format(\n\u001b[1;32m-> 1672\u001b[1;33m                                self.__class__.__name__, \"\\n\\t\".join(error_msgs)))\n\u001b[0m\u001b[0;32m   1673\u001b[0m         \u001b[1;32mreturn\u001b[0m \u001b[0m_IncompatibleKeys\u001b[0m\u001b[1;33m(\u001b[0m\u001b[0mmissing_keys\u001b[0m\u001b[1;33m,\u001b[0m \u001b[0munexpected_keys\u001b[0m\u001b[1;33m)\u001b[0m\u001b[1;33m\u001b[0m\u001b[1;33m\u001b[0m\u001b[0m\n\u001b[0;32m   1674\u001b[0m \u001b[1;33m\u001b[0m\u001b[0m\n",
      "\u001b[1;31mRuntimeError\u001b[0m: Error(s) in loading state_dict for RNN_VAE:\n\tsize mismatch for encoder.encoder_rnn.weight_ih_l0: copying a param with shape torch.Size([768, 16]) from checkpoint, the shape in current model is torch.Size([768, 14]).\n\tsize mismatch for encoder.encoder_rnn.weight_ih_l0_reverse: copying a param with shape torch.Size([768, 16]) from checkpoint, the shape in current model is torch.Size([768, 14]).\n\tsize mismatch for decoder.hidden_to_output.weight: copying a param with shape torch.Size([16, 512]) from checkpoint, the shape in current model is torch.Size([14, 512]).\n\tsize mismatch for decoder.hidden_to_output.bias: copying a param with shape torch.Size([16]) from checkpoint, the shape in current model is torch.Size([14]).\n\tsize mismatch for decoder_future.hidden_to_output.weight: copying a param with shape torch.Size([16, 512]) from checkpoint, the shape in current model is torch.Size([14, 512]).\n\tsize mismatch for decoder_future.hidden_to_output.bias: copying a param with shape torch.Size([16]) from checkpoint, the shape in current model is torch.Size([14])."
     ]
    }
   ],
   "source": [
    "vame.generative_model(config, mode=\"centers\")"
   ]
  },
  {
   "cell_type": "code",
   "execution_count": 15,
   "id": "f7001f2b",
   "metadata": {},
   "outputs": [
    {
     "name": "stderr",
     "output_type": "stream",
     "text": [
      "Align frames: 100%|████████████████████████████████████████████████████████████████| 1500/1500 [00:15<00:00, 96.84it/s]\n",
      "100%|██████████████████████████████████████████████████████████████████████████████| 1500/1500 [02:32<00:00,  9.85it/s]\n"
     ]
    }
   ],
   "source": [
    "vame.gif(config, pose_ref_index=[0,0], subtract_background=False, start=0, length=1500, max_lag=30, label='motif', file_format='.mp4', crop_size=(360,240))"
   ]
  },
  {
   "cell_type": "code",
   "execution_count": 16,
   "id": "aa89813e",
   "metadata": {},
   "outputs": [],
   "source": [
    "import imageio\n",
    "from PIL import Image\n",
    "\n",
    "frames = []\n",
    "for i in range(575):\n",
    "    frames.append(Image.open(fr\"D:\\works\\Data_analysis\\projects\\balance_beam\\Balance_Beam_VAME-MX-Feb8-2023\\results\\G266_1st_ns_720p\\VAME\\hmm-16\\gif_frames\\G266_1st_ns_720pgif_{i}.png\"))\n",
    "\n",
    "imageio.mimsave(r'C:\\Users\\Meng-Xuan Liu\\Desktop\\demo.gif', frames, 'GIF', fps=25)"
   ]
  },
  {
   "cell_type": "code",
   "execution_count": null,
   "id": "19295dc4",
   "metadata": {},
   "outputs": [],
   "source": [
    "0"
   ]
  }
 ],
 "metadata": {
  "kernelspec": {
   "display_name": "Python 3 (ipykernel)",
   "language": "python",
   "name": "python3"
  },
  "language_info": {
   "codemirror_mode": {
    "name": "ipython",
    "version": 3
   },
   "file_extension": ".py",
   "mimetype": "text/x-python",
   "name": "python",
   "nbconvert_exporter": "python",
   "pygments_lexer": "ipython3",
   "version": "3.7.16"
  }
 },
 "nbformat": 4,
 "nbformat_minor": 5
}
