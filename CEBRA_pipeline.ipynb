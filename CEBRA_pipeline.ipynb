{
 "cells": [
  {
   "cell_type": "code",
   "execution_count": 31,
   "metadata": {},
   "outputs": [],
   "source": [
    "# Data info\n",
    "file_fold = r\"D:\\works\\Data_analysis\\projects\\balance_beam\\2023May\\preprocessed_DLC_data\\pose_estimation\"\n",
    "keypoints = [\"start\",\"end\",\"nose\",\"vertex\",\"ear_R\",\"spine_fore\",\"spine_mid\",\"spine_hind\",\"tail_base\",\"tail1\",\"tail2\",\"tail3\",\"tail_tip\",\"lateral_body\",\"belly_fore\",\"belly_mid\",\"belly_hind\",\"forelimb_R\",\"forelimb_L\",\"hindlimb_R\",\"hindlimb_L\"]\n",
    "scorer = \"DLC_resnet50_Balance_BeamMay29shuffle1_150000\""
   ]
  },
  {
   "cell_type": "code",
   "execution_count": 27,
   "metadata": {},
   "outputs": [],
   "source": [
    "#convert preprocessed-csv to .h5\n",
    "\n",
    "import os\n",
    "import pandas as pd\n",
    "from itertools import islice\n",
    "\n",
    "def convertcsv2h5(csv_dir_path, scorer):\n",
    "    for filename in os.listdir(csv_dir_path):\n",
    "        if os.path.splitext(filename)[1] == \".csv\":\n",
    "            csv_file_path = os.path.join(csv_dir_path, filename)\n",
    "            with open(csv_file_path) as datafile:\n",
    "                head = list(islice(datafile, 0, 5))\n",
    "            if \"individuals\" in head[1]:\n",
    "                header = list(range(4))\n",
    "            else:\n",
    "                header = list(range(3))\n",
    "            if head[-1].split(\",\")[0] == \"labeled-data\":\n",
    "                index_col = [0, 1, 2]\n",
    "            else:\n",
    "                index_col = 0\n",
    "            data = pd.read_csv(csv_file_path, index_col=index_col, header=header)\n",
    "            data.columns = data.columns.set_levels([scorer], level=\"scorer\")\n",
    "            guarantee_multiindex_rows(data)\n",
    "            data.to_hdf(csv_file_path.replace(\".csv\", \".h5\"), key=\"df_with_missing\", mode=\"w\")\n",
    "            data.to_csv(csv_file_path)\n",
    "\n",
    "\n",
    "def guarantee_multiindex_rows(df):\n",
    "    # Make paths platform-agnostic if they are not already\n",
    "    if not isinstance(df.index, pd.MultiIndex):  # Backwards compatibility\n",
    "        path = df.index[0]\n",
    "        try:\n",
    "            sep = \"/\" if \"/\" in path else \"\\\\\"\n",
    "            splits = tuple(df.index.str.split(sep))\n",
    "            df.index = pd.MultiIndex.from_tuples(splits)\n",
    "        except TypeError:  #  Ignore numerical index of frame indices\n",
    "            pass\n",
    "\n",
    "    # Ensure folder names are strings\n",
    "    try:\n",
    "        df.index = df.index.set_levels(df.index.levels[1].astype(str), level=1)\n",
    "    except AttributeError:\n",
    "        pass\n",
    "\n",
    "def robust_split_path(s):\n",
    "    sep = \"/\" if \"/\" in s else \"\\\\\"\n",
    "    return tuple(s.split(sep))\n",
    "\n",
    "convertcsv2h5(file_fold,scorer)\n"
   ]
  },
  {
   "cell_type": "code",
   "execution_count": null,
   "metadata": {},
   "outputs": [],
   "source": []
  },
  {
   "cell_type": "code",
   "execution_count": 33,
   "metadata": {},
   "outputs": [],
   "source": [
    "import cebra\n",
    "dlc_data = cebra.load_deeplabcut(r\"D:\\works\\Data_analysis\\projects\\balance_beam\\2023May\\preprocessed_DLC_data\\pose_estimation\\0518_DoB0904A_baseline_cropped.h5\", keypoints, pcutoff=0.6)"
   ]
  },
  {
   "cell_type": "code",
   "execution_count": 34,
   "metadata": {},
   "outputs": [
    {
     "name": "stdout",
     "output_type": "stream",
     "text": [
      "[[ 190.92863464  138.32229614 1681.65600586 ...  125.32406616\n",
      "     6.20021725   60.12770844]\n",
      " [ 191.03100586  138.31993866 1681.70245361 ...  125.22744751\n",
      "    18.68275309   64.33098602]\n",
      " [ 191.09003448  138.41899109 1681.71075439 ...  125.12253952\n",
      "    82.40930176  125.74793243]\n",
      " ...\n",
      " [ 194.23046112  137.30818176 1680.73986816 ...  136.14614868\n",
      "  1649.51049805  129.21653748]\n",
      " [ 194.16217041  137.26894379 1681.70983887 ...  135.35223389\n",
      "  1649.45458984  129.44108582]\n",
      " [ 194.08274841  137.23641968 1682.3671875  ...  135.0994873\n",
      "  1657.95947266  129.77262878]]\n"
     ]
    }
   ],
   "source": [
    "print(dlc_data)"
   ]
  }
 ],
 "metadata": {
  "kernelspec": {
   "display_name": "base",
   "language": "python",
   "name": "python3"
  },
  "language_info": {
   "codemirror_mode": {
    "name": "ipython",
    "version": 3
   },
   "file_extension": ".py",
   "mimetype": "text/x-python",
   "name": "python",
   "nbconvert_exporter": "python",
   "pygments_lexer": "ipython3",
   "version": "3.9.16"
  },
  "orig_nbformat": 4
 },
 "nbformat": 4,
 "nbformat_minor": 2
}
