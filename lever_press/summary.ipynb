{
 "cells": [
  {
   "cell_type": "code",
   "execution_count": 2,
   "metadata": {},
   "outputs": [
    {
     "name": "stderr",
     "output_type": "stream",
     "text": [
      "C:\\Users\\Meng-Xuan Liu\\AppData\\Local\\Temp\\ipykernel_25300\\1186686303.py:35: DtypeWarning: Columns (2) have mixed types. Specify dtype option on import or set low_memory=False.\n",
      "  df = pd.read_csv(data_file_dir)\n"
     ]
    }
   ],
   "source": [
    "#load data file\n",
    "import os\n",
    "import pandas as pd\n",
    "import traceback\n",
    "from tkinter import Tk, filedialog\n",
    "\n",
    "# 選取多個資料檔案\n",
    "\n",
    "def get_file_paths():\n",
    "    root = Tk()\n",
    "    root.attributes('-topmost', True)  # 將主視窗設置為最上層\n",
    "    root.withdraw()\n",
    "\n",
    "    file_paths = []\n",
    "\n",
    "    while True:\n",
    "        files = filedialog.askopenfilenames(parent=root, title='選擇資料檔案', filetypes=[('CSV files', '*.csv')])\n",
    "        if not files:\n",
    "            break\n",
    "        file_paths.extend(files)\n",
    "\n",
    "    return file_paths\n",
    "\n",
    "data_file_paths = get_file_paths()\n",
    "\n",
    "all_raw_df = {}\n",
    "data_file_name = {}\n",
    "\n",
    "\n",
    "# 循環處理每個選取的檔案\n",
    "for index, data_file_dir in enumerate(data_file_paths):\n",
    "    try:\n",
    "        data_file_name[index] = os.path.basename(data_file_dir)\n",
    "\n",
    "        df = pd.read_csv(data_file_dir)\n",
    "        all_raw_df[index] = df\n",
    "\n",
    "    except Exception as e:\n",
    "        print(\"格式錯誤檔案:\" + data_file_name[index])\n",
    "        traceback.print_exc()"
   ]
  },
  {
   "cell_type": "code",
   "execution_count": 5,
   "metadata": {},
   "outputs": [],
   "source": [
    "excel_writer = pd.ExcelWriter(r\"G:\\works\\Data_archive\\PR_test\\Cutoff1min_30min_summary.xlsx\")\n",
    "result = pd.DataFrame()\n",
    "\n",
    "for index, df in enumerate(all_raw_df.values()):\n",
    "\n",
    "    # 找到時間或Last_press大於1800000的行\n",
    "    df = df.loc[(df['Time'] > 900000)].copy()\n",
    "    filtered_df = df.loc[(df['Time'] > 1800000) | (df['Last_press'] > 60000)].copy()\n",
    "    filtered_df.loc[:, 'ID'] = data_file_name[index]\n",
    "\n",
    "    # 選擇\"Lever_Press\"和\"Reward\"列的第一行\n",
    "    row_to_add = pd.DataFrame(filtered_df[['Lever_Press', 'Reward', 'ID']].iloc[0]).transpose()\n",
    "    result = pd.concat([result, row_to_add], ignore_index=True)\n",
    "    # 假設result是一個DataFrame\n",
    "    columns = ['ID'] + [col for col in result.columns if col != 'ID']\n",
    "    result = result.reindex(columns=columns)\n",
    "\n",
    "result.to_excel(excel_writer, index=False)\n",
    "excel_writer.close()"
   ]
  }
 ],
 "metadata": {
  "kernelspec": {
   "display_name": "basic",
   "language": "python",
   "name": "python3"
  },
  "language_info": {
   "codemirror_mode": {
    "name": "ipython",
    "version": 3
   },
   "file_extension": ".py",
   "mimetype": "text/x-python",
   "name": "python",
   "nbconvert_exporter": "python",
   "pygments_lexer": "ipython3",
   "version": "3.11.5"
  }
 },
 "nbformat": 4,
 "nbformat_minor": 2
}
