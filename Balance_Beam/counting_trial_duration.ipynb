{
 "cells": [
  {
   "cell_type": "code",
   "execution_count": 1,
   "metadata": {},
   "outputs": [
    {
     "name": "stderr",
     "output_type": "stream",
     "text": [
      "d:\\App\\anaconda3\\lib\\site-packages\\xlsxwriter\\workbook.py:339: UserWarning: Calling close() on already closed file.\n",
      "  warn(\"Calling close() on already closed file.\")\n"
     ]
    }
   ],
   "source": [
    "import os\n",
    "import pandas as pd\n",
    "\n",
    "# 資料夾路徑\n",
    "folder_path = r\"D:\\works\\Data_analysis\\projects\\balance_beam\\2023May\\preprocessed_DLC_data\\pose_estimation\"\n",
    "\n",
    "# 儲存結果的DataFrame\n",
    "result_df = pd.DataFrame(columns=['檔名', '總歷時', '在beam上的歷時'])\n",
    "\n",
    "# 處理資料夾中的每個檔案\n",
    "for file_name in os.listdir(folder_path):\n",
    "    if file_name.endswith('.csv'):\n",
    "        file_path = os.path.join(folder_path, file_name)\n",
    "        \n",
    "        # 讀取資料並指定多層次標題\n",
    "        df = pd.read_csv(file_path, header=[0, 1, 2])\n",
    "        \n",
    "        column_start_x = df[('DLC_resnet50_Balance_BeamMay29shuffle1_150000', 'start', 'x')]\n",
    "        column_lateral_body_x = df[('DLC_resnet50_Balance_BeamMay29shuffle1_150000', 'lateral_body', 'x')]\n",
    "        \n",
    "        # 使用布林索引比較兩個欄位的值\n",
    "        filtered_rows = df[column_lateral_body_x >= column_start_x]\n",
    "        \n",
    "        # 計算總歷時和在beam上的歷時\n",
    "        total_duration = len(column_lateral_body_x)\n",
    "        on_beam_duration = len(filtered_rows)\n",
    "        \n",
    "        # 建立包含結果的DataFrame\n",
    "        result_row = pd.DataFrame({\n",
    "            '檔名': [file_name],\n",
    "            '總歷時': [total_duration],\n",
    "            '在beam上的歷時': [on_beam_duration]\n",
    "        })\n",
    "        \n",
    "        # 將結果加入結果DataFrame\n",
    "        result_df = pd.concat([result_df, result_row])\n",
    "\n",
    "\n",
    "# 讀取結果檔案\n",
    "df = result_df\n",
    "\n",
    "# 提取日期和treatment的資訊\n",
    "df['日期'] = df['檔名'].str.extract(r'(\\d{4})')\n",
    "df['treatment'] = df['檔名'].str.extract(r'_([A-Za-z]+)_')\n",
    "\n",
    "# 建立Excel寫入器\n",
    "writer = pd.ExcelWriter('duration_result.xlsx')\n",
    "\n",
    "\n",
    " \n",
    "# 分組寫入不同分頁\n",
    "for (date, treatment), group in df.groupby(['日期', 'treatment']):\n",
    "    sheet_name = f\"{date}_{treatment}\"\n",
    "    group.to_excel(writer, sheet_name=sheet_name, index=False)\n",
    "\n",
    "# 保存Excel文件\n",
    "writer.save()\n"
   ]
  }
 ],
 "metadata": {
  "kernelspec": {
   "display_name": "base",
   "language": "python",
   "name": "python3"
  },
  "language_info": {
   "codemirror_mode": {
    "name": "ipython",
    "version": 3
   },
   "file_extension": ".py",
   "mimetype": "text/x-python",
   "name": "python",
   "nbconvert_exporter": "python",
   "pygments_lexer": "ipython3",
   "version": "3.9.13"
  },
  "orig_nbformat": 4
 },
 "nbformat": 4,
 "nbformat_minor": 2
}
