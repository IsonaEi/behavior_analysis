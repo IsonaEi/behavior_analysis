{
 "cells": [
  {
   "cell_type": "code",
   "execution_count": 3,
   "metadata": {},
   "outputs": [
    {
     "name": "stdout",
     "output_type": "stream",
     "text": [
      "洗牌並代號化完成，影片已複製到新資料夾。\n",
      "對應關係已儲存至 mapping.csv 檔案中。\n"
     ]
    }
   ],
   "source": [
    "import os\n",
    "import random\n",
    "import string\n",
    "import pandas as pd\n",
    "import shutil\n",
    "\n",
    "# 輸入影片所在的資料夾\n",
    "video_folder = r\"D:\\works\\Data_analysis\\projects\\balance_beam\\2023May\\preprocessed_DLC_data\"\n",
    "\n",
    "# 取得影片檔案清單\n",
    "video_files = [f for f in os.listdir(video_folder) if f.endswith('.mp4')]\n",
    "\n",
    "# 洗牌並產生檔名代號\n",
    "shuffled_files = random.sample(video_files, len(video_files))\n",
    "file_codes = [''.join(random.choices(string.ascii_lowercase, k=3)) for _ in range(len(video_files))]\n",
    "\n",
    "# 建立新資料夾\n",
    "output_folder = os.path.join(video_folder, \"shuffled_video\")\n",
    "os.makedirs(output_folder, exist_ok=True)\n",
    "\n",
    "# 複製並重新命名影片到新資料夾\n",
    "mapping_data = []\n",
    "for original_file, file_code in zip(shuffled_files, file_codes):\n",
    "    new_file = f\"{file_code}.mp4\"\n",
    "    shutil.copyfile(os.path.join(video_folder, original_file), os.path.join(output_folder, new_file))\n",
    "    mapping_data.append((original_file, new_file))\n",
    "\n",
    "# 儲存對應關係到CSV檔案\n",
    "mapping_df = pd.DataFrame(mapping_data, columns=[\"original file name\", \"code\"])\n",
    "mapping_csv = os.path.join(output_folder, \"mapping.csv\")\n",
    "mapping_df.to_csv(mapping_csv, index=False)\n",
    "\n",
    "print(\"洗牌並代號化完成，影片已複製到新資料夾。\")\n",
    "print(\"對應關係已儲存至 mapping.csv 檔案中。\")\n"
   ]
  }
 ],
 "metadata": {
  "kernelspec": {
   "display_name": "base",
   "language": "python",
   "name": "python3"
  },
  "language_info": {
   "codemirror_mode": {
    "name": "ipython",
    "version": 3
   },
   "file_extension": ".py",
   "mimetype": "text/x-python",
   "name": "python",
   "nbconvert_exporter": "python",
   "pygments_lexer": "ipython3",
   "version": "3.9.13"
  },
  "orig_nbformat": 4
 },
 "nbformat": 4,
 "nbformat_minor": 2
}
