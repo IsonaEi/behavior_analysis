{
 "cells": [
  {
   "cell_type": "code",
   "execution_count": 3,
   "metadata": {},
   "outputs": [
    {
     "name": "stdout",
     "output_type": "stream",
     "text": [
      "洗牌並代號化完成，影片已複製到新資料夾。\n",
      "對應關係已儲存至 mapping.csv 檔案中。\n"
     ]
    }
   ],
   "source": [
    "import os\n",
    "import random\n",
    "import string\n",
    "import pandas as pd\n",
    "import shutil\n",
    "\n",
    "# 輸入影片所在的資料夾\n",
    "video_folder = r\"D:\\works\\Data_analysis\\projects\\balance_beam\\2023May\\preprocessed_DLC_data\"\n",
    "\n",
    "# 取得影片檔案清單\n",
    "video_files = [f for f in os.listdir(video_folder) if f.endswith('.mp4')]\n",
    "\n",
    "# 洗牌並產生檔名代號\n",
    "shuffled_files = random.sample(video_files, len(video_files))\n",
    "file_codes = [''.join(random.choices(string.ascii_lowercase, k=3)) for _ in range(len(video_files))]\n",
    "\n",
    "# 建立新資料夾\n",
    "output_folder = os.path.join(video_folder, \"shuffled_video\")\n",
    "os.makedirs(output_folder, exist_ok=True)\n",
    "\n",
    "# 複製並重新命名影片到新資料夾\n",
    "mapping_data = []\n",
    "for original_file, file_code in zip(shuffled_files, file_codes):\n",
    "    new_file = f\"{file_code}.mp4\"\n",
    "    shutil.copyfile(os.path.join(video_folder, original_file), os.path.join(output_folder, new_file))\n",
    "    mapping_data.append((original_file, new_file))\n",
    "\n",
    "# 儲存對應關係到CSV檔案\n",
    "mapping_df = pd.DataFrame(mapping_data, columns=[\"original file name\", \"code\"])\n",
    "mapping_csv = os.path.join(output_folder, \"mapping.csv\")\n",
    "mapping_df.to_csv(mapping_csv, index=False)\n",
    "\n",
    "print(\"洗牌並代號化完成，影片已複製到新資料夾。\")\n",
    "print(\"對應關係已儲存至 mapping.csv 檔案中。\")\n"
   ]
  },
  {
   "cell_type": "code",
   "execution_count": 1,
   "metadata": {},
   "outputs": [],
   "source": [
    "import pandas as pd\n",
    "\n",
    "# 讀取原檔名與代碼對應的CSV檔案\n",
    "mapping_df = pd.read_csv(r\"D:\\works\\Data_analysis\\projects\\balance_beam\\2023May\\preprocessed_DLC_data\\shuffled_video\\mapping.csv\")\n",
    "\n",
    "# 讀取實驗數據的CSV檔案\n",
    "data_df = pd.read_csv(r\"G:\\works\\Data_analysis\\projects\\balance_beam\\2023May\\normal_walk.csv\")\n",
    "\n",
    "# 將代碼替換為原檔名\n",
    "data_df = data_df.merge(mapping_df, on='code', how='left')\n",
    "data_df.rename(columns={'original file name': 'original_file_name'}, inplace=True)\n",
    "\n",
    "# 提取日期和處理方式的資訊\n",
    "data_df['日期'] = data_df['original_file_name'].str.extract(r'(\\d{4})')\n",
    "data_df['處理方式'] = data_df['original_file_name'].str.extract(r'_([A-Za-z]+)_')\n",
    "\n",
    "# 建立Excel寫入器\n",
    "writer = pd.ExcelWriter('grouped_balance_beam_normal_walk_data.xlsx')\n",
    "\n",
    "# 分組寫入不同分頁\n",
    "for (date, treatment), group in data_df.groupby(['日期', '處理方式']):\n",
    "    sheet_name = f\"{date}_{treatment}\"\n",
    "    group.to_excel(writer, sheet_name=sheet_name, index=False)\n",
    "\n",
    "# 保存Excel文件\n",
    "writer.save()\n",
    "\n"
   ]
  }
 ],
 "metadata": {
  "kernelspec": {
   "display_name": "base",
   "language": "python",
   "name": "python3"
  },
  "language_info": {
   "codemirror_mode": {
    "name": "ipython",
    "version": 3
   },
   "file_extension": ".py",
   "mimetype": "text/x-python",
   "name": "python",
   "nbconvert_exporter": "python",
   "pygments_lexer": "ipython3",
   "version": "3.9.13"
  },
  "orig_nbformat": 4
 },
 "nbformat": 4,
 "nbformat_minor": 2
}
