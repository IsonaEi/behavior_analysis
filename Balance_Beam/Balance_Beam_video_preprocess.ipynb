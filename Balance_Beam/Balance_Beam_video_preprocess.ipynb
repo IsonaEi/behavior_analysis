{
 "cells": [
  {
   "cell_type": "code",
   "execution_count": 1,
   "metadata": {},
   "outputs": [
    {
     "data": {
      "application/vnd.jupyter.widget-view+json": {
       "model_id": "21f03dce380245cf9b5effc674c22d13",
       "version_major": 2,
       "version_minor": 0
      },
      "text/plain": [
       "total_file:   0%|          | 0/45 [00:00<?, ?it/s]"
      ]
     },
     "metadata": {},
     "output_type": "display_data"
    },
    {
     "data": {
      "application/vnd.jupyter.widget-view+json": {
       "model_id": "5c43d0c76d9a420095c9ece44b34f42b",
       "version_major": 2,
       "version_minor": 0
      },
      "text/plain": [
       "0519_G291_CTZ.MP4:   0%|          | 0/12336 [00:00<?, ?it/s]"
      ]
     },
     "metadata": {},
     "output_type": "display_data"
    },
    {
     "ename": "KeyboardInterrupt",
     "evalue": "",
     "output_type": "error",
     "traceback": [
      "\u001b[1;31m---------------------------------------------------------------------------\u001b[0m",
      "\u001b[1;31mKeyboardInterrupt\u001b[0m                         Traceback (most recent call last)",
      "Cell \u001b[1;32mIn[1], line 69\u001b[0m\n\u001b[0;32m     66\u001b[0m         sleep(\u001b[39m0.001\u001b[39m)\n\u001b[0;32m     68\u001b[0m         \u001b[39m# 按下'q'鍵退出\u001b[39;00m\n\u001b[1;32m---> 69\u001b[0m         \u001b[39mif\u001b[39;00m cv2\u001b[39m.\u001b[39;49mwaitKey(\u001b[39m1\u001b[39;49m) \u001b[39m&\u001b[39m \u001b[39m0xFF\u001b[39m \u001b[39m==\u001b[39m \u001b[39mord\u001b[39m(\u001b[39m'\u001b[39m\u001b[39mq\u001b[39m\u001b[39m'\u001b[39m):\n\u001b[0;32m     70\u001b[0m             \u001b[39mbreak\u001b[39;00m\n\u001b[0;32m     72\u001b[0m \u001b[39m# 釋放資源\u001b[39;00m\n",
      "\u001b[1;31mKeyboardInterrupt\u001b[0m: "
     ]
    }
   ],
   "source": [
    "import os\n",
    "import cv2\n",
    "from tkinter import Tk\n",
    "from tkinter.filedialog import askdirectory\n",
    "from tqdm.notebook import tqdm\n",
    "from time import sleep\n",
    "\n",
    "# 開啟資料夾對話框，讓使用者選擇資料夾\n",
    "Tk().withdraw()\n",
    "foldername = askdirectory(title='選擇資料夾')\n",
    "\n",
    "# 取得資料夾內的所有影片檔案\n",
    "video_files = [f for f in os.listdir(foldername) if f.endswith('.MP4')]\n",
    "# 輸出資料夾設定\n",
    "output_dir = askdirectory(title='選擇輸出資料夾')\n",
    "\n",
    "for filename in tqdm(video_files, desc='total_file'):\n",
    "    # 影片檔案的完整路徑\n",
    "    filepath = os.path.join(foldername, filename)\n",
    "\n",
    "    # 讀取影片\n",
    "    cap = cv2.VideoCapture(filepath)\n",
    "\n",
    "    # 獲取原始影片的尺寸\n",
    "    width = int(cap.get(cv2.CAP_PROP_FRAME_WIDTH))\n",
    "    height = int(cap.get(cv2.CAP_PROP_FRAME_HEIGHT))\n",
    "\n",
    "    # 新的裁切後的尺寸\n",
    "    new_width = width\n",
    "    new_height = height // 4  # 裁去上四分之一和下四分之一\n",
    "\n",
    "    # 計算裁切後的上下邊界\n",
    "    top = int(height // (8/3))\n",
    "    bottom = top + new_height\n",
    "\n",
    "    \n",
    "\n",
    "    # 輸出影片設定\n",
    "    fourcc = cv2.VideoWriter_fourcc(*'mp4v')\n",
    "    fps = cap.get(cv2.CAP_PROP_FPS)\n",
    "    filename_without_ext = os.path.splitext(filename)[0]\n",
    "    output_filename = os.path.join(output_dir, f\"{filename_without_ext}_cropped.mp4\")\n",
    "    output = cv2.VideoWriter(output_filename, fourcc, fps, (new_width, new_height))\n",
    "\n",
    "    total_frames = int(cap.get(cv2.CAP_PROP_FRAME_COUNT))\n",
    "\n",
    "    # 使用 tqdm 顯示進度條\n",
    "    with tqdm(total=total_frames, desc=filename) as pbar2:\n",
    "        while True:\n",
    "            ret, frame = cap.read()\n",
    "\n",
    "            if not ret:\n",
    "                break\n",
    "\n",
    "            # 裁切畫面大小\n",
    "            cropped_frame = frame[top:bottom, :]\n",
    "\n",
    "            # # 顯示裁切後的畫面\n",
    "            # cv2.imshow('Cropped Frame', cropped_frame)\n",
    "\n",
    "            # 輸出裁切後的影片\n",
    "            output.write(cropped_frame)\n",
    "\n",
    "            # 更新進度條\n",
    "            pbar2.update(1)\n",
    "            sleep(0.001)\n",
    "\n",
    "            # 按下'q'鍵退出\n",
    "            if cv2.waitKey(1) & 0xFF == ord('q'):\n",
    "                break\n",
    "\n",
    "    # 釋放資源\n",
    "    cap.release()\n",
    "    output.release()\n",
    "\n",
    "cv2.destroyAllWindows()"
   ]
  },
  {
   "cell_type": "code",
   "execution_count": 2,
   "metadata": {},
   "outputs": [
    {
     "data": {
      "application/vnd.jupyter.widget-view+json": {
       "model_id": "14d9f9ba08e041a9a342b507b9e61db1",
       "version_major": 2,
       "version_minor": 0
      },
      "text/plain": [
       "total_file:   0%|          | 0/45 [00:00<?, ?it/s]"
      ]
     },
     "metadata": {},
     "output_type": "display_data"
    }
   ],
   "source": [
    "import os\n",
    "import cv2\n",
    "from tkinter import Tk\n",
    "from tkinter.filedialog import askdirectory\n",
    "from tqdm.notebook import tqdm\n",
    "from time import sleep\n",
    "from multiprocessing import Pool, cpu_count\n",
    "\n",
    "# 單一影片處理函式\n",
    "def process_video(filename):\n",
    "    # 影片檔案的完整路徑\n",
    "    filepath = os.path.join(foldername, filename)\n",
    "\n",
    "    # 讀取影片\n",
    "    cap = cv2.VideoCapture(filepath)\n",
    "\n",
    "    # 獲取原始影片的尺寸\n",
    "    width = int(cap.get(cv2.CAP_PROP_FRAME_WIDTH))\n",
    "    height = int(cap.get(cv2.CAP_PROP_FRAME_HEIGHT))\n",
    "\n",
    "    # 新的裁切後的尺寸\n",
    "    new_width = width\n",
    "    new_height = height // 4  # 裁去上四分之一和下四分之一\n",
    "\n",
    "    # 計算裁切後的上下邊界\n",
    "    top = int(height // (8/3))\n",
    "    bottom = top + new_height\n",
    "\n",
    "    # 輸出影片設定\n",
    "    fourcc = cv2.VideoWriter_fourcc(*'mp4v')\n",
    "    fps = cap.get(cv2.CAP_PROP_FPS)\n",
    "    filename_without_ext = os.path.splitext(filename)[0]\n",
    "    output_filename = os.path.join(output_dir, f\"{filename_without_ext}_cropped.mp4\")\n",
    "    output = cv2.VideoWriter(output_filename, fourcc, fps, (new_width, new_height))\n",
    "\n",
    "    total_frames = int(cap.get(cv2.CAP_PROP_FRAME_COUNT))\n",
    "\n",
    "    # 使用 tqdm 顯示進度條\n",
    "    with tqdm(total=total_frames, desc=filename) as pbar2:\n",
    "        while True:\n",
    "            ret, frame = cap.read()\n",
    "\n",
    "            if not ret:\n",
    "                break\n",
    "\n",
    "            # 裁切畫面大小\n",
    "            cropped_frame = frame[top:bottom, :]\n",
    "\n",
    "            # 輸出裁切後的影片\n",
    "            output.write(cropped_frame)\n",
    "\n",
    "            # 更新進度條\n",
    "            pbar2.update(1)\n",
    "            sleep(0.001)\n",
    "\n",
    "            # 按下'q'鍵退出\n",
    "            if cv2.waitKey(1) & 0xFF == ord('q'):\n",
    "                break\n",
    "\n",
    "    # 釋放資源\n",
    "    cap.release()\n",
    "    output.release()\n",
    "    cv2.destroyAllWindows()\n",
    "\n",
    "# 開啟資料夾對話框，讓使用者選擇資料夾\n",
    "Tk().withdraw()\n",
    "foldername = askdirectory(title='選擇資料夾')\n",
    "\n",
    "# 取得資料夾內的所有影片檔案\n",
    "video_files = [f for f in os.listdir(foldername) if f.endswith('.MP4')]\n",
    "# 輸出資料夾設定\n",
    "output_dir = askdirectory(title='選擇輸出資料夾')\n",
    "\n",
    "# 創建處理程序池\n",
    "pool = Pool(cpu_count())\n",
    "\n",
    "for filename in tqdm(video_files, desc='total_file'):\n",
    "    pool.apply_async(process_video, args=(filename,))\n",
    "\n",
    "# 等待所有處理程序結束\n",
    "pool.close()\n",
    "pool.join()\n"
   ]
  }
 ],
 "metadata": {
  "kernelspec": {
   "display_name": "napari-env",
   "language": "python",
   "name": "python3"
  },
  "language_info": {
   "codemirror_mode": {
    "name": "ipython",
    "version": 3
   },
   "file_extension": ".py",
   "mimetype": "text/x-python",
   "name": "python",
   "nbconvert_exporter": "python",
   "pygments_lexer": "ipython3",
   "version": "3.9.15"
  },
  "orig_nbformat": 4
 },
 "nbformat": 4,
 "nbformat_minor": 2
}
